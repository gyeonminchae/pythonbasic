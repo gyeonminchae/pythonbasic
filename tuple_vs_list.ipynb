{
 "cells": [
  {
   "cell_type": "code",
   "execution_count": 6,
   "id": "4dc87120-dfcf-4b77-8f8a-2fc128a193dc",
   "metadata": {},
   "outputs": [
    {
     "name": "stdout",
     "output_type": "stream",
     "text": [
      "0.20922422409057617\n"
     ]
    }
   ],
   "source": [
    "import time\n",
    "\n",
    "start_time = time.time() # 시작하는 시간\n",
    "test = []\n",
    "\n",
    "# 1,000,000번을 반복해서 tuple 만듭니다.\n",
    "for _ in range(1_000_000):\n",
    "    tp = (_,_) # tuple\n",
    "    test.append(tp)\n",
    "\n",
    "# 끝나는 시간 - 시작하는 시간\n",
    "print(time.time() - start_time)\n",
    "# 동작한 시간"
   ]
  },
  {
   "cell_type": "code",
   "execution_count": 7,
   "id": "6efbb38d-074e-40a8-85eb-a55f20da2e96",
   "metadata": {},
   "outputs": [
    {
     "name": "stdout",
     "output_type": "stream",
     "text": [
      "0.48479223251342773\n"
     ]
    }
   ],
   "source": [
    "start_time = time.time()\n",
    "test = []\n",
    "\n",
    "for _ in range(1_000_000):\n",
    "    tp = [_,_] # list\n",
    "    test.append(tp)\n",
    "    \n",
    "print(time.time() - start_time)"
   ]
  },
  {
   "cell_type": "code",
   "execution_count": 8,
   "id": "6680be0d-42da-43b7-975f-c0ab0dfd648b",
   "metadata": {},
   "outputs": [],
   "source": [
    "# error"
   ]
  },
  {
   "cell_type": "code",
   "execution_count": null,
   "id": "33fe93e0-7d78-4b75-bf19-df7c10cb3063",
   "metadata": {},
   "outputs": [],
   "source": []
  }
 ],
 "metadata": {
  "kernelspec": {
   "display_name": "Python 3 (ipykernel)",
   "language": "python",
   "name": "python3"
  },
  "language_info": {
   "codemirror_mode": {
    "name": "ipython",
    "version": 3
   },
   "file_extension": ".py",
   "mimetype": "text/x-python",
   "name": "python",
   "nbconvert_exporter": "python",
   "pygments_lexer": "ipython3",
   "version": "3.9.13"
  }
 },
 "nbformat": 4,
 "nbformat_minor": 5
}
