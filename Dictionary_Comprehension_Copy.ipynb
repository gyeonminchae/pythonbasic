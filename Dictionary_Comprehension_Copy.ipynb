{
 "cells": [
  {
   "cell_type": "markdown",
   "id": "45a7d5e2-d8d8-400d-a436-30b047293982",
   "metadata": {},
   "source": [
    "# 1. 딕셔너리 자료형(Dictionary type)\n",
    "-> 비 시퀀스 자료형.: v3.6이후에는 시퀀스 자료형 => 인덱싱 가능<br>\n",
    "-> 인덱스 X<br>\n",
    "-> Key: value -> key-value pair\n",
    "\n",
    "* 중괄호({})를 활용<br>\n",
    "* key-value pair는 각각 콤마로 구분짓는다.<br>\n",
    "* key를 중복해서 넣게되면 가장 최근에 넣은 key-value pair만 남는다."
   ]
  },
  {
   "cell_type": "code",
   "execution_count": 22,
   "id": "a5d8d3db-ee94-4204-9b9a-eb397cf2c3c1",
   "metadata": {},
   "outputs": [
    {
     "name": "stdout",
     "output_type": "stream",
     "text": [
      "<class 'dict'>\n",
      "{'key': 'value'}\n"
     ]
    }
   ],
   "source": [
    "dic_var = {\"key\": \"value\"}\n",
    "print(type(dic_var))\n",
    "print(dic_var)"
   ]
  },
  {
   "cell_type": "code",
   "execution_count": 23,
   "id": "d6fe553d-b43b-4f2a-99eb-98cf3b7af779",
   "metadata": {},
   "outputs": [
    {
     "name": "stdout",
     "output_type": "stream",
     "text": [
      "{'key': 'last value'}\n"
     ]
    }
   ],
   "source": [
    "dic_var = {\"key\":\"value\", \"key\":\"last value\"}\n",
    "print(dic_var)"
   ]
  },
  {
   "cell_type": "markdown",
   "id": "e439c419-4e5d-40ae-9dac-63af27a1aa0c",
   "metadata": {},
   "source": [
    "## 1) 딕셔너리 자료형 특징\n",
    "\n",
    "-> 키(key)는 문자열(str), 정수(int), 실수(float), 불(bool), 튜플(tuple)을 사용할 수 있습니다. 섞어서 사용도 가능 => hashable <br>\n",
    "(단, 리스트(list), 딕셔너리(dictionary), 집합(set)을 사용 X) => unhashable<br>\n",
    "-> 키(key)는 고유한 값을 가진다. (인덱스에 겹치는 숫자가 없듯)<br>\n",
    "-> 값(value)는 모든 자료형 사용 가능"
   ]
  },
  {
   "cell_type": "code",
   "execution_count": 24,
   "id": "2fa0ed8d-e21d-40c7-acaa-4d5c016237bf",
   "metadata": {},
   "outputs": [
    {
     "name": "stdout",
     "output_type": "stream",
     "text": [
      "[<class 'str'>, <class 'int'>, <class 'float'>, <class 'tuple'>]\n"
     ]
    }
   ],
   "source": [
    "# int - 1 = bool - True / int - 0 = bool - False\n",
    "dic_var = {\"key\": \"value\",\n",
    "           1: \"value2\",\n",
    "           1.1: \"value3\",\n",
    "           True: \"value4\",\n",
    "           (\"key\", 1, 1.1, True): \"value2\"}\n",
    "\n",
    "print(list(map(type, dic_var.keys())))"
   ]
  },
  {
   "cell_type": "code",
   "execution_count": 27,
   "id": "02a795fe-4893-40a0-ab1d-bb32fd80a4cc",
   "metadata": {},
   "outputs": [
    {
     "name": "stdout",
     "output_type": "stream",
     "text": [
      "[<class 'str'>, <class 'bool'>, <class 'float'>, <class 'tuple'>, <class 'list'>, <class 'dict'>, <class 'set'>]\n"
     ]
    }
   ],
   "source": [
    "dic_var = {\"key\": \"value\",\n",
    "           1: 1,\n",
    "           1.1: 1.1,\n",
    "           True: False,\n",
    "           (\"key\", 1, 1.1, True): (\"key\", 1, 1.1, True),\n",
    "           \"list\": [1, '가', 1.1, True, (1, '나')],\n",
    "           \"dict\": {\"key\":\"value\",\"key2\":\"value2\"},\n",
    "           \"set\": {\"key\", \"value\"}\n",
    "          }\n",
    "print(list(map(type, dic_var.values())))"
   ]
  },
  {
   "cell_type": "markdown",
   "id": "5d94ba03-bcbe-4457-b60e-92ba8bdbd252",
   "metadata": {},
   "source": [
    "## 2) 딕셔너리 자료형 - 빈 딕셔너리 생성하기\n",
    "\n",
    "-> 비어있는 빈 딕셔너리를 만들 때는 중괄호({})만 쓰거나 인자 없이 dict() 함수를 사용하면 됩니다.<br>\n",
    "-> set은 set()함수 통해서만 생성가능"
   ]
  },
  {
   "cell_type": "code",
   "execution_count": 28,
   "id": "abfe60b1-6419-4553-98ec-82fa5d1d7822",
   "metadata": {},
   "outputs": [
    {
     "name": "stdout",
     "output_type": "stream",
     "text": [
      "{}\n",
      "<class 'dict'>\n"
     ]
    }
   ],
   "source": [
    "empty_dict = {}\n",
    "print(empty_dict)\n",
    "print(type(empty_dict))"
   ]
  },
  {
   "cell_type": "code",
   "execution_count": 29,
   "id": "e3c2828e-9b61-4df2-8adb-56059116844f",
   "metadata": {},
   "outputs": [
    {
     "name": "stdout",
     "output_type": "stream",
     "text": [
      "{}\n",
      "<class 'dict'>\n"
     ]
    }
   ],
   "source": [
    "empty_dict = dict()\n",
    "print(empty_dict)\n",
    "print(type(empty_dict))"
   ]
  },
  {
   "cell_type": "markdown",
   "id": "7448dab9-0540-49ca-a14e-f4b05b5e84dd",
   "metadata": {
    "tags": []
   },
   "source": [
    "## 3) 딕셔너리 자료형 - dict() 함수로 생성하기\n",
    "\n",
    "-> dict() 함수에 키워드 인자값을 활용하면 딕셔너리를 만들 수 있습니다. 함수에 사용하는 키워드 인자의 키워드 부분은 변수명처럼 따옴표('',\"\")를 사용하지 않습니다."
   ]
  },
  {
   "cell_type": "code",
   "execution_count": 31,
   "id": "61b240c6-7979-4c42-a6f2-bd3c2441bdd0",
   "metadata": {},
   "outputs": [
    {
     "name": "stdout",
     "output_type": "stream",
     "text": [
      "{'key1': 'value', 'key2': 'value2', 'key3': 'value3'}\n"
     ]
    }
   ],
   "source": [
    "dict_a = dict(key1 = \"value\", key2 = \"value2\", key3 = \"value3\")\n",
    "print(dict_a)"
   ]
  },
  {
   "cell_type": "markdown",
   "id": "33bdbb34-6e31-4d9c-b25f-832ab33b2a32",
   "metadata": {},
   "source": [
    "## 4) 딕셔너리 자료형 - dict()함수와 시퀀스 객체로 생성하기\n",
    "-> 카와 값 한 쌍을 갖는 시퀀스 객체를 요소로 갖는 시퀀스 객체를 생성하여 딕셔너리 자료형으로 만들 수 있습니다."
   ]
  },
  {
   "cell_type": "code",
   "execution_count": 87,
   "id": "06744c67-6d18-49ca-a597-7cab26bad078",
   "metadata": {},
   "outputs": [
    {
     "data": {
      "text/plain": [
       "{'key': 'value', 'key2': 'value2'}"
      ]
     },
     "execution_count": 87,
     "metadata": {},
     "output_type": "execute_result"
    }
   ],
   "source": [
    "dict([('key','value'), ('key2','value2')])"
   ]
  },
  {
   "cell_type": "markdown",
   "id": "ba4d3244-69ee-4db8-9692-3cfc8c22f361",
   "metadata": {},
   "source": [
    "## 5) 딕셔너리 자료형 - dict() 함수와 zip() 함수로 생성하기\n",
    "-> zip() 함수를 통하여 키와 값 한 쌍을 갖는 튜플을 요소로 갖는 객체로 딕셔너리 자료형을 생성할 수 있습니다."
   ]
  },
  {
   "cell_type": "code",
   "execution_count": 32,
   "id": "4c4bdbd2-5502-48ee-bfcc-d8c1aae0927a",
   "metadata": {},
   "outputs": [
    {
     "name": "stdout",
     "output_type": "stream",
     "text": [
      "{'key': 'value', 'key2': 'value2', 'key3': 'value3'}\n"
     ]
    }
   ],
   "source": [
    "dict_b = dict(zip(['key','key2','key3'], ['value','value2','value3']))\n",
    "print(dict_b)"
   ]
  },
  {
   "cell_type": "code",
   "execution_count": 33,
   "id": "432cd021-91bc-4ac1-a744-a0f10309e634",
   "metadata": {},
   "outputs": [
    {
     "name": "stdout",
     "output_type": "stream",
     "text": [
      "<zip object at 0x0000024D2CE0B400>\n"
     ]
    }
   ],
   "source": [
    "print(zip(['key','key2','key3'], ['value','value2','value3']))"
   ]
  },
  {
   "cell_type": "code",
   "execution_count": 35,
   "id": "8edfa2d5-be7f-45c3-a283-0771c09c29cb",
   "metadata": {},
   "outputs": [
    {
     "data": {
      "text/plain": [
       "[('key', 'value'), ('key2', 'value2'), ('key3', 'value3')]"
      ]
     },
     "execution_count": 35,
     "metadata": {},
     "output_type": "execute_result"
    }
   ],
   "source": [
    "[_ for _ in zip(['key','key2','key3'], ['value','value2','value3'])]"
   ]
  },
  {
   "cell_type": "code",
   "execution_count": 42,
   "id": "e64adcd3-6362-447b-8d8f-d015ae159906",
   "metadata": {},
   "outputs": [
    {
     "name": "stdout",
     "output_type": "stream",
     "text": [
      "('key1', 'value1')\n",
      "('key2', 'value2')\n",
      "('key3', 'value3')\n"
     ]
    }
   ],
   "source": [
    "keys = ('key1','key2','key3')\n",
    "values = ('value1','value2','value3')\n",
    "\n",
    "for index in range(len(keys)):\n",
    "    print((keys[index], values[index]))"
   ]
  },
  {
   "cell_type": "code",
   "execution_count": 38,
   "id": "d5195acf-fbae-476f-bfb1-02c860588f5e",
   "metadata": {},
   "outputs": [
    {
     "name": "stdout",
     "output_type": "stream",
     "text": [
      "[('key1', 'value1'), ('key2', 'value2'), ('key3', 'value3')]\n"
     ]
    }
   ],
   "source": [
    "keys = ('key1','key2','key3')\n",
    "values = ('value1','value2','value3')\n",
    "\n",
    "sam_list = []\n",
    "for index in range(len(keys)):\n",
    "    sam_list.append((keys[index], values[index]))\n",
    "print(sam_list)"
   ]
  },
  {
   "cell_type": "code",
   "execution_count": 37,
   "id": "41018be3-d1ee-4f36-a311-20880785cb9f",
   "metadata": {},
   "outputs": [
    {
     "data": {
      "text/plain": [
       "[('key1', 'value1'), ('key2', 'value2'), ('key3', 'value3')]"
      ]
     },
     "execution_count": 37,
     "metadata": {},
     "output_type": "execute_result"
    }
   ],
   "source": [
    "list(zip(keys, values)) #map()"
   ]
  },
  {
   "cell_type": "markdown",
   "id": "32e6aa13-4544-4565-97a1-f8af338c55df",
   "metadata": {},
   "source": [
    "## 6) 딕셔너리 자료형 - 키로 값에 접근하기\n",
    "\n",
    "-> 인덱싱은 0 이상의 정수를 활용하여 각 요소에 접근하지만 딕셔너리 자료형은 키를 활용하여 해당 값에 접근합니다."
   ]
  },
  {
   "cell_type": "code",
   "execution_count": 60,
   "id": "2e6eb23a-42b0-45c5-a96b-b983f4b3b290",
   "metadata": {},
   "outputs": [
    {
     "name": "stdout",
     "output_type": "stream",
     "text": [
      "{'key': 'super value', 'key2': 'value2', 'key3': 'value3'}\n",
      "super value\n"
     ]
    }
   ],
   "source": [
    "print(dict_b)\n",
    "print(dict_b['key'])"
   ]
  },
  {
   "cell_type": "markdown",
   "id": "20e87032-ca5d-42f8-9ed1-c65cb4894b48",
   "metadata": {},
   "source": [
    "## 7) 딕셔너리 자료형 - 키로 값 변경하기"
   ]
  },
  {
   "cell_type": "code",
   "execution_count": 43,
   "id": "a0cdadf1-08c4-42a5-b6c6-d0c779ebd8d4",
   "metadata": {},
   "outputs": [
    {
     "name": "stdout",
     "output_type": "stream",
     "text": [
      "{'key': 'value', 'key2': 'value2', 'key3': 'value3'}\n",
      "{'key': 'super value', 'key2': 'value2', 'key3': 'value3'}\n"
     ]
    }
   ],
   "source": [
    "print(dict_b)\n",
    "dict_b['key'] = 'super value'\n",
    "print(dict_b)"
   ]
  },
  {
   "cell_type": "markdown",
   "id": "d456a68c-745b-4100-a77f-3f87f1f48462",
   "metadata": {},
   "source": [
    "## 8) 딕셔너리 자료형 - 키와 값 추가하기"
   ]
  },
  {
   "cell_type": "code",
   "execution_count": 44,
   "id": "648d410d-f986-468a-a1b5-3b3bc2ca396d",
   "metadata": {},
   "outputs": [
    {
     "name": "stdout",
     "output_type": "stream",
     "text": [
      "{'key': 'super value', 'key2': 'value2', 'key3': 'value3'}\n",
      "{'key': 'super value', 'key2': 'value2', 'key3': 'value3', 'new_one': 'new value'}\n"
     ]
    }
   ],
   "source": [
    "print(dict_b)\n",
    "dict_b['new_one'] = 'new value'\n",
    "print(dict_b)"
   ]
  },
  {
   "cell_type": "markdown",
   "id": "f01b11be-ffaf-4d06-b77e-004c630719ec",
   "metadata": {},
   "source": [
    "## 9) 딕셔너리 자료형 - 없는 키에 접근하는 경우"
   ]
  },
  {
   "cell_type": "code",
   "execution_count": 46,
   "id": "3a948c62-eda4-44f8-bd06-363a4f5c8f19",
   "metadata": {},
   "outputs": [
    {
     "name": "stdout",
     "output_type": "stream",
     "text": [
      "{'key': 'super value', 'key2': 'value2', 'key3': 'value3', 'new_one': 'new value'}\n"
     ]
    },
    {
     "ename": "KeyError",
     "evalue": "'없는 키'",
     "output_type": "error",
     "traceback": [
      "\u001b[1;31m---------------------------------------------------------------------------\u001b[0m",
      "\u001b[1;31mKeyError\u001b[0m                                  Traceback (most recent call last)",
      "\u001b[1;32m~\\AppData\\Local\\Temp\\ipykernel_15500\\3708490652.py\u001b[0m in \u001b[0;36m<module>\u001b[1;34m\u001b[0m\n\u001b[0;32m      1\u001b[0m \u001b[0mprint\u001b[0m\u001b[1;33m(\u001b[0m\u001b[0mdict_b\u001b[0m\u001b[1;33m)\u001b[0m\u001b[1;33m\u001b[0m\u001b[1;33m\u001b[0m\u001b[0m\n\u001b[1;32m----> 2\u001b[1;33m \u001b[0mprint\u001b[0m\u001b[1;33m(\u001b[0m\u001b[0mdict_b\u001b[0m\u001b[1;33m[\u001b[0m\u001b[1;34m'없는 키'\u001b[0m\u001b[1;33m]\u001b[0m\u001b[1;33m)\u001b[0m\u001b[1;33m\u001b[0m\u001b[1;33m\u001b[0m\u001b[0m\n\u001b[0m",
      "\u001b[1;31mKeyError\u001b[0m: '없는 키'"
     ]
    }
   ],
   "source": [
    "print(dict_b)\n",
    "print(dict_b['없는 키'])"
   ]
  },
  {
   "cell_type": "markdown",
   "id": "01c48acd-036e-4bc4-a385-5a09951d73b7",
   "metadata": {},
   "source": [
    "## 10) 딕셔너리 자료형 - 특정 키가 딕셔너리 자료형에 있나 확인\n",
    "\n",
    "-> 특정 키가 존재하는지 확인할 때 in 연산자를 활용"
   ]
  },
  {
   "cell_type": "code",
   "execution_count": 89,
   "id": "58275c0f-9522-4c93-baca-7a8cc0e9f4e9",
   "metadata": {},
   "outputs": [
    {
     "name": "stdout",
     "output_type": "stream",
     "text": [
      "{'key': 'super value', 'key2': 'value2', 'key3': 'value3'}\n",
      "True\n",
      "dict_values(['super value', 'value2', 'value3'])\n",
      "False\n"
     ]
    }
   ],
   "source": [
    "print(dict_b)\n",
    "print('key' in dict_b)\n",
    "print(dict_b.values())\n",
    "print('super' in dict_b.values())"
   ]
  },
  {
   "cell_type": "markdown",
   "id": "ab5d5a99-aa50-44bc-af7b-855622d08eda",
   "metadata": {},
   "source": [
    "## 11) 딕셔너리 자료형 - 특정 키와 값의 쌍을 삭제하기"
   ]
  },
  {
   "cell_type": "code",
   "execution_count": 49,
   "id": "5072cbce-93ae-4666-982a-b6a2f3826c13",
   "metadata": {},
   "outputs": [
    {
     "name": "stdout",
     "output_type": "stream",
     "text": [
      "{'key': 'super value', 'key2': 'value2', 'key3': 'value3', 'new_one': 'new value'}\n",
      "{'key': 'super value', 'key2': 'value2', 'key3': 'value3'}\n"
     ]
    }
   ],
   "source": [
    "print(dict_b)\n",
    "del dict_b['new_one']\n",
    "print(dict_b)"
   ]
  },
  {
   "cell_type": "markdown",
   "id": "cf6f4b82-e06e-46fb-93d7-e0392593449e",
   "metadata": {},
   "source": [
    "## 12) 딕셔너리 자료형 - 키와 값의 쌍 개수 구하기"
   ]
  },
  {
   "cell_type": "code",
   "execution_count": 50,
   "id": "13efa036-5cb7-41d2-8db1-e1e6af5fa7c5",
   "metadata": {},
   "outputs": [
    {
     "name": "stdout",
     "output_type": "stream",
     "text": [
      "{'key': 'super value', 'key2': 'value2', 'key3': 'value3'}\n"
     ]
    },
    {
     "data": {
      "text/plain": [
       "3"
      ]
     },
     "execution_count": 50,
     "metadata": {},
     "output_type": "execute_result"
    }
   ],
   "source": [
    "print(dict_b)\n",
    "len(dict_b)"
   ]
  },
  {
   "cell_type": "code",
   "execution_count": 56,
   "id": "2f3b7e36-8ec2-4cd8-89ff-195d70888994",
   "metadata": {},
   "outputs": [
    {
     "name": "stdin",
     "output_type": "stream",
     "text": [
      "과일 이름을 입력하세요. 사과\n"
     ]
    },
    {
     "name": "stdout",
     "output_type": "stream",
     "text": [
      "사과의 가격은 1000원 입니다.\n"
     ]
    }
   ],
   "source": [
    "# 연습 문제\n",
    "\n",
    "fruit_list = {'사과':1000, '바나나':700, '오렌지':1500, '파인애플':2000}\n",
    "\n",
    "what_fruit = input(\"과일 이름을 입력하세요.\")\n",
    "fruit_price = fruit_list[what_fruit]\n",
    "\n",
    "print(f'{what_fruit}의 가격은 {fruit_price}원 입니다.')"
   ]
  },
  {
   "cell_type": "code",
   "execution_count": 74,
   "id": "02f8d81f-5b85-40a5-817c-b515dbba54a6",
   "metadata": {},
   "outputs": [
    {
     "name": "stdin",
     "output_type": "stream",
     "text": [
      "이름을 기입해주세요. 뽀로로 루피 크롱 스누피\n",
      "몸무게를 입력해주세요. 20.4\n",
      "몸무게를 입력해주세요. 16.2\n",
      "몸무게를 입력해주세요. 22.3\n",
      "몸무게를 입력해주세요. 5.2\n"
     ]
    },
    {
     "name": "stdout",
     "output_type": "stream",
     "text": [
      "{'뽀로로': 20.4, '루피': 16.2, '크롱': 22.3, '스누피': 5.2}\n"
     ]
    }
   ],
   "source": [
    "## 연습 문제\n",
    "\n",
    "# name_list = list(input(\"이름을 기입해주세요.\").split(' '))\n",
    "# weight_list = []\n",
    "\n",
    "# for i in range(len(name_list)):\n",
    "    # weight = float(input(\"몸무게를 입력해주세요.\"))\n",
    "    # weight_list.append(weight)\n",
    "    \n",
    "# result = dict(zip(name_list,weight_list))\n",
    "# print(result)"
   ]
  },
  {
   "cell_type": "code",
   "execution_count": 83,
   "id": "de25d35e-7b0b-4852-a079-554c4842d59f",
   "metadata": {},
   "outputs": [
    {
     "name": "stdin",
     "output_type": "stream",
     "text": [
      "이름을 기입해주세요. d s\n",
      "몸무게를 입력해주세요. 1 2\n"
     ]
    },
    {
     "name": "stdout",
     "output_type": "stream",
     "text": [
      "{'d': 1.0, 's': 2.0}\n"
     ]
    }
   ],
   "source": [
    "## 연습 문제\n",
    "\n",
    "name_list = input(\"이름을 기입해주세요.\").split(' ')\n",
    "weight_list = map(float,(input(\"몸무게를 입력해주세요.\").split(' ')))\n",
    "\n",
    "result = dict(zip(name_list,weight_list))\n",
    "print(result)"
   ]
  },
  {
   "cell_type": "markdown",
   "id": "9d81a2b7-4b38-4f47-9e48-8d57e938923b",
   "metadata": {
    "tags": []
   },
   "source": [
    "### * 리스트 생성 방법 - 대괄호 사용\n",
    "\n",
    "- 리스트는 기본적으로 대괄호([])를 활용<br>\n",
    "- 자료형 class 'list' => list 클래스로 만들어진 객체"
   ]
  },
  {
   "cell_type": "code",
   "execution_count": 90,
   "id": "e444e42d-81e4-4c10-8b90-76389a7f83f0",
   "metadata": {},
   "outputs": [
    {
     "name": "stdout",
     "output_type": "stream",
     "text": [
      "<class 'list'>\n",
      "[48, 48, 33, 95]\n"
     ]
    }
   ],
   "source": [
    "list_a = [48, 48, 33, 95]\n",
    "print(type(list_a))\n",
    "print(list_a)"
   ]
  },
  {
   "cell_type": "markdown",
   "id": "6090ddaa-62e2-4dd7-9feb-c1695aebb99c",
   "metadata": {},
   "source": [
    "### * 빈 리스트(empty list)"
   ]
  },
  {
   "cell_type": "code",
   "execution_count": 91,
   "id": "4ba6403b-9d22-4baf-a0a8-e76f5e12a578",
   "metadata": {},
   "outputs": [
    {
     "name": "stdout",
     "output_type": "stream",
     "text": [
      "[]\n",
      "<class 'list'>\n"
     ]
    }
   ],
   "source": [
    "empty_list = []\n",
    "print(empty_list)\n",
    "print(type(empty_list))"
   ]
  },
  {
   "cell_type": "code",
   "execution_count": 92,
   "id": "1c80c492-5ef6-4eff-b02d-73fd609ea802",
   "metadata": {},
   "outputs": [
    {
     "name": "stdout",
     "output_type": "stream",
     "text": [
      "[]\n",
      "<class 'list'>\n"
     ]
    }
   ],
   "source": [
    "empty_list = list()\n",
    "print(empty_list)\n",
    "print(type(empty_list))"
   ]
  },
  {
   "cell_type": "markdown",
   "id": "8f8ab369-d8c4-4b57-ac7d-b7e1a5bea9ca",
   "metadata": {
    "tags": []
   },
   "source": [
    "### * 문자열.split()\n",
    "\n",
    "-> 리스트는 반복되는 객체인 iterable을 인자로 하는 list() 함수를 통해 생성"
   ]
  },
  {
   "cell_type": "code",
   "execution_count": 93,
   "id": "8ab8a482-d248-4a9c-b062-805f11a634c3",
   "metadata": {},
   "outputs": [
    {
     "name": "stdin",
     "output_type": "stream",
     "text": [
      "숫자를 띄어쓰기로 구분하여 여럿 입력해보세요. 52 36 32 19\n"
     ]
    },
    {
     "name": "stdout",
     "output_type": "stream",
     "text": [
      "<class 'list'>\n",
      "[52, 36, 32, 19]\n"
     ]
    }
   ],
   "source": [
    "list_b = list(map(int, input(\"숫자를 띄어쓰기로 구분하여 여럿 입력해보세요.\").split()))\n",
    "print(type(list_b))\n",
    "print(list_b)"
   ]
  },
  {
   "cell_type": "markdown",
   "id": "bc3f3df4-f5ad-4e77-970d-45ba1920a30e",
   "metadata": {},
   "source": [
    "# 2. 컴프리헨션(comprehension)\n",
    "\n",
    "-> 리스트 컴프리헨션은 대괄호([]) 안에 표현식과 for문을 작성하여 사용할 수 있습니다. 처음보는 형태라 복잡해보이지만 어떻게 동작하는지 하나하나 살펴보겠습니다.\n",
    "\n",
    "list_variable = [expression for 변수 in iterable]\n",
    "\n",
    "* 동작 순서\n",
    "1. 반복가능한 객체(iterable)로부터 값을 하나 꺼내와서 변수에 담습니다.\n",
    "2. 요소를 담은 변수를 활용해서 표현식(expression)을 실행합니다.\n",
    "   (이때 변수는 활용할 수도 활용하지 않을 수도 있습니다.)\n",
    "3. 표현식 결과 값을 리스트 요소에 넣습니다.\n",
    "4. 반복가능한 객체(iterable)로 부터 값이 없을 때까지 1~3과정을 반복합니다."
   ]
  },
  {
   "cell_type": "code",
   "execution_count": 95,
   "id": "92280a34-5c8d-424c-b06b-060defc8b98a",
   "metadata": {},
   "outputs": [
    {
     "data": {
      "text/plain": [
       "[0, 1, 4, 9, 16, 25, 36, 49, 64, 81]"
      ]
     },
     "execution_count": 95,
     "metadata": {},
     "output_type": "execute_result"
    }
   ],
   "source": [
    "# 리스트 comprehension\n",
    "# list: [0, 1, 2, ..., 9]\n",
    "[i ** 2 for i in list(range(10))]"
   ]
  },
  {
   "cell_type": "code",
   "execution_count": 96,
   "id": "a2b9ea5b-2c62-437d-a09e-c39a7d61cf9b",
   "metadata": {},
   "outputs": [
    {
     "name": "stdout",
     "output_type": "stream",
     "text": [
      "[1, 2, 3, 4, 5, 6, 7, 8, 9]\n"
     ]
    }
   ],
   "source": [
    "list_c = [i for i in range(1,10)]\n",
    "print(list_c)"
   ]
  },
  {
   "cell_type": "code",
   "execution_count": 98,
   "id": "9e864d15-f99b-41b9-9c9e-0edbf1f6f799",
   "metadata": {},
   "outputs": [
    {
     "name": "stdout",
     "output_type": "stream",
     "text": [
      "<class 'list'>\n",
      "[1, 4, 9, 16, 25, 36, 49, 64, 81]\n"
     ]
    }
   ],
   "source": [
    "# 연습 문제\n",
    "prac_result = [i ** 2 for i in range(1,10)]\n",
    "print(type(prac_result))\n",
    "print(prac_result)"
   ]
  },
  {
   "cell_type": "code",
   "execution_count": 99,
   "id": "62b550c4-c855-4901-a50f-a3e8aaab88ad",
   "metadata": {},
   "outputs": [
    {
     "name": "stdout",
     "output_type": "stream",
     "text": [
      "[1, 3, 5, 7, 9]\n"
     ]
    }
   ],
   "source": [
    "# 연습 문제\n",
    "\n",
    "prac_result2 = [i for i in range(1,10,2)]\n",
    "print(prac_result2)"
   ]
  },
  {
   "cell_type": "code",
   "execution_count": 101,
   "id": "5d46c909-bebe-4007-8e66-64ba08e09b51",
   "metadata": {},
   "outputs": [
    {
     "name": "stdout",
     "output_type": "stream",
     "text": [
      "['a', 'b', 'c', 'd', 'e', 'f', 'g']\n"
     ]
    }
   ],
   "source": [
    "# 연습 문제\n",
    "alphabet = 'abcdefg'\n",
    "\n",
    "prac_result3 = [i for i in alphabet]\n",
    "print(prac_result3)"
   ]
  },
  {
   "cell_type": "code",
   "execution_count": 104,
   "id": "9d34fc0b-5ea7-4830-b1f8-31d601874848",
   "metadata": {},
   "outputs": [
    {
     "name": "stdout",
     "output_type": "stream",
     "text": [
      "['2', '3', '4', '5', '6', '7', '8', '9', '10', 'J', 'Q', 'K', 'A']\n"
     ]
    }
   ],
   "source": [
    "# 연습문제\n",
    "\n",
    "prac_result4 = [str(i) for i in range(2,11)] + [i for i in 'JQKA']\n",
    "print(prac_result4)"
   ]
  },
  {
   "cell_type": "code",
   "execution_count": 102,
   "id": "f66aff93-e943-4e37-8757-56624d86e5db",
   "metadata": {},
   "outputs": [
    {
     "data": {
      "text/plain": [
       "[1, 2, 3, 4, 5, 6]"
      ]
     },
     "execution_count": 102,
     "metadata": {},
     "output_type": "execute_result"
    }
   ],
   "source": [
    "[1,2,3] + [4,5,6]"
   ]
  },
  {
   "cell_type": "code",
   "execution_count": 113,
   "id": "a3d8b6b8-0139-43f3-9aef-f34b2b1f92af",
   "metadata": {},
   "outputs": [
    {
     "name": "stdout",
     "output_type": "stream",
     "text": [
      "[['2', '3', '4', '5', '6', '7', '8', '9', '10', 'J', 'Q', 'K', 'A'], ['2', '3', '4', '5', '6', '7', '8', '9', '10', 'J', 'Q', 'K', 'A'], ['2', '3', '4', '5', '6', '7', '8', '9', '10', 'J', 'Q', 'K', 'A'], ['2', '3', '4', '5', '6', '7', '8', '9', '10', 'J', 'Q', 'K', 'A']]\n"
     ]
    }
   ],
   "source": [
    "# 연습 문제\n",
    "\n",
    "prac_result5 = [prac_result4 for _ in range(4)]\n",
    "print(prac_result5)"
   ]
  },
  {
   "cell_type": "markdown",
   "id": "007928c6-b60f-4a3d-a015-f723aff64bfa",
   "metadata": {},
   "source": [
    "## 1) 객체를 담는 변수의 특징"
   ]
  },
  {
   "cell_type": "code",
   "execution_count": 114,
   "id": "24797983-f219-4a06-9ef1-4b069cf8817c",
   "metadata": {},
   "outputs": [
    {
     "name": "stdout",
     "output_type": "stream",
     "text": [
      "['two', '3', '4', '5', '6', '7', '8', '9', '10', 'J', 'Q', 'K', 'A']\n"
     ]
    }
   ],
   "source": [
    "prac_result4[0] = 'two'\n",
    "print(prac_result4)"
   ]
  },
  {
   "cell_type": "code",
   "execution_count": 115,
   "id": "55d26e78-9f68-4b7e-bf65-82c320bac770",
   "metadata": {},
   "outputs": [
    {
     "name": "stdout",
     "output_type": "stream",
     "text": [
      "[['two', '3', '4', '5', '6', '7', '8', '9', '10', 'J', 'Q', 'K', 'A'], ['two', '3', '4', '5', '6', '7', '8', '9', '10', 'J', 'Q', 'K', 'A'], ['two', '3', '4', '5', '6', '7', '8', '9', '10', 'J', 'Q', 'K', 'A'], ['two', '3', '4', '5', '6', '7', '8', '9', '10', 'J', 'Q', 'K', 'A']]\n"
     ]
    }
   ],
   "source": [
    "print(prac_result5)"
   ]
  },
  {
   "cell_type": "code",
   "execution_count": null,
   "id": "a2689e49-e45f-46b6-8587-f9a74699ded3",
   "metadata": {},
   "outputs": [],
   "source": [
    "# ![image.png](attachment:148edf43-5699-4de1-ba50-17cf90b3919a.png)"
   ]
  },
  {
   "cell_type": "markdown",
   "id": "7b517fe8-8d3f-44c5-9257-3a0c9c9c5534",
   "metadata": {
    "tags": []
   },
   "source": [
    "## 2) id() 내장 함수\n",
    "\n",
    "-> 객체마다 구분할 수 있는 고유한 정수 값(메모리 주소)을 갖습니다. 그걸 조회하는게 id() 내장 함수 입니다. 즉 id()로 가져온 정수 값이 같다면 같은 객체라는 의미\n",
    " => 변수와 모든 요소들이 같은 메모리 상의 객체를 바라본다4\n",
    " \n",
    " \n",
    " * 기존 리스트의 전체 범위의 슬라이싱 결과는 새로운 객체이다. \n",
    "-> 리스트변수명[:]으로 전체를 동일하게 가져오는, 즉 슬라이싱으로 반환받는 리스트 객체는 과연 같은 객체일까?\n",
    "\n",
    " * 리스트 전체 범위 slicing을 통한 리스트 복사\n",
    "-> 리스트 객체를 slicing을 통해 리스트 전체 범위를 반환받았을 때 그 리스트는 원래의 리스트를 반환\n",
    " \n",
    " 리스트 변수[:] -> 새로운 객체를 만들어 반환"
   ]
  },
  {
   "cell_type": "code",
   "execution_count": 116,
   "id": "12a520e1-e4fd-49a6-aaf6-225f10ebd49a",
   "metadata": {},
   "outputs": [
    {
     "name": "stdout",
     "output_type": "stream",
     "text": [
      "prac_result4의 id: 2530505496512\n",
      "prac_result5[0] : 2530505496512\n",
      "prac_result5[1] : 2530505496512\n",
      "prac_result5[2] : 2530505496512\n",
      "prac_result5[3] : 2530505496512\n"
     ]
    }
   ],
   "source": [
    "print(\"prac_result4의 id:\", id(prac_result4))\n",
    "\n",
    "for i, v in enumerate(prac_result5):\n",
    "    print(\"prac_result5[\", i, \"] : \", id(v), sep =\"\")"
   ]
  },
  {
   "cell_type": "code",
   "execution_count": 117,
   "id": "2fcc3a24-af70-4681-985d-640dee10eb58",
   "metadata": {},
   "outputs": [
    {
     "name": "stdout",
     "output_type": "stream",
     "text": [
      "prac_result4의 id: 2530505496512\n",
      "prac_result6[0] : 2530488611328\n",
      "prac_result6[1] : 2530505666624\n",
      "prac_result6[2] : 2530505644736\n",
      "prac_result6[3] : 2530505608192\n"
     ]
    }
   ],
   "source": [
    "prac_result6 = [prac_result4[:] for _ in range(4)]\n",
    "\n",
    "print(\"prac_result4의 id:\", id(prac_result4))\n",
    "for i, v in enumerate(prac_result6):\n",
    "    print(\"prac_result6[\", i, \"] : \", id(v), sep =\"\")"
   ]
  },
  {
   "cell_type": "code",
   "execution_count": null,
   "id": "d926cf84-864b-4147-8e57-bb50256012b7",
   "metadata": {},
   "outputs": [
    {
     "name": "stdout",
     "output_type": "stream",
     "text": [
      "2530505495296\n",
      "2530505388736\n",
      "False\n",
      "True\n"
     ]
    }
   ],
   "source": [
    "# 연습 문제\n",
    "old_list = list(range(10))\n",
    "new_list = old_list[:]\n",
    "\n",
    "print(id(old_list))\n",
    "print(id(new_list))\n",
    "print(old_list is new_list) # is: 객체간 비교 - id()함수의 결과를 비교\n",
    "print(old_list == new_list) # 값의 비교"
   ]
  },
  {
   "cell_type": "markdown",
   "id": "d29604a4-163b-41af-be17-a2478577a6aa",
   "metadata": {},
   "source": [
    "### [참고]tuple, str은 is 연산자의 결과가 다를 수 있다.\n",
    "-> 문자열 튜플의 경우에는 불변의 특징. 따라서, 요소가 동일하다면 재사용해도 문제될 것이 없다. 그래서 효율을 위해 동일하게 복사"
   ]
  },
  {
   "cell_type": "code",
   "execution_count": 119,
   "id": "3eec411b-28e8-4c1f-ac71-61341ccbde29",
   "metadata": {},
   "outputs": [
    {
     "name": "stdout",
     "output_type": "stream",
     "text": [
      "2530487422528\n",
      "2530487422528\n",
      "True\n",
      "True\n"
     ]
    }
   ],
   "source": [
    "old_tuple = tuple(range(10))\n",
    "new_tuple = old_tuple[:]\n",
    "\n",
    "print(id(old_tuple))\n",
    "print(id(new_tuple))\n",
    "print(old_tuple is new_tuple)\n",
    "print(old_tuple == new_tuple)"
   ]
  },
  {
   "cell_type": "markdown",
   "id": "6ff1843d-5b7e-4ba2-81e4-98515ef74edc",
   "metadata": {
    "tags": []
   },
   "source": [
    "## 3) 리스트 컴프리헨션(for + if)\n",
    "\n",
    "1. 반복가능한 객체(iterable) 값을 하나 꺼내와서 조건식에 넣습니다.\n",
    "2. 조건식이 True이면 변수를 활용해서 표현식(expression)을 실행합니다.\n",
    "    (이때 변수는 활용할 수도 활용하지 않을 수도 있습니다.)\n",
    "3. 조건식이 False이면 1번부터 다시 시작\n",
    "4. 표현식 결과 값을 리스트 요소에 넣습니다.\n",
    "5. 반복가능한 객체(iterable)로부터 값이 없을 때까지 1~3 과정을 반복\n",
    "\n",
    "list_variable = [expression for 변수 in iterable if 조건식]"
   ]
  },
  {
   "cell_type": "code",
   "execution_count": 4,
   "id": "57f4f946-583b-45b4-a347-5570516c176d",
   "metadata": {
    "scrolled": true,
    "tags": []
   },
   "outputs": [
    {
     "name": "stdout",
     "output_type": "stream",
     "text": [
      "[0, 3, 6, 9]\n"
     ]
    }
   ],
   "source": [
    "list_p = [i for i in range(10) if i % 3 == 0]\n",
    "print(list_p)"
   ]
  },
  {
   "cell_type": "code",
   "execution_count": null,
   "id": "851e6022-bef3-469f-a82d-52810def00e4",
   "metadata": {},
   "outputs": [
    {
     "name": "stdout",
     "output_type": "stream",
     "text": [
      "hellow world\n",
      "hellow world\n",
      "hellow world\n",
      "hellow world\n",
      "hellow world\n",
      "hellow world\n",
      "hellow world\n",
      "hellow world\n",
      "hellow world\n",
      "hellow world\n"
     ]
    },
    {
     "data": {
      "text/plain": [
       "[None, None, None, None, None, None, None, None, None, None]"
      ]
     },
     "execution_count": 1,
     "metadata": {},
     "output_type": "execute_result"
    }
   ],
   "source": [
    "# 주의해서 쓸 것 - print는 객체 x\n",
    "[print(\"hello world\") for _ in range(10)]"
   ]
  },
  {
   "cell_type": "markdown",
   "id": "415f5b92-ef05-4559-aaee-0276e1a35611",
   "metadata": {
    "tags": []
   },
   "source": [
    "## 4) for문을 여러개\n",
    "-> 반복 동작 순서는 우측에서 좌측 방향으로 진행<br>\n",
    "[expression (for 변수 in iterable{2)) (for 변수 in iterable(1))]"
   ]
  },
  {
   "cell_type": "code",
   "execution_count": null,
   "id": "a375f21d-df16-447f-b3e9-65f69c8e1069",
   "metadata": {},
   "outputs": [],
   "source": [
    "# ![image.png](attachment:95f20412-28ca-4922-b1a4-2a74aaecda1d.png)"
   ]
  },
  {
   "cell_type": "markdown",
   "id": "36b18688-bcc0-4778-bc92-cf2d35bd4fa5",
   "metadata": {},
   "source": [
    "## 5) 중첩 리스트 사용하기\n",
    "\n",
    "-> 리스트 안에 리스트를 포함할 수 있음. 리스트는 수학의 배열과 다름. 또 리스트를 수학의 배열처럼 사용하기에도 적절x. 따라서 리스트는 리스트 자체로 이해(중첩된 리스트를 차원이라고 여기지 x)"
   ]
  },
  {
   "cell_type": "code",
   "execution_count": 5,
   "id": "abe3255e-701e-4bf1-adf9-7db52827e75c",
   "metadata": {},
   "outputs": [
    {
     "name": "stdout",
     "output_type": "stream",
     "text": [
      "1\n",
      "2\n",
      "3\n",
      "4\n",
      "5\n",
      "3\n",
      "4\n"
     ]
    }
   ],
   "source": [
    "# for문\n",
    "\n",
    "easy_list = [[1,2,3,4,5], [3,4]]\n",
    "for item in easy_list:\n",
    "    for i in item:\n",
    "        print(i)"
   ]
  },
  {
   "cell_type": "code",
   "execution_count": 7,
   "id": "638f33f2-51d5-4c84-9883-387511e25e7b",
   "metadata": {},
   "outputs": [
    {
     "name": "stdout",
     "output_type": "stream",
     "text": [
      "1\n",
      "2\n",
      "3\n",
      "4\n",
      "5\n",
      "3\n",
      "4\n"
     ]
    }
   ],
   "source": [
    "# while 문\n",
    "\n",
    "easy_list = [[1,2,3,4,5], [3,4]]\n",
    "i = 0 # easy_list 인덱스용\n",
    "\n",
    "while i < len(easy_list):\n",
    "    j = 0 # easy_list[0], easy_list[1] 인덱스용\n",
    "    while j < len(easy_list[i]):\n",
    "        print(easy_list[i][j])\n",
    "        j += 1\n",
    "    i += 1"
   ]
  },
  {
   "cell_type": "code",
   "execution_count": null,
   "id": "8a9a58f1-b380-48df-8b25-03e43f5e862f",
   "metadata": {},
   "outputs": [],
   "source": [
    "# ![image.png](attachment:67bf9ba0-70c3-409f-a551-943578286adf.png)"
   ]
  },
  {
   "cell_type": "markdown",
   "id": "96556180-91dd-4760-b67d-38c516bdf562",
   "metadata": {},
   "source": [
    "## 6) 빈 튜플(empty tuple)\n",
    "-> 비어있는 빈 튜플을 만들 떄는 소괄호(())만 쓰거나 인자 없는 tuple() 함수를 사용하면 됩니다."
   ]
  },
  {
   "cell_type": "code",
   "execution_count": 8,
   "id": "e204140b-7cf8-469e-8ba7-d580e2899a40",
   "metadata": {},
   "outputs": [
    {
     "name": "stdout",
     "output_type": "stream",
     "text": [
      "()\n",
      "<class 'tuple'>\n"
     ]
    }
   ],
   "source": [
    "empty_tuple = tuple()\n",
    "print(empty_tuple)\n",
    "print(type(empty_tuple))"
   ]
  },
  {
   "cell_type": "code",
   "execution_count": 10,
   "id": "212d258c-65ff-41c3-8ff6-bc9318a9e4a0",
   "metadata": {},
   "outputs": [
    {
     "data": {
      "text/plain": [
       "generator"
      ]
     },
     "execution_count": 10,
     "metadata": {},
     "output_type": "execute_result"
    }
   ],
   "source": [
    "# 제너레이터 컴프리헨션 - 튜플\n",
    "\n",
    "gen = (i for i in range(10))\n",
    "type(gen)"
   ]
  },
  {
   "cell_type": "code",
   "execution_count": 12,
   "id": "3822f5fe-4b43-4892-841d-d58de8bc30de",
   "metadata": {},
   "outputs": [],
   "source": [
    "tup = tuple(i for i in range(10))"
   ]
  },
  {
   "cell_type": "code",
   "execution_count": 13,
   "id": "9609c76a-5124-4a0a-947c-c6dac0b425a3",
   "metadata": {},
   "outputs": [
    {
     "data": {
      "text/plain": [
       "tuple"
      ]
     },
     "execution_count": 13,
     "metadata": {},
     "output_type": "execute_result"
    }
   ],
   "source": [
    "type(tup)"
   ]
  },
  {
   "cell_type": "code",
   "execution_count": 1,
   "id": "eb77e0d1-7081-4b32-9db9-08d1bcbbde1e",
   "metadata": {},
   "outputs": [],
   "source": [
    "lis = list(i for i in range(10))"
   ]
  },
  {
   "cell_type": "code",
   "execution_count": 2,
   "id": "d03811c8-74c1-49f5-b234-52bf79da36dc",
   "metadata": {},
   "outputs": [
    {
     "data": {
      "text/plain": [
       "list"
      ]
     },
     "execution_count": 2,
     "metadata": {},
     "output_type": "execute_result"
    }
   ],
   "source": [
    "type(lis)"
   ]
  },
  {
   "cell_type": "code",
   "execution_count": 4,
   "id": "50d77815-2dca-45b2-a1dd-ff8d43165909",
   "metadata": {},
   "outputs": [
    {
     "name": "stdout",
     "output_type": "stream",
     "text": [
      "['alpha', 'bravo', 'delta', 'hotel', 'india']\n"
     ]
    }
   ],
   "source": [
    "#연습 문제\n",
    "a = ['alpha', 'bravo', 'charlie', 'delta', 'echo', 'foxtrot', 'golf', 'hotel', 'india']\n",
    "b = [i for i in a if len(i) == 5]\n",
    "print(b)"
   ]
  },
  {
   "cell_type": "code",
   "execution_count": 15,
   "id": "3bdb3375-e30b-468b-bc7f-cb2124eb0f51",
   "metadata": {},
   "outputs": [
    {
     "name": "stdin",
     "output_type": "stream",
     "text": [
      "정수 두 개 입력하세요.: 10 20\n"
     ]
    },
    {
     "name": "stdout",
     "output_type": "stream",
     "text": [
      "[1024, 4096, 8192, 16384, 32768, 65536, 131072, 262144, 1048576]\n"
     ]
    }
   ],
   "source": [
    "#연습 문제\n",
    "\n",
    "while True:\n",
    "    num1, num2 = map(int,input(\"정수 두 개 입력하세요.:\").split(' '))  # 오답 풀이\n",
    "    if num1 < 1 or num1 > 20:\n",
    "        print(\"첫번째 입력 값의 범위는 1~20 사이의 숫자입니다.\")\n",
    "    elif num2 < 10 or num2 > 30:\n",
    "        print(\"두번째 입력 값의 범위는 10~30 사이의 숫자입니다.\")\n",
    "    elif num1 > num2:\n",
    "        print(\"첫 번째 입력 값은 두 번째 입력 값보다 작게 입력하세요.\")\n",
    "    elif num1 < num2:\n",
    "        result = [2 ** i for i in range(num1,num2+1)]\n",
    "        del result[1]  #오답 풀이\n",
    "        del result[len(result) - 2] # 오답 풀이\n",
    "        print(result)\n",
    "        break\n",
    "#    continue"
   ]
  },
  {
   "cell_type": "code",
   "execution_count": 15,
   "id": "734c6979-cf43-4085-ace0-1e8c39280a88",
   "metadata": {},
   "outputs": [
    {
     "name": "stdin",
     "output_type": "stream",
     "text": [
      "정수 두 개 입력하세요.: 10 20\n"
     ]
    }
   ],
   "source": [
    "num1, num2 = map(int,input(\"정수 두 개 입력하세요.:\").split(' '))"
   ]
  },
  {
   "cell_type": "code",
   "execution_count": 3,
   "id": "0a731f07-e37d-4573-a3d6-5c62f1f8ded9",
   "metadata": {},
   "outputs": [
    {
     "data": {
      "text/plain": [
       "[1024, 2048, 4096, 8192, 16384, 32768, 65536, 131072, 262144, 524288, 1048576]"
      ]
     },
     "execution_count": 3,
     "metadata": {},
     "output_type": "execute_result"
    }
   ],
   "source": [
    "[2 ** i for i in range(10,21)]"
   ]
  },
  {
   "cell_type": "code",
   "execution_count": 79,
   "id": "a98d00d6-3aae-4f74-8deb-3ca35c20b962",
   "metadata": {},
   "outputs": [
    {
     "name": "stdin",
     "output_type": "stream",
     "text": [
      "2부터 입력하신 수까지의 모든 소수를 찾는 프로그램입니다.\n",
      "찾는 범위를 입력하세요. 100\n"
     ]
    },
    {
     "name": "stdout",
     "output_type": "stream",
     "text": [
      "2 3 5 7 11 13 17 \n",
      "19 23 29 31 37 41 43 \n",
      "47 53 59 61 67 71 73 \n",
      "79 83 89 97 "
     ]
    }
   ],
   "source": [
    "# 연습 문제\n",
    "\n",
    "num = int(input(\"2부터 입력하신 수까지의 모든 소수를 찾는 프로그램입니다.\\n찾는 범위를 입력하세요.\"))\n",
    "# result = []\n",
    "\n",
    "i = 2\n",
    "line = 0\n",
    "\n",
    "# 소수 - 나누었을 떄의 몫이 나누어떨어지고 자기 자신의 값이면\n",
    "\n",
    "while i <= num:\n",
    "    j = 2\n",
    "    while j <= i:\n",
    "        if i % j == 0:\n",
    "            break\n",
    "        j += 1\n",
    "    if i == j:\n",
    "        print(i, end = ' ')\n",
    "        line = line + 1\n",
    "        if line == 7:\n",
    "            line = 0\n",
    "            print()\n",
    "        \n",
    "    i += 1"
   ]
  },
  {
   "cell_type": "code",
   "execution_count": 76,
   "id": "ecc876bf-6578-4ed2-a3c5-d0ce9bf84175",
   "metadata": {},
   "outputs": [
    {
     "name": "stdin",
     "output_type": "stream",
     "text": [
      "2부터 입력하신 수까지의 모든 소수를 찾는 프로그램입니다.\n",
      "찾는 범위를 입력하세요. 10\n"
     ]
    },
    {
     "name": "stdout",
     "output_type": "stream",
     "text": [
      "[]\n"
     ]
    }
   ],
   "source": [
    "# 연습 문제\n",
    "\n",
    "num = int(input(\"2부터 입력하신 수까지의 모든 소수를 찾는 프로그램입니다.\\n찾는 범위를 입력하세요.\"))\n",
    "result = []\n",
    "\n",
    "# 소수 - 나누었을 떄의 몫이 나누어떨어지고 자기 자신의 값이면\n",
    "\n",
    "for i in range(2,num+1):\n",
    "    for j in range(2,i):\n",
    "        if i % j == 0 and i == j:\n",
    "            result.append(i)\n",
    "        else:\n",
    "            pass\n",
    "\n",
    "print(result)"
   ]
  },
  {
   "cell_type": "markdown",
   "id": "dd4f086b-7f53-487f-947a-52509076bc9f",
   "metadata": {},
   "source": [
    "### Random 라이브러리\n",
    "\n",
    "-> 임의의 수를 생성할 때 사용하는 표준 라이브러리\n",
    "\n",
    "random.randit(시작 정수, 끝 정수): 시작 정수(포함)부터 끝 정수(포함)까지 범위의 난수 생성"
   ]
  },
  {
   "cell_type": "code",
   "execution_count": 82,
   "id": "51272f78-3330-4933-843c-f4820502e25d",
   "metadata": {},
   "outputs": [
    {
     "name": "stdout",
     "output_type": "stream",
     "text": [
      "[2, 2, 1, 2, 2, 1, 2, 2, 2, 2, 2, 1, 1, 1, 1]\n",
      "[7, 10, 9, 9, 10, 8, 6, 4, 4, 2, 3, 9, 7, 6, 4, 6, 8, 10, 2, 9, 8, 8, 9, 9, 7, 9, 9, 5, 2, 6, 9, 7, 3, 10, 6, 1, 4, 5, 1, 8, 10, 4, 4, 10, 9, 3, 10, 7, 7, 5, 1, 10, 4, 3, 7, 5, 6, 3, 3, 2, 10, 10, 8, 6, 1, 3, 4, 4, 10, 3, 7, 1, 4, 2, 8, 6, 4, 6, 5, 2, 2, 4, 4, 1, 10, 9, 5, 2, 8, 4, 4, 3, 7, 1, 1, 3, 7, 6, 6, 8]\n"
     ]
    }
   ],
   "source": [
    "import random\n",
    "random_list = [random.randint(1, 2) for _ in range(15)]\n",
    "print(random_list)\n",
    "\n",
    "random_list_2 = [random.randint(1,10) for _ in range(100)]\n",
    "print(random_list_2)"
   ]
  },
  {
   "cell_type": "code",
   "execution_count": 96,
   "id": "00634680-6c08-4e3a-a9a8-ebf7ca6f7095",
   "metadata": {},
   "outputs": [
    {
     "name": "stdin",
     "output_type": "stream",
     "text": [
      "1부터 100까지의 숫자 중 하나를 입력하세요.: 50\n"
     ]
    },
    {
     "name": "stdout",
     "output_type": "stream",
     "text": [
      "그보다 작습니다.\n"
     ]
    },
    {
     "name": "stdin",
     "output_type": "stream",
     "text": [
      "1부터 100까지의 숫자 중 하나를 입력하세요.: 25\n"
     ]
    },
    {
     "name": "stdout",
     "output_type": "stream",
     "text": [
      "그보다 큽니다.\n"
     ]
    },
    {
     "name": "stdin",
     "output_type": "stream",
     "text": [
      "1부터 100까지의 숫자 중 하나를 입력하세요.: 35\n"
     ]
    },
    {
     "name": "stdout",
     "output_type": "stream",
     "text": [
      "그보다 작습니다.\n"
     ]
    },
    {
     "name": "stdin",
     "output_type": "stream",
     "text": [
      "1부터 100까지의 숫자 중 하나를 입력하세요.: 30\n"
     ]
    },
    {
     "name": "stdout",
     "output_type": "stream",
     "text": [
      "그보다 큽니다.\n"
     ]
    },
    {
     "name": "stdin",
     "output_type": "stream",
     "text": [
      "1부터 100까지의 숫자 중 하나를 입력하세요.: 32\n"
     ]
    },
    {
     "name": "stdout",
     "output_type": "stream",
     "text": [
      "맞췄습니다.!\n",
      "5번만에 맞추셨습니다.\n",
      "입력한 숫자는 다음과 같습니다.50 25 35 30 32 "
     ]
    }
   ],
   "source": [
    "# 연습 문제\n",
    "random_num = random.randint(1,100)\n",
    "count = 0\n",
    "result_list = []\n",
    "\n",
    "while True:\n",
    "    num = int(input(\"1부터 100까지의 숫자 중 하나를 입력하세요.:\"))\n",
    "    \n",
    "    if num > random_num:\n",
    "        print(\"그보다 작습니다.\")\n",
    "        count += 1\n",
    "        result_list.append(num)\n",
    "        continue\n",
    "    elif num < random_num:\n",
    "        print(\"그보다 큽니다.\")\n",
    "        count += 1\n",
    "        result_list.append(num)\n",
    "        continue        \n",
    "    elif num < 0 or num > 100:\n",
    "        print(\"1~100사이의 숫자를 입력하세요.\")\n",
    "        count += 1\n",
    "        result_list.append(num)\n",
    "        continue        \n",
    "    elif num == random_num:\n",
    "        print(\"맞췄습니다.!\")\n",
    "        count += 1\n",
    "        result_list.append(num)\n",
    "        print(f'{count}번만에 맞추셨습니다.')\n",
    "        print('입력한 숫자는 다음과 같습니다. ', end = \"\")\n",
    "        [print(i, end = \" \") for i in result_list]\n",
    "        break"
   ]
  },
  {
   "cell_type": "code",
   "execution_count": null,
   "id": "bc06d7ee-9e37-4d66-ad12-a4c84a3fdd58",
   "metadata": {},
   "outputs": [
    {
     "name": "stdin",
     "output_type": "stream",
     "text": [
      "1~100 중 숫자를 맞춰보세요: 100\n"
     ]
    },
    {
     "name": "stdout",
     "output_type": "stream",
     "text": [
      "그보다 작습니다.\n"
     ]
    },
    {
     "name": "stdin",
     "output_type": "stream",
     "text": [
      "1~100 중 숫자를 맞춰보세요: 50\n"
     ]
    },
    {
     "name": "stdout",
     "output_type": "stream",
     "text": [
      "그보다 큽니다.\n"
     ]
    },
    {
     "name": "stdin",
     "output_type": "stream",
     "text": [
      "1~100 중 숫자를 맞춰보세요: 75\n"
     ]
    },
    {
     "name": "stdout",
     "output_type": "stream",
     "text": [
      "그보다 작습니다.\n"
     ]
    },
    {
     "name": "stdin",
     "output_type": "stream",
     "text": [
      "1~100 중 숫자를 맞춰보세요: 65\n"
     ]
    },
    {
     "name": "stdout",
     "output_type": "stream",
     "text": [
      "그보다 큽니다.\n"
     ]
    },
    {
     "name": "stdin",
     "output_type": "stream",
     "text": [
      "1~100 중 숫자를 맞춰보세요: 70\n"
     ]
    },
    {
     "name": "stdout",
     "output_type": "stream",
     "text": [
      "그보다 큽니다.\n"
     ]
    },
    {
     "name": "stdin",
     "output_type": "stream",
     "text": [
      "1~100 중 숫자를 맞춰보세요: 72\n"
     ]
    },
    {
     "name": "stdout",
     "output_type": "stream",
     "text": [
      "그보다 작습니다.\n"
     ]
    },
    {
     "name": "stdin",
     "output_type": "stream",
     "text": [
      "1~100 중 숫자를 맞춰보세요: 71\n"
     ]
    },
    {
     "name": "stdout",
     "output_type": "stream",
     "text": [
      "그보다 작습니다.\n"
     ]
    }
   ],
   "source": [
    "# 풀이\n",
    "random_num = random.randint(1,100)\n",
    "input_values = []\n",
    "\n",
    "while True:\n",
    "    input_values.append(input(\"1~100 중 숫자를 맞춰보세요:\"))\n",
    "    _ = int(input_values[-1])\n",
    "    if _ < 0 or _ > 100:\n",
    "        print(\"1~100 사이의 숫자를 입력하세요.\")\n",
    "    elif _ < random_num:\n",
    "        print(\"그보다 큽니다.\")    \n",
    "    elif _:\n",
    "        print(\"그보다 작습니다.\")\n",
    "    else:\n",
    "        print(\"맞췄습니다.\")\n",
    "        break\n",
    "print(len(input_values), \"번만에 맞추셨숩니다.\", sep=\"\")\n",
    "print(\"입력한 숫자는 다음과 같습니다.\", \", \".join(input_values))"
   ]
  },
  {
   "cell_type": "markdown",
   "id": "3f8cdf4b-e0af-42c7-baa6-d7137855f9bd",
   "metadata": {},
   "source": [
    "# 3. 리스트 변수 할당해서 복사"
   ]
  },
  {
   "cell_type": "markdown",
   "id": "b97f28ac-7bfd-4341-9639-1841a90a63c6",
   "metadata": {
    "tags": []
   },
   "source": [
    "## 1) 리스트 복사(copy() 메서드)\n",
    "-> 리스트.copy() 메서드는 리스트 객체를 <u>새롭게 복사</u><br>\n",
    "  \n",
    "  => 평소 컨트롤 CV하듯이 한번 하고나면 새로 copy해야 paste작업 할 수 있다 생각 할 것"
   ]
  },
  {
   "cell_type": "code",
   "execution_count": 120,
   "id": "f7e2e953-808f-4114-8591-cfb817ac8150",
   "metadata": {},
   "outputs": [
    {
     "name": "stdout",
     "output_type": "stream",
     "text": [
      "2530505711808\n",
      "2530505572096\n",
      "False\n"
     ]
    }
   ],
   "source": [
    "list_g = list(range(10))\n",
    "list_h = list_g.copy()\n",
    "print(id(list_g))\n",
    "print(id(list_h))\n",
    "print(list_g is list_h)"
   ]
  },
  {
   "cell_type": "code",
   "execution_count": 122,
   "id": "59157e9a-fdc7-49c7-929a-4ae5d62ee734",
   "metadata": {},
   "outputs": [
    {
     "name": "stdout",
     "output_type": "stream",
     "text": [
      "[999, 1, 2, 3, 4, 5, 6, 7, 8, 9]\n",
      "[0, 1, 2, 3, 4, 5, 6, 7, 8, 9]\n"
     ]
    }
   ],
   "source": [
    "list_g[0] = 999\n",
    "print(list_g)\n",
    "print(list_h)"
   ]
  },
  {
   "cell_type": "markdown",
   "id": "f46bb53d-79e9-4657-b04c-03cbe11f4ce4",
   "metadata": {
    "tags": []
   },
   "source": [
    "## 2) 얕은 복사 => 리스트 안에 리스트(객체)를 주소로 복사한다.\n",
    "-> 리스트 내에 있는 <u>값</u>을 그대로 복사. 리스트 요소 중 메모리 주소를 담고 있는 참조 변수가 있으면 객체 주소만 복사해옴.\n",
    "\n",
    "-> 단 하나의 요소만 바꿨을 뿐인데 모든 요소의 값이 변경됨.<br>\n",
    "요소가 객체로 되어있으면 메모리 주소만 복사"
   ]
  },
  {
   "cell_type": "code",
   "execution_count": 123,
   "id": "155b83cc-b666-484e-a3b7-4182baf8aead",
   "metadata": {},
   "outputs": [],
   "source": [
    "list_i = [[0]] * 3"
   ]
  },
  {
   "cell_type": "code",
   "execution_count": 124,
   "id": "c6c298ce-553e-4962-ba4e-34943e8ebf7a",
   "metadata": {},
   "outputs": [
    {
     "name": "stdout",
     "output_type": "stream",
     "text": [
      "[[0], [0], [0]]\n"
     ]
    }
   ],
   "source": [
    "print(list_i)"
   ]
  },
  {
   "cell_type": "code",
   "execution_count": 125,
   "id": "b4a9517a-7018-4b59-b4c5-d360c4734709",
   "metadata": {},
   "outputs": [],
   "source": [
    "list_i[0][0] = 999"
   ]
  },
  {
   "cell_type": "code",
   "execution_count": 128,
   "id": "e330b173-06b7-4be3-ae7f-c5fee60b9a40",
   "metadata": {},
   "outputs": [
    {
     "name": "stdout",
     "output_type": "stream",
     "text": [
      "[[999], [999], [999]]\n"
     ]
    }
   ],
   "source": [
    "print(list_i)"
   ]
  },
  {
   "cell_type": "code",
   "execution_count": 129,
   "id": "b47d7ed0-957e-4ef6-9a0b-9df853fa6727",
   "metadata": {},
   "outputs": [
    {
     "data": {
      "text/plain": [
       "True"
      ]
     },
     "execution_count": 129,
     "metadata": {},
     "output_type": "execute_result"
    }
   ],
   "source": [
    "list_i[0][0] is list_i[1][0]"
   ]
  },
  {
   "cell_type": "code",
   "execution_count": 130,
   "id": "df45a90c-1145-4382-b94e-93bf211f976d",
   "metadata": {},
   "outputs": [
    {
     "data": {
      "text/plain": [
       "True"
      ]
     },
     "execution_count": 130,
     "metadata": {},
     "output_type": "execute_result"
    }
   ],
   "source": [
    "list_i[1][0] is list_i[2][0]"
   ]
  },
  {
   "cell_type": "code",
   "execution_count": 131,
   "id": "3829a2b6-b46c-4639-b7d4-22ff6a8a508e",
   "metadata": {},
   "outputs": [
    {
     "data": {
      "text/plain": [
       "True"
      ]
     },
     "execution_count": 131,
     "metadata": {},
     "output_type": "execute_result"
    }
   ],
   "source": [
    "list_i[0][0] is list_i[2][0]"
   ]
  },
  {
   "cell_type": "code",
   "execution_count": 1,
   "id": "be8ac9f6-f4f2-46b4-9a66-378417f0c8fd",
   "metadata": {},
   "outputs": [
    {
     "data": {
      "text/plain": [
       "[[0], [0], [0]]"
      ]
     },
     "execution_count": 1,
     "metadata": {},
     "output_type": "execute_result"
    }
   ],
   "source": [
    "a = [[0]] * 3\n",
    "a"
   ]
  },
  {
   "cell_type": "code",
   "execution_count": 3,
   "id": "95a66b20-3330-41dc-beff-576168429381",
   "metadata": {},
   "outputs": [
    {
     "name": "stdout",
     "output_type": "stream",
     "text": [
      "2108516362512\n",
      "2108516362512\n",
      "2108516362512\n"
     ]
    }
   ],
   "source": [
    "print(id(a[0][0]))\n",
    "print(id(a[1][0]))\n",
    "print(id(a[2][0]))"
   ]
  },
  {
   "cell_type": "code",
   "execution_count": 4,
   "id": "65d3fd39-da44-4088-ba6b-e975157f6760",
   "metadata": {},
   "outputs": [],
   "source": [
    "row = [0]\n",
    "a = []\n",
    "for i in range(3):\n",
    "    a.append(row)"
   ]
  },
  {
   "cell_type": "code",
   "execution_count": 8,
   "id": "49a9520c-20d9-4aa2-8bc7-b6d7cf8419a6",
   "metadata": {},
   "outputs": [
    {
     "name": "stdout",
     "output_type": "stream",
     "text": [
      "2108594847488\n",
      "2108594847488\n",
      "2108594847488\n"
     ]
    }
   ],
   "source": [
    "print(id(a[0]))\n",
    "print(id(a[1]))\n",
    "print(id(a[2]))"
   ]
  },
  {
   "cell_type": "code",
   "execution_count": 6,
   "id": "5af22dfa-7806-41a2-87bd-1f0ef3dd49cd",
   "metadata": {},
   "outputs": [],
   "source": [
    "b = []\n",
    "for i in range(3):\n",
    "    row = [0] # for문이 반복될 때마다 새롭게 생성되는 변수\n",
    "    b.append(row)"
   ]
  },
  {
   "cell_type": "code",
   "execution_count": 7,
   "id": "2c3f3b65-7e67-4804-917a-e2ad78d52887",
   "metadata": {},
   "outputs": [
    {
     "name": "stdout",
     "output_type": "stream",
     "text": [
      "2108595579072\n",
      "2108595503680\n",
      "2108595504320\n"
     ]
    }
   ],
   "source": [
    "print(id(b[0]))\n",
    "print(id(b[1]))\n",
    "print(id(b[2]))"
   ]
  },
  {
   "cell_type": "code",
   "execution_count": 135,
   "id": "004b5627-c6e4-417d-9bf4-38707ce18d7c",
   "metadata": {},
   "outputs": [
    {
     "name": "stdout",
     "output_type": "stream",
     "text": [
      "True\n"
     ]
    }
   ],
   "source": [
    "# 슬라이싱으로 복사\n",
    "list_j = [[1,2],[3,4]]\n",
    "list_k = list_j[:]\n",
    "print(list_k[0] is list_j[0])"
   ]
  },
  {
   "cell_type": "code",
   "execution_count": 139,
   "id": "5e5ab237-204e-45bc-9b9c-042840fc980f",
   "metadata": {},
   "outputs": [
    {
     "name": "stdout",
     "output_type": "stream",
     "text": [
      "[[1, 4], [3, 4]]\n",
      "[[1, 4], [3, 4]]\n"
     ]
    }
   ],
   "source": [
    "list_j[0][1] = 2 ** 2\n",
    "print(list_j)\n",
    "print(list_k)"
   ]
  },
  {
   "cell_type": "code",
   "execution_count": 137,
   "id": "6c7b128a-c07f-42bf-b618-ca52ea9fa23d",
   "metadata": {},
   "outputs": [
    {
     "name": "stdout",
     "output_type": "stream",
     "text": [
      "True\n"
     ]
    }
   ],
   "source": [
    "# copy() 메서드로 복사\n",
    "list_l = [[5,6],[7,8]]\n",
    "list_m = list_l.copy()\n",
    "print(list_l[0] is list_m[0])"
   ]
  },
  {
   "cell_type": "code",
   "execution_count": 140,
   "id": "bf1baafa-ee4c-4abf-a0fd-c766932ad751",
   "metadata": {},
   "outputs": [
    {
     "name": "stdout",
     "output_type": "stream",
     "text": [
      "[[5, 4], [7, 8]]\n",
      "[[5, 4], [7, 8]]\n"
     ]
    }
   ],
   "source": [
    "list_l[0][1] = 999\n",
    "print(list_l)\n",
    "print(list_m)"
   ]
  },
  {
   "cell_type": "code",
   "execution_count": 13,
   "id": "6024d774-d3c3-4090-bf4c-a70020f832bb",
   "metadata": {},
   "outputs": [
    {
     "data": {
      "text/plain": [
       "False"
      ]
     },
     "execution_count": 13,
     "metadata": {},
     "output_type": "execute_result"
    }
   ],
   "source": [
    "l1 = [1,2,[3,4]]\n",
    "l2 = l1.copy()\n",
    "\n",
    "l1 is l2"
   ]
  },
  {
   "cell_type": "code",
   "execution_count": 16,
   "id": "983f5ecc-7493-468d-ac87-80ce8081a040",
   "metadata": {},
   "outputs": [
    {
     "data": {
      "text/plain": [
       "True"
      ]
     },
     "execution_count": 16,
     "metadata": {},
     "output_type": "execute_result"
    }
   ],
   "source": [
    "l1[-1] is l2[-1]"
   ]
  },
  {
   "cell_type": "code",
   "execution_count": 14,
   "id": "65635e84-4a5d-487c-ae98-1ab18e698294",
   "metadata": {},
   "outputs": [
    {
     "data": {
      "text/plain": [
       "False"
      ]
     },
     "execution_count": 14,
     "metadata": {},
     "output_type": "execute_result"
    }
   ],
   "source": [
    "l3 = [5,6]\n",
    "l4 = l3[:]\n",
    "\n",
    "l3 is l4"
   ]
  },
  {
   "cell_type": "code",
   "execution_count": 17,
   "id": "64c3c6bd-5ed5-440d-8519-8789cd16d436",
   "metadata": {},
   "outputs": [
    {
     "data": {
      "text/plain": [
       "False"
      ]
     },
     "execution_count": 17,
     "metadata": {},
     "output_type": "execute_result"
    }
   ],
   "source": [
    "l5 = [7,8,(9,10)]\n",
    "l6 = l5.copy()\n",
    "\n",
    "l5 is l6"
   ]
  },
  {
   "cell_type": "markdown",
   "id": "648a87a5-bb9b-418e-87b9-0bfdf334a060",
   "metadata": {
    "tags": []
   },
   "source": [
    "## 3) 깊은 복사\n",
    "\n",
    "-> 리스트 내 요소가 메모리 주소를 담고있는 객체더라도 객체를 완전하게 깊이에 상관없이 다 새롭게 복사.<br>\n",
    "-> 전혀 다른 메모리 공간을 차지하는 완전한 리스트로 복사. <br>\n",
    "-> 두 리스트 간에 값은 같으나(==) 객체는 완전히 다름."
   ]
  },
  {
   "cell_type": "code",
   "execution_count": 138,
   "id": "835b6790-4638-48c7-8395-1e9a156f0e1f",
   "metadata": {},
   "outputs": [
    {
     "name": "stdout",
     "output_type": "stream",
     "text": [
      "False\n"
     ]
    }
   ],
   "source": [
    "import copy\n",
    "list_n = [[9,10], [11,12]]\n",
    "list_o = copy.deepcopy(list_n)\n",
    "print(list_n[0] is list_o[0])"
   ]
  },
  {
   "cell_type": "code",
   "execution_count": 134,
   "id": "e3fb0b93-7366-4b1b-b513-ad4272edaf95",
   "metadata": {},
   "outputs": [
    {
     "name": "stdout",
     "output_type": "stream",
     "text": [
      "[[9, 999], [11, 12]]\n",
      "[[9, 10], [11, 12]]\n"
     ]
    }
   ],
   "source": [
    "list_n[0][1] = 999\n",
    "print(list_n)\n",
    "print(list_o)"
   ]
  },
  {
   "cell_type": "code",
   "execution_count": null,
   "id": "39b3e097-7ddb-4473-975c-bc6fb7bbf5f1",
   "metadata": {},
   "outputs": [],
   "source": []
  }
 ],
 "metadata": {
  "kernelspec": {
   "display_name": "Python 3 (ipykernel)",
   "language": "python",
   "name": "python3"
  },
  "language_info": {
   "codemirror_mode": {
    "name": "ipython",
    "version": 3
   },
   "file_extension": ".py",
   "mimetype": "text/x-python",
   "name": "python",
   "nbconvert_exporter": "python",
   "pygments_lexer": "ipython3",
   "version": "3.9.13"
  }
 },
 "nbformat": 4,
 "nbformat_minor": 5
}
