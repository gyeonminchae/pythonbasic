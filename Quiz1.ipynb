{
 "cells": [
  {
   "cell_type": "markdown",
   "id": "77dc3a29-6f40-4c23-802f-956893b48a1c",
   "metadata": {},
   "source": [
    "# 퀴즈 풀이\n"
   ]
  },
  {
   "cell_type": "markdown",
   "id": "a41d8055-5bb8-4095-9c9c-e31eeddee33b",
   "metadata": {},
   "source": [
    "(문제1) 다음 보기 중 시퀀스 자료형이 아닌 것을 고르세요 \n",
    "1) str 2) tuple 3) dictionary 4) list 5) range"
   ]
  },
  {
   "cell_type": "markdown",
   "id": "a9f212a5-79d8-4c5d-8e2b-c7f49701566d",
   "metadata": {},
   "source": [
    "답: 3) dictionary"
   ]
  },
  {
   "cell_type": "markdown",
   "id": "204a4e01-8c80-4713-a66c-bd6d55e6e40d",
   "metadata": {},
   "source": [
    "(문제2) 다음 중 계산식의 결과가 실수인 것을 고르세요 답\n",
    "1) 10 // 3 2) float(10 - 2) 3) int(7 / 3) 4) float 10 / 3 5) 10 % 3"
   ]
  },
  {
   "cell_type": "code",
   "execution_count": 2,
   "id": "81a7c98c-88ef-41aa-93d1-395e6a8302b1",
   "metadata": {},
   "outputs": [
    {
     "data": {
      "text/plain": [
       "float"
      ]
     },
     "execution_count": 2,
     "metadata": {},
     "output_type": "execute_result"
    }
   ],
   "source": [
    "답: 2) float(10 - 2)"
   ]
  },
  {
   "cell_type": "markdown",
   "id": "66d5b127-92f3-499a-a133-a106e01e8173",
   "metadata": {},
   "source": [
    "(문제3) 7 + 3 * 2 ** 7 - 256 의 계산 결과를 입력해보세요."
   ]
  },
  {
   "cell_type": "markdown",
   "id": "c7a31e95-c9d7-4e7a-b17a-34a2b7c49102",
   "metadata": {},
   "source": [
    "답: 135"
   ]
  },
  {
   "cell_type": "markdown",
   "id": "5b086c6b-3a87-4131-b194-7b816e0d924d",
   "metadata": {},
   "source": [
    "문제4) 문자열을 담고 있는 x의 5번째, 10번째, 19번째 글자를 출력하는 코드를 한 줄로 작성해보세요.\n",
    "코드 x = \"Don't want no riddle\" "
   ]
  },
  {
   "cell_type": "code",
   "execution_count": 9,
   "id": "8c3c4cc0-fc73-474e-9317-6c97961c071d",
   "metadata": {},
   "outputs": [],
   "source": [
    "x = \"Don't want no riddle\" "
   ]
  },
  {
   "cell_type": "code",
   "execution_count": 17,
   "id": "835ff180-279d-4522-93f6-52e7e6377873",
   "metadata": {},
   "outputs": [
    {
     "name": "stdout",
     "output_type": "stream",
     "text": [
      "ttl\n"
     ]
    }
   ],
   "source": [
    "답: print(x[4],x[9],x[18], sep='')"
   ]
  },
  {
   "cell_type": "markdown",
   "id": "46100db0-d7a0-469f-ad8b-ba820020b2a5",
   "metadata": {},
   "source": [
    "(문제5) 파이썬에서 변수를 선언하고 값을 할당하는 방법으로 올바른 것을 고르세요 \n",
    "1) int x = 5\n",
    "2) string x = \"안녕하세요.\"\n",
    "3) x(5)\n",
    "4) 10 = x\n",
    "5) x = 10"
   ]
  },
  {
   "cell_type": "markdown",
   "id": "fd884ec6-c237-43ec-827c-4475ff8037f1",
   "metadata": {},
   "source": [
    "답: 5) x = 10"
   ]
  },
  {
   "cell_type": "markdown",
   "id": "eca17abd-7265-4a4f-8759-05ac87a1263c",
   "metadata": {},
   "source": [
    "(문제6) git에서 버전 이력을 조회하는 방법으로 올바른 것을 고르세요.\n",
    "1) git add \n",
    "2) git status\n",
    "3) git log\n",
    "4) git commit\n",
    "5) git remote"
   ]
  },
  {
   "cell_type": "markdown",
   "id": "8d411dfb-8c8c-4e61-8c59-555337e3c245",
   "metadata": {},
   "source": [
    "답: 2) git status => 버전 이력 확인 3) git log"
   ]
  },
  {
   "cell_type": "markdown",
   "id": "72dac6bc-71cc-4be5-9ff3-4985b7e7f517",
   "metadata": {},
   "source": [
    "(문제7) 다음 중 변수 이름으로 사용할 수 없는 것을 모두 고르세요.\n",
    "1) 01python\n",
    "2) _01python\n",
    "3) true\n",
    "4) kebab-case\n",
    "5) top10"
   ]
  },
  {
   "cell_type": "markdown",
   "id": "d16439eb-136c-40c2-b13a-8b9c21e4b0c6",
   "metadata": {},
   "source": [
    "답: 1) 01python, 4) kebab-case"
   ]
  },
  {
   "cell_type": "markdown",
   "id": "6e617e3e-5e00-4cd5-9a4f-59034ee17d83",
   "metadata": {},
   "source": [
    "(문제8) 실행 결과와 같게 출력되도록 코드를 완성해보세요."
   ]
  },
  {
   "cell_type": "markdown",
   "id": "1fdee3aa-9d38-4d3a-ac4c-4454973a8e87",
   "metadata": {},
   "source": [
    "print(a)\n",
    "print(b)\n",
    "print(c)\n",
    "print(d)\n",
    "\n",
    "2023년\n",
    "100\n",
    "None\n",
    "False"
   ]
  },
  {
   "cell_type": "markdown",
   "id": "9572a4e2-964f-4f0c-b3a7-f882a98c61e6",
   "metadata": {},
   "source": [
    "답: \n",
    "a = \"2023년\"\n",
    "b = 100\n",
    "c = None\n",
    "d = False"
   ]
  },
  {
   "cell_type": "markdown",
   "id": "04f9e7a2-7a0d-4760-8304-2d354e4f3c6c",
   "metadata": {},
   "source": [
    "(문제9) 파이썬 언어가 갖는 특징에 대해 올바르게 설명한 것을 모두 고르세요. 답\n",
    "1) 파이썬은 동적 타이핑을 제공하는 언어입니다.\n",
    "2) 파이썬은 인터프리터적인 특징을 갖습니다.\n",
    "3) 파이썬3의 기본 인코딩은 ASCII입니다.\n",
    "4) 파이썬은 들여쓰기를 통해 코드의 범위를 지정해야 합니다.\n",
    "5) 파이썬은 반드시 명령어 마지막에 세미콜론을 붙여야 합니다"
   ]
  },
  {
   "cell_type": "code",
   "execution_count": null,
   "id": "d9c74f2e-8ced-452e-b31c-10078ab2f4dd",
   "metadata": {},
   "outputs": [],
   "source": [
    "답: 1) 파이썬은 동적 타이핑을 제공하는 언어입니다., 2) 파이썬은 인터프리터적인 특징을 갖습니다. => + 4) 파이썬은 들여쓰기를 통해 코드의 범위를 지정해야 합니다."
   ]
  },
  {
   "cell_type": "markdown",
   "id": "0d6b6d7c-c04b-43ee-b1bc-195937fc858c",
   "metadata": {},
   "source": [
    "(문제10) 슬라이싱을 통해 아래의 문자열에서 'zxvtrpnlj'를 출력해보세요.\n",
    "letters = 'abcdefghijklmnopqrstuvwxyz'"
   ]
  },
  {
   "cell_type": "code",
   "execution_count": 26,
   "id": "0fc342b3-3f27-4f25-a1ed-c5dbee2fc184",
   "metadata": {},
   "outputs": [],
   "source": [
    "letters = 'abcdefghijklmnopqrstuvwxyz'"
   ]
  },
  {
   "cell_type": "code",
   "execution_count": 30,
   "id": "c46667be-cc10-4f3b-bc9e-b975c906cd90",
   "metadata": {},
   "outputs": [
    {
     "data": {
      "text/plain": [
       "'zxvtrpnlj'"
      ]
     },
     "execution_count": 30,
     "metadata": {},
     "output_type": "execute_result"
    }
   ],
   "source": [
    "답: letters[-1:-18:-2]"
   ]
  }
 ],
 "metadata": {
  "kernelspec": {
   "display_name": "Python 3 (ipykernel)",
   "language": "python",
   "name": "python3"
  },
  "language_info": {
   "codemirror_mode": {
    "name": "ipython",
    "version": 3
   },
   "file_extension": ".py",
   "mimetype": "text/x-python",
   "name": "python",
   "nbconvert_exporter": "python",
   "pygments_lexer": "ipython3",
   "version": "3.9.13"
  }
 },
 "nbformat": 4,
 "nbformat_minor": 5
}
