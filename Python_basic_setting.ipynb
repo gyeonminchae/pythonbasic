{
 "cells": [
  {
   "cell_type": "markdown",
   "id": "0174e095-d896-4305-93e8-719794955870",
   "metadata": {},
   "source": [
    "# 1. 파이썬 기본 설정"
   ]
  },
  {
   "cell_type": "code",
   "execution_count": 2,
   "id": "1eaba006-2209-4787-8ddf-cea823a4808b",
   "metadata": {},
   "outputs": [
    {
     "name": "stdout",
     "output_type": "stream",
     "text": [
      "3.9.13 (main, Aug 25 2022, 23:51:50) [MSC v.1916 64 bit (AMD64)]\n"
     ]
    }
   ],
   "source": [
    "import sys\n",
    "print(sys.version)"
   ]
  },
  {
   "cell_type": "code",
   "execution_count": 3,
   "id": "2f50be42-c9af-488b-92f4-73fc1a8b7143",
   "metadata": {},
   "outputs": [
    {
     "name": "stdout",
     "output_type": "stream",
     "text": [
      " C 드라이브의 볼륨에는 이름이 없습니다.\n",
      " 볼륨 일련 번호: D42D-DE20\n",
      "\n",
      " C:\\python 디렉터리\n",
      "\n",
      "2023-02-13  오전 11:42    <DIR>          .\n",
      "2023-02-13  오전 11:42    <DIR>          ..\n",
      "2023-02-13  오전 11:12                18 .gitignore\n",
      "2023-02-13  오전 10:31    <DIR>          .ipynb_checkpoints\n",
      "2023-02-13  오전 10:40             1,829 01python.ipynb\n",
      "               2개 파일               1,847 바이트\n",
      "               3개 디렉터리  170,393,477,120 바이트 남음\n"
     ]
    }
   ],
   "source": [
    "!dir"
   ]
  },
  {
   "cell_type": "code",
   "execution_count": 4,
   "id": "97f24893-e89f-45b6-ace6-1fca3f30ddd6",
   "metadata": {},
   "outputs": [
    {
     "name": "stdout",
     "output_type": "stream",
     "text": [
      "Hello World\n"
     ]
    }
   ],
   "source": [
    "print(\"Hello World\")"
   ]
  },
  {
   "cell_type": "code",
   "execution_count": null,
   "id": "7d7fab04-8126-4926-b07d-6310cd8a451f",
   "metadata": {},
   "outputs": [],
   "source": []
  }
 ],
 "metadata": {
  "kernelspec": {
   "display_name": "Python 3 (ipykernel)",
   "language": "python",
   "name": "python3"
  },
  "language_info": {
   "codemirror_mode": {
    "name": "ipython",
    "version": 3
   },
   "file_extension": ".py",
   "mimetype": "text/x-python",
   "name": "python",
   "nbconvert_exporter": "python",
   "pygments_lexer": "ipython3",
   "version": "3.9.13"
  }
 },
 "nbformat": 4,
 "nbformat_minor": 5
}
