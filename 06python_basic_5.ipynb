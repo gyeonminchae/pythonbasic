{
 "cells": [
  {
   "cell_type": "markdown",
   "id": "3d70f303-b2b0-4782-98ff-ece65123e5c5",
   "metadata": {},
   "source": [
    "# 예외\n",
    "-> 코드를 실행하다가 에러가 발생되는 것을 의미\n",
    "    ex. 숫자 0으로 나누는 경우에 연산이 불가하여 ZeroDivisionError 발생"
   ]
  },
  {
   "cell_type": "code",
   "execution_count": 1,
   "id": "1445048d-de99-4129-a38e-4c743c14c0f9",
   "metadata": {},
   "outputs": [
    {
     "ename": "ZeroDivisionError",
     "evalue": "division by zero",
     "output_type": "error",
     "traceback": [
      "\u001b[1;31m---------------------------------------------------------------------------\u001b[0m",
      "\u001b[1;31mZeroDivisionError\u001b[0m                         Traceback (most recent call last)",
      "\u001b[1;32m~\\AppData\\Local\\Temp\\ipykernel_1284\\3930453905.py\u001b[0m in \u001b[0;36m<module>\u001b[1;34m\u001b[0m\n\u001b[1;32m----> 1\u001b[1;33m \u001b[1;36m128\u001b[0m\u001b[1;33m/\u001b[0m\u001b[1;36m0\u001b[0m\u001b[1;33m\u001b[0m\u001b[1;33m\u001b[0m\u001b[0m\n\u001b[0m",
      "\u001b[1;31mZeroDivisionError\u001b[0m: division by zero"
     ]
    }
   ],
   "source": [
    "128/0"
   ]
  },
  {
   "cell_type": "markdown",
   "id": "a26322b8-d8cb-4dbe-8bdd-a3ff015fb3e4",
   "metadata": {},
   "source": [
    "## 예외 처리, try. except\n",
    "\n",
    "-> 에러가 발생되는 예외가 발생했을 때도 프로그램의 중단 없이 계속 실행되도록 처리하는 것\n",
    "\n",
    "* 이때는 실행할 코드를 try의 코드 블록에 적고 에러가 발생되어 예외 처리 되는 부분을 except 코드 블록에 작성"
   ]
  },
  {
   "cell_type": "code",
   "execution_count": 2,
   "id": "6f6e4bf3-f77e-4dc3-98f8-9e03171cab34",
   "metadata": {},
   "outputs": [],
   "source": [
    "try:\n",
    "    pass\n",
    "except:\n",
    "    pass"
   ]
  },
  {
   "cell_type": "code",
   "execution_count": 3,
   "id": "08f6b51d-b4cd-4d1b-ace6-d96f7e802573",
   "metadata": {},
   "outputs": [
    {
     "name": "stdout",
     "output_type": "stream",
     "text": [
      "0으로 나눌 수 없습니다.\n"
     ]
    }
   ],
   "source": [
    "try:\n",
    "    #나눗셈 연산 시 0으로 나누면 에러 발생\n",
    "    result = 28/0\n",
    "    print(f'연산의 결과는 {result}입니다.')\n",
    "except:\n",
    "    print('0으로 나눌 수 없습니다.')"
   ]
  },
  {
   "cell_type": "code",
   "execution_count": 14,
   "id": "82fb0c3e-049a-4757-a243-2dfafaae3d8b",
   "metadata": {},
   "outputs": [
    {
     "name": "stdin",
     "output_type": "stream",
     "text": [
      "숫자 두개를 입력하세요. 12 23\n"
     ]
    }
   ],
   "source": [
    "# 연습 문제\n",
    "\n",
    "try:\n",
    "    x, y = input('숫자 두개를 입력하세요.').split()\n",
    "except:\n",
    "    print('값을 잘못 입력하셨습니다.')"
   ]
  },
  {
   "cell_type": "markdown",
   "id": "2791c55d-261e-490a-9ed4-e9846e11c195",
   "metadata": {},
   "source": [
    "## 예외 처리, except 에러마다 분기하기"
   ]
  },
  {
   "cell_type": "code",
   "execution_count": 15,
   "id": "3d74dc47-d194-4909-a347-2a97f8ed880b",
   "metadata": {},
   "outputs": [
    {
     "name": "stdout",
     "output_type": "stream",
     "text": [
      "0으로 나눌 수 없습니다.\n",
      "division by zero\n"
     ]
    }
   ],
   "source": [
    "x = range(4)\n",
    "\n",
    "try:\n",
    "    for i in range(4):\n",
    "        y = 10/x[i]\n",
    "except ZeroDivisionError as e:\n",
    "    print('0으로 나눌 수 없습니다.')\n",
    "    print(e)\n",
    "except IndexError as e:\n",
    "    print('인덱스 에러 발생')\n",
    "    print(e)"
   ]
  },
  {
   "cell_type": "code",
   "execution_count": 16,
   "id": "bf5be745-1446-4181-85ca-b6b091c8fadb",
   "metadata": {},
   "outputs": [
    {
     "name": "stdout",
     "output_type": "stream",
     "text": [
      "인덱스 에러 발생\n",
      "range object index out of range\n"
     ]
    }
   ],
   "source": [
    "x = range(1,4)\n",
    "\n",
    "try:\n",
    "    for i in range(4):\n",
    "        y = 10/x[i]\n",
    "except ZeroDivisionError as e:\n",
    "    print('0으로 나눌 수 없습니다.')\n",
    "    print(e)\n",
    "except IndexError as e:\n",
    "    print('인덱스 에러 발생')\n",
    "    print(e)"
   ]
  },
  {
   "cell_type": "markdown",
   "id": "82f34d47-48c7-4fc9-92d2-50941fb61cf3",
   "metadata": {},
   "source": [
    "## 예외 처리, as 키워드 활용"
   ]
  },
  {
   "cell_type": "code",
   "execution_count": 18,
   "id": "6ac7991a-4834-4509-abdd-381f5fdafc6c",
   "metadata": {},
   "outputs": [
    {
     "name": "stdout",
     "output_type": "stream",
     "text": [
      "인덱스 에러 발생\n",
      "range object index out of range\n"
     ]
    }
   ],
   "source": [
    "x = range(1,4)\n",
    "\n",
    "try:\n",
    "    for i in range(4):\n",
    "        y = 10 / x[i]\n",
    "except ZeroDivisionError as e:\n",
    "    print('0으로 나눌 수 없습니다.')\n",
    "    print(e)\n",
    "except IndexError as e:\n",
    "    print('인덱스 에러 발생')\n",
    "    print(e)"
   ]
  },
  {
   "cell_type": "markdown",
   "id": "b091f120-e793-4713-9991-d85b74a4a1aa",
   "metadata": {},
   "source": [
    "## 예외 처리, else"
   ]
  },
  {
   "cell_type": "code",
   "execution_count": 19,
   "id": "54b4e51d-62d2-4d89-bc39-e33b901668d9",
   "metadata": {},
   "outputs": [
    {
     "name": "stdout",
     "output_type": "stream",
     "text": [
      "에러 없이 실행되었습니다.\n"
     ]
    }
   ],
   "source": [
    "x = range(1,5)\n",
    "\n",
    "try:\n",
    "    for i in range(4):\n",
    "        y = 10 / x[i]\n",
    "except ZeroDivisionError as e:\n",
    "    print('0으로 나눌 수 없습니다.')\n",
    "    print(e)\n",
    "except IndexError as e:\n",
    "    print('인덱스 에러 발생')\n",
    "    print(e)\n",
    "else:\n",
    "    print('에러 없이 실행되었습니다.')"
   ]
  },
  {
   "cell_type": "code",
   "execution_count": null,
   "id": "f0b8ac71-3a61-47ff-839d-5080f20602c2",
   "metadata": {},
   "outputs": [],
   "source": [
    "# 연습문제\n",
    "try:\n",
    "    num = list(map(int,input('정수 2개를 입력하세요.').split()))\n",
    "    x, y = num[0], num[1]\n",
    "    result = x / y\n",
    "except ValueError as e:\n",
    "    print('값을 잘못 입력하셨습니다.')\n",
    "    print(e)\n",
    "except ZeroDivisionError as e:\n",
    "    print('0으로 나눌 수 없습니다.')\n",
    "    print(e)\n",
    "else:\n",
    "    print(result)"
   ]
  },
  {
   "cell_type": "markdown",
   "id": "b6af62f5-74bb-4e2b-8885-bb59252b8d11",
   "metadata": {},
   "source": [
    "## 예외 처리, finally\n",
    "-> try와 finally를 사용하면 프로그램에서 무조건 실행되는 부분을 작성 가능"
   ]
  },
  {
   "cell_type": "code",
   "execution_count": 24,
   "id": "1da9ba71-c412-483f-8ae1-b58a4c18957a",
   "metadata": {},
   "outputs": [
    {
     "name": "stdout",
     "output_type": "stream",
     "text": [
      "무조건 실행됩니다.\n"
     ]
    },
    {
     "ename": "KeyError",
     "evalue": "",
     "output_type": "error",
     "traceback": [
      "\u001b[1;31m---------------------------------------------------------------------------\u001b[0m",
      "\u001b[1;31mKeyError\u001b[0m                                  Traceback (most recent call last)",
      "\u001b[1;32m~\\AppData\\Local\\Temp\\ipykernel_1284\\2774016884.py\u001b[0m in \u001b[0;36m<module>\u001b[1;34m\u001b[0m\n\u001b[0;32m      1\u001b[0m \u001b[1;32mtry\u001b[0m\u001b[1;33m:\u001b[0m\u001b[1;33m\u001b[0m\u001b[1;33m\u001b[0m\u001b[0m\n\u001b[1;32m----> 2\u001b[1;33m     \u001b[1;32mraise\u001b[0m \u001b[0mKeyError\u001b[0m\u001b[1;33m\u001b[0m\u001b[1;33m\u001b[0m\u001b[0m\n\u001b[0m\u001b[0;32m      3\u001b[0m \u001b[1;32mfinally\u001b[0m\u001b[1;33m:\u001b[0m\u001b[1;33m\u001b[0m\u001b[1;33m\u001b[0m\u001b[0m\n\u001b[0;32m      4\u001b[0m     \u001b[0mprint\u001b[0m\u001b[1;33m(\u001b[0m\u001b[1;34m'무조건 실행됩니다.'\u001b[0m\u001b[1;33m)\u001b[0m\u001b[1;33m\u001b[0m\u001b[1;33m\u001b[0m\u001b[0m\n",
      "\u001b[1;31mKeyError\u001b[0m: "
     ]
    }
   ],
   "source": [
    "try:\n",
    "    raise KeyError\n",
    "finally:\n",
    "    print('무조건 실행됩니다.')"
   ]
  },
  {
   "cell_type": "code",
   "execution_count": 26,
   "id": "77586ec4-5a7f-464a-8816-aa12c32d3d13",
   "metadata": {},
   "outputs": [
    {
     "name": "stdin",
     "output_type": "stream",
     "text": [
      "정수 2개를 입력하세요. sd ds\n"
     ]
    },
    {
     "name": "stdout",
     "output_type": "stream",
     "text": [
      "값을 잘못 입력하셨습니다.\n",
      "invalid literal for int() with base 10: 'sd'\n",
      "프로그램을 종료합니다.\n"
     ]
    }
   ],
   "source": [
    "# 연습문제\n",
    "try:\n",
    "    num = list(map(int,input('정수 2개를 입력하세요.').split()))\n",
    "    x, y = num[0], num[1]\n",
    "    result = x / y\n",
    "except ValueError as e:\n",
    "    print('값을 잘못 입력하셨습니다.')\n",
    "    print(e)\n",
    "except ZeroDivisionError as e:\n",
    "    print('0으로 나눌 수 없습니다.')\n",
    "    print(e)\n",
    "else:\n",
    "    print(result)\n",
    "finally:\n",
    "    print('프로그램을 종료합니다.')"
   ]
  },
  {
   "cell_type": "code",
   "execution_count": null,
   "id": "6541df4e-7497-4acb-aa89-cbd7b4685381",
   "metadata": {},
   "outputs": [],
   "source": []
  },
  {
   "cell_type": "code",
   "execution_count": null,
   "id": "01ec9bfe-3cde-4ee9-937d-2ae5fde906e4",
   "metadata": {},
   "outputs": [],
   "source": []
  }
 ],
 "metadata": {
  "kernelspec": {
   "display_name": "Python 3 (ipykernel)",
   "language": "python",
   "name": "python3"
  },
  "language_info": {
   "codemirror_mode": {
    "name": "ipython",
    "version": 3
   },
   "file_extension": ".py",
   "mimetype": "text/x-python",
   "name": "python",
   "nbconvert_exporter": "python",
   "pygments_lexer": "ipython3",
   "version": "3.9.13"
  }
 },
 "nbformat": 4,
 "nbformat_minor": 5
}
