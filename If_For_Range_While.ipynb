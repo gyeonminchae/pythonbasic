{
 "cells": [
  {
   "cell_type": "markdown",
   "id": "4d7e657e-2c10-4c3d-a56b-9af665544bfd",
   "metadata": {},
   "source": [
    "# 1.IF문\n",
    "-> 조건이 맞을때만 실행하라."
   ]
  },
  {
   "cell_type": "code",
   "execution_count": 22,
   "id": "75d347c2-8263-45e4-b4c2-49bc760c553f",
   "metadata": {},
   "outputs": [],
   "source": [
    "a = \"100\"\n",
    "\n",
    "# a라는 변수의 타입이 in라면 True, int가 아니라면 False\n",
    "if type(a) is int:\n",
    "    print(\"a는 정수입니다.\")"
   ]
  },
  {
   "cell_type": "code",
   "execution_count": null,
   "id": "9e8378aa-4b3f-447b-87d6-07afdeb3edf7",
   "metadata": {},
   "outputs": [],
   "source": [
    "# ![image.png](attachment:419cd014-16b8-44fa-9242-4ac75575f3b8.png)"
   ]
  },
  {
   "cell_type": "code",
   "execution_count": null,
   "id": "fa53b90e-2a9d-4e9b-bcf5-081fe718b509",
   "metadata": {},
   "outputs": [],
   "source": [
    "# ![image.png](attachment:2546186f-1e79-4ee7-9688-3b694ef119e0.png)"
   ]
  },
  {
   "cell_type": "code",
   "execution_count": null,
   "id": "f8e608ed-b78d-4eb4-ae43-37d1d812d38e",
   "metadata": {},
   "outputs": [],
   "source": [
    "# ![image.png](attachment:7d63f58d-608b-453c-9336-81832ce49790.png)"
   ]
  },
  {
   "cell_type": "code",
   "execution_count": null,
   "id": "e56c17f2-a68c-4e03-a5f1-e7dc5813dbbb",
   "metadata": {},
   "outputs": [],
   "source": [
    "# ![image.png](attachment:571a5b58-60d6-493b-9425-00a9a7978f86.png)"
   ]
  },
  {
   "cell_type": "markdown",
   "id": "0d301bf6-d87f-4953-8c72-e19de0cbb968",
   "metadata": {},
   "source": [
    "## 1) IF문과 elif문"
   ]
  },
  {
   "cell_type": "code",
   "execution_count": null,
   "id": "4375205b-fd0e-484c-8ae5-2ba5f3d4ac02",
   "metadata": {},
   "outputs": [],
   "source": [
    "# ![image.png](attachment:84632c64-b754-447a-a8d4-d12e0367b041.png)"
   ]
  },
  {
   "cell_type": "code",
   "execution_count": 29,
   "id": "9526c877-b59f-4cd5-ba06-68439d994651",
   "metadata": {},
   "outputs": [
    {
     "name": "stdout",
     "output_type": "stream",
     "text": [
      "문자열입니다.\n",
      "<class 'str'>\n"
     ]
    }
   ],
   "source": [
    "b = \"10\"\n",
    "\n",
    "if type(b) is int:\n",
    "    print(\"정수입니다.\")\n",
    "# 앞의 조건이 False일 때만 실행되는 부분입니다.\n",
    "elif type(b) is str:\n",
    "    print(\"문자열입니다.\")\n",
    "    \n",
    "print(type(b))"
   ]
  },
  {
   "cell_type": "code",
   "execution_count": 33,
   "id": "1f795ae5-cc83-4ee5-b8e0-346ae140966c",
   "metadata": {},
   "outputs": [
    {
     "name": "stdout",
     "output_type": "stream",
     "text": [
      "시작\n",
      "10보다 작고, 5보단 큽니다.\n",
      "끝\n"
     ]
    }
   ],
   "source": [
    "c = 6\n",
    "print(\"시작\")\n",
    "\n",
    "if c > 10:\n",
    "    print(\"10보다 큽니다.\")\n",
    "elif c < 5:\n",
    "    print(\"10보다 작고, 5보다도 작습니다.\")\n",
    "elif True:\n",
    "    print(\"10보다 작고, 5보단 큽니다.\")\n",
    "\n",
    "print(\"끝\")"
   ]
  },
  {
   "cell_type": "code",
   "execution_count": 37,
   "id": "7cd82fa5-88bc-49db-bb5b-d7bddd3065de",
   "metadata": {},
   "outputs": [
    {
     "name": "stdout",
     "output_type": "stream",
     "text": [
      "시작\n",
      "끝\n"
     ]
    }
   ],
   "source": [
    "c = 69 # 0~100 점수\n",
    "print(\"시작\")\n",
    "\n",
    "if c >= 90:\n",
    "    print(\"수\")\n",
    "elif c < 90 and c >= 80:\n",
    "    print(\"우\")\n",
    "elif c < 80 and c >= 70:\n",
    "    print(\"미\")\n",
    "\n",
    "print(\"끝\")"
   ]
  },
  {
   "cell_type": "code",
   "execution_count": 39,
   "id": "37e34536-4bb5-4a70-82d8-259b91b5381f",
   "metadata": {},
   "outputs": [
    {
     "name": "stdout",
     "output_type": "stream",
     "text": [
      "30대 입니다.\n",
      "감사합니다.\n"
     ]
    }
   ],
   "source": [
    "#에제\n",
    "age = 39\n",
    "\n",
    "if 20 <= age < 30:\n",
    "    print(\"20대 입니다.\")\n",
    "elif 30 <= age < 40:\n",
    "    print(\"30대 입니다.\")\n",
    "\n",
    "print(\"감사합니다.\")"
   ]
  },
  {
   "cell_type": "code",
   "execution_count": null,
   "id": "160f7366-72a3-4f38-becb-fe2c87740598",
   "metadata": {},
   "outputs": [],
   "source": [
    "# ![image.png](attachment:ab8bec3a-8cb8-41dd-94ad-94b5b250252e.png)"
   ]
  },
  {
   "cell_type": "markdown",
   "id": "6bb51343-711c-412a-8c18-dcb87b36551f",
   "metadata": {},
   "source": [
    "## 2) IF문과 elif문 그리고 else문"
   ]
  },
  {
   "cell_type": "code",
   "execution_count": null,
   "id": "9394bd01-e3b8-4894-8082-ad1ea69d7085",
   "metadata": {},
   "outputs": [],
   "source": [
    "# ![image.png](attachment:1d04a8b3-82b9-471e-a317-90c47197472c.png)"
   ]
  },
  {
   "cell_type": "code",
   "execution_count": null,
   "id": "5edd8549-14a0-46c6-8cde-f5daaa0e19cf",
   "metadata": {},
   "outputs": [],
   "source": [
    "# ![image.png](attachment:c44f8d2b-8582-4d22-a9b8-b964365bcda3.png)"
   ]
  },
  {
   "cell_type": "code",
   "execution_count": 40,
   "id": "e65174e7-85db-41f7-adbb-4b8f42def7b1",
   "metadata": {},
   "outputs": [
    {
     "name": "stdout",
     "output_type": "stream",
     "text": [
      "오우... 불혹을 넘기셨군요\n",
      "감사합니다.\n"
     ]
    }
   ],
   "source": [
    "age = 40\n",
    "\n",
    "if 20 <= age < 30:\n",
    "    print(\"20대 입니다.\")\n",
    "elif 30 <= age < 40:\n",
    "    print(\"30대 입니다.\")\n",
    "else:\n",
    "    print(\"오우... 불혹을 넘기셨군요\")\n",
    "\n",
    "print(\"감사합니다.\")"
   ]
  },
  {
   "cell_type": "code",
   "execution_count": 43,
   "id": "4f72f1bb-f115-4867-86ac-fd0709c9d052",
   "metadata": {},
   "outputs": [
    {
     "name": "stdin",
     "output_type": "stream",
     "text": [
      "아이디를 입력하세요. ksd123\n",
      "회원 등급을 입력해주세요. 5\n"
     ]
    },
    {
     "name": "stdout",
     "output_type": "stream",
     "text": [
      "권한이 없습니다.\n"
     ]
    }
   ],
   "source": [
    "# 연습문제\n",
    "\n",
    "ID_list = input(\"아이디를 입력하세요.\")\n",
    "\n",
    "if ID_list == \"admin\":\n",
    "    print(\"최고 권리자, 모든 권한을 갖습니다.\")\n",
    "elif ID_list != \"admin\":\n",
    "    grade = int(input(\"회원 등급을 입력해주세요.\"))\n",
    "    if 1 <= grade <= 3:\n",
    "        print(\"제한적인 권한을 갖습니다.\")\n",
    "    else:\n",
    "        print(\"권한이 없습니다.\")"
   ]
  },
  {
   "cell_type": "code",
   "execution_count": null,
   "id": "1d878393-c2ce-4c66-86b8-ca1b948e6211",
   "metadata": {},
   "outputs": [],
   "source": [
    "# ![image.png](attachment:08f8ac52-e8cc-49a7-ae11-fed5a2fb3cd1.png)"
   ]
  },
  {
   "cell_type": "code",
   "execution_count": 50,
   "id": "ed4e94a5-43f2-4f57-9e4c-ddd558d89ff6",
   "metadata": {},
   "outputs": [
    {
     "name": "stdin",
     "output_type": "stream",
     "text": [
      "자연수 하나 입력해주세요.: 30\n"
     ]
    },
    {
     "name": "stdout",
     "output_type": "stream",
     "text": [
      "0\n"
     ]
    }
   ],
   "source": [
    "#연습 문제\n",
    "num = int(input(\"자연수 하나 입력해주세요.:\"))\n",
    "result = num - 50\n",
    "\n",
    "if num >= 0 and result >= 0:\n",
    "    print(result)\n",
    "elif num >= 0 and result < 0:\n",
    "    print(0)"
   ]
  },
  {
   "cell_type": "code",
   "execution_count": null,
   "id": "9270d793-41b3-44c8-9e20-89e85eb2a3c3",
   "metadata": {},
   "outputs": [],
   "source": [
    "# 풀이\n",
    "int_value = int(input(\"자연수 하나 입력해주세요.:\"))\n",
    "result = int_value - 50\n",
    "\n",
    "if result < 0:\n",
    "    result = 0\n",
    "\n",
    "print(result)"
   ]
  },
  {
   "cell_type": "code",
   "execution_count": 56,
   "id": "d603e0a5-0dcc-424b-a0fa-432df59557b6",
   "metadata": {},
   "outputs": [
    {
     "name": "stdin",
     "output_type": "stream",
     "text": [
      "자연수 하나 입력해주세요 21\n"
     ]
    },
    {
     "name": "stdout",
     "output_type": "stream",
     "text": [
      "홀수입니다.\n"
     ]
    }
   ],
   "source": [
    "#연습 문제\n",
    "num = int(input(\"자연수 하나 입력해주세요\"))\n",
    "\n",
    "if (num % 2) == 0:\n",
    "    print(\"짝수입니다.\")\n",
    "elif (num % 2) == 1:\n",
    "    print(\"홀수입니다.\")"
   ]
  },
  {
   "cell_type": "code",
   "execution_count": 53,
   "id": "8042ef1d-8241-48d1-8ebf-2c9b13c4b487",
   "metadata": {},
   "outputs": [
    {
     "name": "stdout",
     "output_type": "stream",
     "text": [
      "1\n"
     ]
    }
   ],
   "source": [
    "num = 1\n",
    "print(num % 3)"
   ]
  },
  {
   "cell_type": "code",
   "execution_count": 71,
   "id": "ba79e52d-2234-4729-b726-6dd6c03d1cb4",
   "metadata": {},
   "outputs": [
    {
     "name": "stdin",
     "output_type": "stream",
     "text": [
      "소프트웨어 설계 점수를 입력하세요. -7\n",
      "소프트웨어 개발 점수를 입력하세요. 50\n",
      "데이터베이스 구축 점수를 입력하세요. 60\n",
      "프로그래밍 언어 활용 점수를 입력하세요. 40\n",
      "정보시스템 구축 점수를 입력하세요. 70\n"
     ]
    },
    {
     "name": "stdout",
     "output_type": "stream",
     "text": [
      "잘못된 점수입니다.\n"
     ]
    }
   ],
   "source": [
    "#연습 문제 2\n",
    "software_des = int(input(\"소프트웨어 설계 점수를 입력하세요.\"))\n",
    "software_dev = int(input(\"소프트웨어 개발 점수를 입력하세요.\"))\n",
    "database = int(input(\"데이터베이스 구축 점수를 입력하세요.\"))\n",
    "programming = int(input(\"프로그래밍 언어 활용 점수를 입력하세요.\"))\n",
    "inforsystem =  int(input(\"정보시스템 구축 점수를 입력하세요.\"))\n",
    "\n",
    "if (0 <= software_des <= 100 and 0 <= software_dev <= 100 and 0 <= database <= 100 and 0 <= programming <= 100 and 0 <= inforsystem <= 100):\n",
    "    score_result = (software_des+software_dev+database+programming+inforsystem) / 5\n",
    "    if score_result >= 60:\n",
    "        print(\"합격입니다.\")\n",
    "    else:\n",
    "        print(\"불합격입니다.\")\n",
    "else:\n",
    "    print(\"잘못된 점수입니다.\")"
   ]
  },
  {
   "cell_type": "code",
   "execution_count": 65,
   "id": "599b8778-d4bc-416e-bc49-97540dd935b1",
   "metadata": {},
   "outputs": [
    {
     "data": {
      "text/plain": [
       "True"
      ]
     },
     "execution_count": 65,
     "metadata": {},
     "output_type": "execute_result"
    }
   ],
   "source": [
    "software_des = 30\n",
    "0 <= software_des <= 100"
   ]
  },
  {
   "cell_type": "code",
   "execution_count": null,
   "id": "e7792f75-cd8c-4854-9177-04fc2ed364b4",
   "metadata": {},
   "outputs": [],
   "source": [
    "# ![image.png](attachment:996ca341-fbe6-4883-88f4-5844ca523031.png)"
   ]
  },
  {
   "cell_type": "code",
   "execution_count": 74,
   "id": "bbb03e08-5200-44c7-8b3b-4d1eab712db8",
   "metadata": {},
   "outputs": [
    {
     "name": "stdin",
     "output_type": "stream",
     "text": [
      "점수를 입력해주세요: 90\n"
     ]
    },
    {
     "name": "stdout",
     "output_type": "stream",
     "text": [
      "성적을 알려드립니다.\n",
      "A\n"
     ]
    }
   ],
   "source": [
    "score = int(input(\"점수를 입력해주세요:\"))\n",
    "\n",
    "print(\"성적을 알려드립니다.\")\n",
    "\n",
    "if score >= 90:\n",
    "    print(\"A\")\n",
    "elif score >= 80:\n",
    "    print(\"B\")\n",
    "elif score >= 70:\n",
    "    print(\"C\")\n",
    "elif score >= 60:\n",
    "    print(\"D\")\n",
    "else:\n",
    "    print(\"F\")"
   ]
  },
  {
   "cell_type": "code",
   "execution_count": 72,
   "id": "2d5a9e17-6973-46a6-9626-2d11166ae0de",
   "metadata": {},
   "outputs": [
    {
     "name": "stdin",
     "output_type": "stream",
     "text": [
      "현재 물의 온도를 입력해주세요 -0.12\n"
     ]
    },
    {
     "name": "stdout",
     "output_type": "stream",
     "text": [
      "고체로 예상됩니다.\n"
     ]
    }
   ],
   "source": [
    "#연습 문제\n",
    "water_ondo = float(input(\"현재 물의 온도를 입력해주세요\"))\n",
    "\n",
    "if water_ondo >= 100:\n",
    "    print(\"기체로 예상됩니다.\")\n",
    "elif 0 <= water_ondo < 100:\n",
    "    print(\"액체로 예상됩니다.\")\n",
    "elif water_ondo < 0:\n",
    "    print(\"고체로 예상됩니다.\")"
   ]
  },
  {
   "cell_type": "code",
   "execution_count": 76,
   "id": "2293fb9a-57fa-4583-942a-7fda58043fd5",
   "metadata": {},
   "outputs": [
    {
     "name": "stdin",
     "output_type": "stream",
     "text": [
      "자신의 나이를 입력하세요. 5\n"
     ]
    },
    {
     "name": "stdout",
     "output_type": "stream",
     "text": [
      "무료\n"
     ]
    }
   ],
   "source": [
    "#연습 문제\n",
    "age = int(input(\"자신의 나이를 입력하세요.\"))\n",
    "\n",
    "if age >= 19:\n",
    "    print(\"1500원\")\n",
    "elif 12 <= age <= 18:\n",
    "    print(\"1100원\")\n",
    "elif 6 <= age <= 11:\n",
    "    print(\"800원\")\n",
    "else:\n",
    "    print(\"무료\")"
   ]
  },
  {
   "cell_type": "code",
   "execution_count": 92,
   "id": "08ddfa8d-3fcd-456a-949a-f3075650379b",
   "metadata": {},
   "outputs": [
    {
     "name": "stdin",
     "output_type": "stream",
     "text": [
      "발주 수량을 입력하세요.: 2001\n"
     ]
    },
    {
     "name": "stdout",
     "output_type": "stream",
     "text": [
      "C상품을 2001개를 주문하셨습니다.\n",
      "적용 할인율은 20%입니다.\n",
      "총 발주 금액은 $16008입니다\n"
     ]
    }
   ],
   "source": [
    "# 연습 문제\n",
    "article_cnt = int(input(\"발주 수량을 입력하세요.:\"))\n",
    "print(\"C상품을 \",article_cnt,\"개를 주문하셨습니다.\", sep = \"\")\n",
    "if article_cnt > 2000:\n",
    "    discount = 0.8\n",
    "    print(\"적용 할인율은 20%입니다.\")\n",
    "elif 1500 < article_cnt <= 2000:\n",
    "    discount = 0.9\n",
    "    print(\"적용 할인율은 10%입니다.\")\n",
    "elif 1000 < article_cnt <= 1500:\n",
    "    discount = 0.95\n",
    "    print(\"적용 할인율은 5%입니다.\")\n",
    "\n",
    "print(\"총 발주 금액은 $\",int(float((article_cnt * discount) * 10)),\"입니다\", sep = \"\")"
   ]
  },
  {
   "cell_type": "code",
   "execution_count": null,
   "id": "d0e00ea6-7592-48e3-995b-ca8cf1cc3d4f",
   "metadata": {},
   "outputs": [],
   "source": [
    "# 풀이\n",
    "quantity = int(input(\"발주 수량을 입력하세요:\"))\n",
    "print(quantity, \"개를 주문하셨습니다.\", sep = \"\")\n",
    "\n",
    "PRICE = 10 # $10\n",
    "rate = 0\n"
   ]
  },
  {
   "cell_type": "code",
   "execution_count": 103,
   "id": "0df27c5b-2ad5-423f-9f85-03dd926081ab",
   "metadata": {},
   "outputs": [
    {
     "name": "stdin",
     "output_type": "stream",
     "text": [
      "주민번호 뒷자리를 입력하세요.: 5678912\n"
     ]
    },
    {
     "name": "stdout",
     "output_type": "stream",
     "text": [
      "잘못된 입력입니다.\n"
     ]
    }
   ],
   "source": [
    "# 연습문제\n",
    "id_after = input(\"주민번호 뒷자리를 입력하세요.:\")\n",
    "\n",
    "if len(id_after) == 7: # int로 바꿔서 생각 # \n",
    "    if id_after[0] == '1' or id_after[0] == '3':\n",
    "        print('남자')\n",
    "    elif id_after[0] == '2' or id_after[0] == '4':\n",
    "        print('여자')\n",
    "    elif int(id_after[0]) >= 5:\n",
    "        print('잘못된 입력입니다.')\n",
    "else:\n",
    "    print('자리수를 잘못 입력했습니다.')"
   ]
  },
  {
   "cell_type": "code",
   "execution_count": null,
   "id": "b93e3fed-b42e-46db-b434-fddf969d001c",
   "metadata": {},
   "outputs": [],
   "source": [
    "# ![image.png](attachment:75763dfb-6e3f-41a8-8a55-828d677a1ae7.png)"
   ]
  },
  {
   "cell_type": "code",
   "execution_count": null,
   "id": "ae7b1617-f69f-4a5b-9276-639b21ea0c48",
   "metadata": {},
   "outputs": [],
   "source": [
    "# 연습 문제\n",
    "birth_year = int(input(\"확인할 연도를 입력하세요.\"))\n",
    "\n",
    "if (birth_year % 100 == 0) and (birth_year % 400 != 0):\n",
    "    print(\"평년입니다.\") \n",
    "else:\n",
    "    if (birth_year % 4) == 0:\n",
    "        print(\"윤년입니다.\")\n",
    "    else:\n",
    "        print(\"평년입니다.\")"
   ]
  },
  {
   "cell_type": "code",
   "execution_count": 116,
   "id": "6109bdc9-42e9-4bed-9d0a-06b8e3c916ff",
   "metadata": {},
   "outputs": [
    {
     "name": "stdin",
     "output_type": "stream",
     "text": [
      "확인할 연도를 입력하세요. 2023\n"
     ]
    },
    {
     "name": "stdout",
     "output_type": "stream",
     "text": [
      "평년입니다.\n"
     ]
    }
   ],
   "source": [
    "# 연습 문제\n",
    "birth_year = int(input(\"확인할 연도를 입력하세요.\"))\n",
    "\n",
    "if ((birth_year % 100 == 0) and (birth_year % 400 != 0)) or (1 <= (birth_year % 4) <= 3):\n",
    "    print(\"평년입니다.\") \n",
    "else:\n",
    "    print(\"윤년입니다.\")"
   ]
  },
  {
   "cell_type": "markdown",
   "id": "f7d93442-a6de-422a-a47c-377690e1bfca",
   "metadata": {},
   "source": [
    "# 2. for문과 range() 내장 함수"
   ]
  },
  {
   "cell_type": "code",
   "execution_count": 117,
   "id": "48354719-4114-4d3a-af31-bd529eb5b28b",
   "metadata": {
    "tags": []
   },
   "outputs": [
    {
     "ename": "OptionError",
     "evalue": "'Pattern matched multiple keys'",
     "output_type": "error",
     "traceback": [
      "\u001b[1;31m---------------------------------------------------------------------------\u001b[0m",
      "\u001b[1;31mOptionError\u001b[0m                               Traceback (most recent call last)",
      "\u001b[1;32m~\\AppData\\Local\\Temp\\ipykernel_2956\\1387044028.py\u001b[0m in \u001b[0;36m<module>\u001b[1;34m\u001b[0m\n\u001b[0;32m      2\u001b[0m \u001b[1;32mimport\u001b[0m \u001b[0mpandas\u001b[0m \u001b[1;32mas\u001b[0m \u001b[0mpd\u001b[0m\u001b[1;33m\u001b[0m\u001b[1;33m\u001b[0m\u001b[0m\n\u001b[0;32m      3\u001b[0m \u001b[1;33m\u001b[0m\u001b[0m\n\u001b[1;32m----> 4\u001b[1;33m \u001b[0mpd\u001b[0m\u001b[1;33m.\u001b[0m\u001b[0mset_option\u001b[0m\u001b[1;33m(\u001b[0m\u001b[1;34m'max_rows'\u001b[0m\u001b[1;33m,\u001b[0m\u001b[1;36m10\u001b[0m\u001b[1;33m)\u001b[0m\u001b[1;33m\u001b[0m\u001b[1;33m\u001b[0m\u001b[0m\n\u001b[0m\u001b[0;32m      5\u001b[0m \u001b[1;32mfor\u001b[0m \u001b[0mi\u001b[0m \u001b[1;32min\u001b[0m \u001b[0mrange\u001b[0m\u001b[1;33m(\u001b[0m\u001b[1;36m1000\u001b[0m\u001b[1;33m)\u001b[0m\u001b[1;33m:\u001b[0m\u001b[1;33m\u001b[0m\u001b[1;33m\u001b[0m\u001b[0m\n\u001b[0;32m      6\u001b[0m     \u001b[0mprint\u001b[0m\u001b[1;33m(\u001b[0m\u001b[1;34m\"Hello World\"\u001b[0m\u001b[1;33m)\u001b[0m\u001b[1;33m\u001b[0m\u001b[1;33m\u001b[0m\u001b[0m\n",
      "\u001b[1;32m~\\anaconda3\\lib\\site-packages\\pandas\\_config\\config.py\u001b[0m in \u001b[0;36m__call__\u001b[1;34m(self, *args, **kwds)\u001b[0m\n\u001b[0;32m    254\u001b[0m \u001b[1;33m\u001b[0m\u001b[0m\n\u001b[0;32m    255\u001b[0m     \u001b[1;32mdef\u001b[0m \u001b[0m__call__\u001b[0m\u001b[1;33m(\u001b[0m\u001b[0mself\u001b[0m\u001b[1;33m,\u001b[0m \u001b[1;33m*\u001b[0m\u001b[0margs\u001b[0m\u001b[1;33m,\u001b[0m \u001b[1;33m**\u001b[0m\u001b[0mkwds\u001b[0m\u001b[1;33m)\u001b[0m\u001b[1;33m:\u001b[0m\u001b[1;33m\u001b[0m\u001b[1;33m\u001b[0m\u001b[0m\n\u001b[1;32m--> 256\u001b[1;33m         \u001b[1;32mreturn\u001b[0m \u001b[0mself\u001b[0m\u001b[1;33m.\u001b[0m\u001b[0m__func__\u001b[0m\u001b[1;33m(\u001b[0m\u001b[1;33m*\u001b[0m\u001b[0margs\u001b[0m\u001b[1;33m,\u001b[0m \u001b[1;33m**\u001b[0m\u001b[0mkwds\u001b[0m\u001b[1;33m)\u001b[0m\u001b[1;33m\u001b[0m\u001b[1;33m\u001b[0m\u001b[0m\n\u001b[0m\u001b[0;32m    257\u001b[0m \u001b[1;33m\u001b[0m\u001b[0m\n\u001b[0;32m    258\u001b[0m     \u001b[1;33m@\u001b[0m\u001b[0mproperty\u001b[0m\u001b[1;33m\u001b[0m\u001b[1;33m\u001b[0m\u001b[0m\n",
      "\u001b[1;32m~\\anaconda3\\lib\\site-packages\\pandas\\_config\\config.py\u001b[0m in \u001b[0;36m_set_option\u001b[1;34m(*args, **kwargs)\u001b[0m\n\u001b[0;32m    147\u001b[0m \u001b[1;33m\u001b[0m\u001b[0m\n\u001b[0;32m    148\u001b[0m     \u001b[1;32mfor\u001b[0m \u001b[0mk\u001b[0m\u001b[1;33m,\u001b[0m \u001b[0mv\u001b[0m \u001b[1;32min\u001b[0m \u001b[0mzip\u001b[0m\u001b[1;33m(\u001b[0m\u001b[0margs\u001b[0m\u001b[1;33m[\u001b[0m\u001b[1;33m:\u001b[0m\u001b[1;33m:\u001b[0m\u001b[1;36m2\u001b[0m\u001b[1;33m]\u001b[0m\u001b[1;33m,\u001b[0m \u001b[0margs\u001b[0m\u001b[1;33m[\u001b[0m\u001b[1;36m1\u001b[0m\u001b[1;33m:\u001b[0m\u001b[1;33m:\u001b[0m\u001b[1;36m2\u001b[0m\u001b[1;33m]\u001b[0m\u001b[1;33m)\u001b[0m\u001b[1;33m:\u001b[0m\u001b[1;33m\u001b[0m\u001b[1;33m\u001b[0m\u001b[0m\n\u001b[1;32m--> 149\u001b[1;33m         \u001b[0mkey\u001b[0m \u001b[1;33m=\u001b[0m \u001b[0m_get_single_key\u001b[0m\u001b[1;33m(\u001b[0m\u001b[0mk\u001b[0m\u001b[1;33m,\u001b[0m \u001b[0msilent\u001b[0m\u001b[1;33m)\u001b[0m\u001b[1;33m\u001b[0m\u001b[1;33m\u001b[0m\u001b[0m\n\u001b[0m\u001b[0;32m    150\u001b[0m \u001b[1;33m\u001b[0m\u001b[0m\n\u001b[0;32m    151\u001b[0m         \u001b[0mo\u001b[0m \u001b[1;33m=\u001b[0m \u001b[0m_get_registered_option\u001b[0m\u001b[1;33m(\u001b[0m\u001b[0mkey\u001b[0m\u001b[1;33m)\u001b[0m\u001b[1;33m\u001b[0m\u001b[1;33m\u001b[0m\u001b[0m\n",
      "\u001b[1;32m~\\anaconda3\\lib\\site-packages\\pandas\\_config\\config.py\u001b[0m in \u001b[0;36m_get_single_key\u001b[1;34m(pat, silent)\u001b[0m\n\u001b[0;32m    114\u001b[0m         \u001b[1;32mraise\u001b[0m \u001b[0mOptionError\u001b[0m\u001b[1;33m(\u001b[0m\u001b[1;34mf\"No such keys(s): {repr(pat)}\"\u001b[0m\u001b[1;33m)\u001b[0m\u001b[1;33m\u001b[0m\u001b[1;33m\u001b[0m\u001b[0m\n\u001b[0;32m    115\u001b[0m     \u001b[1;32mif\u001b[0m \u001b[0mlen\u001b[0m\u001b[1;33m(\u001b[0m\u001b[0mkeys\u001b[0m\u001b[1;33m)\u001b[0m \u001b[1;33m>\u001b[0m \u001b[1;36m1\u001b[0m\u001b[1;33m:\u001b[0m\u001b[1;33m\u001b[0m\u001b[1;33m\u001b[0m\u001b[0m\n\u001b[1;32m--> 116\u001b[1;33m         \u001b[1;32mraise\u001b[0m \u001b[0mOptionError\u001b[0m\u001b[1;33m(\u001b[0m\u001b[1;34m\"Pattern matched multiple keys\"\u001b[0m\u001b[1;33m)\u001b[0m\u001b[1;33m\u001b[0m\u001b[1;33m\u001b[0m\u001b[0m\n\u001b[0m\u001b[0;32m    117\u001b[0m     \u001b[0mkey\u001b[0m \u001b[1;33m=\u001b[0m \u001b[0mkeys\u001b[0m\u001b[1;33m[\u001b[0m\u001b[1;36m0\u001b[0m\u001b[1;33m]\u001b[0m\u001b[1;33m\u001b[0m\u001b[1;33m\u001b[0m\u001b[0m\n\u001b[0;32m    118\u001b[0m \u001b[1;33m\u001b[0m\u001b[0m\n",
      "\u001b[1;31mOptionError\u001b[0m: 'Pattern matched multiple keys'"
     ]
    }
   ],
   "source": [
    "# 여기서의 range는 0부터 999까지의 숫자를 생성한다.\n",
    "\n",
    "for i in range(1000):\n",
    "    print(\"Hello World\")"
   ]
  },
  {
   "cell_type": "markdown",
   "id": "8be50c56-a3c0-481b-9da5-eef3fca1d51f",
   "metadata": {},
   "source": [
    "## 1) range() 함수\n",
    "-> range(시작,끝,증감크기) : 슬라이싱과 구조가 비슷"
   ]
  },
  {
   "cell_type": "markdown",
   "id": "5039a8ae-d4c8-4fbb-ad4e-54057912cc24",
   "metadata": {
    "tags": []
   },
   "source": [
    "### - 슬라이싱\n",
    "a = [0,1,2,3,4,5,6,7]<br>\n",
    "a[시작하는 숫자: 끝숫자: 증감]<br>"
   ]
  },
  {
   "cell_type": "markdown",
   "id": "32c34fc7-8046-43f4-b7e6-d7f8c102b428",
   "metadata": {
    "tags": []
   },
   "source": [
    " -> 함수를 호출할 때 소괄호를 사용한다.<br>\n",
    " -> 인수(arguments)가 여럿일 때 콤마로 구분한다.<br>\n",
    " -> range(시작하는 숫자(default =0), 끝 숫자, 증감(default =1))<br>\n",
    " -> range는 규칙된 숫자를 만드는데 특화되어 있다."
   ]
  },
  {
   "cell_type": "code",
   "execution_count": 120,
   "id": "7acb857c-973e-47ef-9c95-85afe290e97c",
   "metadata": {},
   "outputs": [
    {
     "data": {
      "text/plain": [
       "[0, 1, 2, 3, 4, 5, 6, 7]"
      ]
     },
     "execution_count": 120,
     "metadata": {},
     "output_type": "execute_result"
    }
   ],
   "source": [
    "list(range(0, 8, 1)) # iterable"
   ]
  },
  {
   "cell_type": "code",
   "execution_count": 121,
   "id": "8e725cf1-a297-41ad-847e-fcccdff5e97a",
   "metadata": {},
   "outputs": [
    {
     "data": {
      "text/plain": [
       "[0, 1, 2, 3, 4, 5, 6, 7]"
      ]
     },
     "execution_count": 121,
     "metadata": {},
     "output_type": "execute_result"
    }
   ],
   "source": [
    "list(range(8))"
   ]
  },
  {
   "cell_type": "code",
   "execution_count": 122,
   "id": "dd579854-95bb-4a56-986e-8d8dddc41293",
   "metadata": {},
   "outputs": [
    {
     "data": {
      "text/plain": [
       "range"
      ]
     },
     "execution_count": 122,
     "metadata": {},
     "output_type": "execute_result"
    }
   ],
   "source": [
    "type(range(1))"
   ]
  },
  {
   "cell_type": "markdown",
   "id": "4c6205e5-f722-44f9-a120-3c6474f0deb7",
   "metadata": {},
   "source": [
    "#### * list vs range가 동작하는 큰 차이점\n",
    "-> list는 메모리상에 미리 다 만들어 놓습니다.<br>\n",
    "-> range는 필요할 때 메모리에 만듭니다.<br>\n",
    "\n",
    " * 객체 => 실제 존재하는 것. (메모리)<br>\n",
    " -> range 객체는 iterate할 때 원하는 시퀀스 항목들을 순서대로 요소를 돌려주는 객체이지만, 메모리에 공간을 할당하여 미리 모든 요소들을 만들어 두는 것이 아니라 필요할 때 그때그때 다음 요소를 만들어 반환하기에 공간 효율적"
   ]
  },
  {
   "cell_type": "code",
   "execution_count": 1,
   "id": "822116ac-51ee-4e6a-b521-ffe66847acfc",
   "metadata": {},
   "outputs": [
    {
     "name": "stdout",
     "output_type": "stream",
     "text": [
      "[2, 4, 6, 8, 10, 12, 14, 16, 18, 20, 22, 24, 26, 28, 30, 32, 34, 36, 38, 40, 42, 44, 46, 48, 50, 52, 54, 56, 58, 60, 62, 64, 66, 68, 70, 72, 74, 76, 78, 80, 82, 84, 86, 88, 90, 92, 94, 96, 98]\n"
     ]
    }
   ],
   "source": [
    "even_numbers = list(range(2, 100, 2))\n",
    "print(even_numbers)"
   ]
  },
  {
   "cell_type": "markdown",
   "id": "fc833ca0-c294-48be-b036-fab2003707e8",
   "metadata": {},
   "source": [
    "# 3. for 문\n",
    "* 시퀀스 자료형(iterable 한)의 항목들을 순서대로 요소를 하내씩 꺼낸다.<br>\n",
    " -> 반복되는 부분을 만들때 활용<br>\n",
    " -> iterable 객체를 루핑할 때(순서대로 다 꺼냄)<br>\n",
    " -> 반복 횟수가 정해져 있을 때 주로 사용"
   ]
  },
  {
   "cell_type": "code",
   "execution_count": null,
   "id": "2f8fb782-5489-4aa1-8d17-9485f92b34f9",
   "metadata": {},
   "outputs": [],
   "source": [
    "# ![image.png](attachment:bb563d9e-3b5f-4875-8bdc-28096b065cb9.png)"
   ]
  },
  {
   "cell_type": "code",
   "execution_count": 3,
   "id": "0a3b0540-d386-4c8d-820e-0ca6f6c78d9b",
   "metadata": {},
   "outputs": [
    {
     "name": "stdout",
     "output_type": "stream",
     "text": [
      "Hello World 1\n",
      "Hello World 2\n",
      "Hello World 3\n",
      "Hello World 4\n",
      "Hello World 5\n",
      "Hello World 6\n",
      "Hello World 7\n",
      "Hello World 8\n",
      "Hello World 9\n",
      "Hello World 10\n",
      "Hello World 11\n",
      "Hello World 12\n",
      "Hello World 13\n",
      "Hello World 14\n",
      "Hello World 15\n",
      "Hello World 16\n",
      "Hello World 17\n",
      "Hello World 18\n",
      "Hello World 19\n",
      "Hello World 20\n",
      "Hello World 21\n",
      "Hello World 22\n",
      "Hello World 23\n",
      "Hello World 24\n",
      "Hello World 25\n",
      "Hello World 26\n",
      "Hello World 27\n",
      "Hello World 28\n",
      "Hello World 29\n",
      "Hello World 30\n",
      "Hello World 31\n",
      "Hello World 32\n",
      "Hello World 33\n",
      "Hello World 34\n",
      "Hello World 35\n",
      "Hello World 36\n",
      "Hello World 37\n",
      "Hello World 38\n",
      "Hello World 39\n",
      "Hello World 40\n",
      "Hello World 41\n",
      "Hello World 42\n",
      "Hello World 43\n",
      "Hello World 44\n",
      "Hello World 45\n",
      "Hello World 46\n",
      "Hello World 47\n",
      "Hello World 48\n",
      "Hello World 49\n",
      "Hello World 50\n",
      "Hello World 51\n",
      "Hello World 52\n",
      "Hello World 53\n",
      "Hello World 54\n",
      "Hello World 55\n",
      "Hello World 56\n",
      "Hello World 57\n",
      "Hello World 58\n",
      "Hello World 59\n",
      "Hello World 60\n",
      "Hello World 61\n",
      "Hello World 62\n",
      "Hello World 63\n",
      "Hello World 64\n",
      "Hello World 65\n",
      "Hello World 66\n",
      "Hello World 67\n",
      "Hello World 68\n",
      "Hello World 69\n",
      "Hello World 70\n",
      "Hello World 71\n",
      "Hello World 72\n",
      "Hello World 73\n",
      "Hello World 74\n",
      "Hello World 75\n",
      "Hello World 76\n",
      "Hello World 77\n",
      "Hello World 78\n",
      "Hello World 79\n",
      "Hello World 80\n",
      "Hello World 81\n",
      "Hello World 82\n",
      "Hello World 83\n",
      "Hello World 84\n",
      "Hello World 85\n",
      "Hello World 86\n",
      "Hello World 87\n",
      "Hello World 88\n",
      "Hello World 89\n",
      "Hello World 90\n",
      "Hello World 91\n",
      "Hello World 92\n",
      "Hello World 93\n",
      "Hello World 94\n",
      "Hello World 95\n",
      "Hello World 96\n",
      "Hello World 97\n",
      "Hello World 98\n",
      "Hello World 99\n",
      "Hello World 100\n"
     ]
    }
   ],
   "source": [
    "for i in range(1,101):\n",
    "    print(f\"Hello World {i}\")"
   ]
  },
  {
   "cell_type": "code",
   "execution_count": 4,
   "id": "5e4a6e2a-4c8d-43e2-a886-2eec31ef1bc0",
   "metadata": {},
   "outputs": [],
   "source": [
    "# 연습 문제\n",
    "hello_cnt = int(input(\"인사 몇 번 해드릴까요?\"))\n",
    "\n",
    "for i in range(hello_cnt):\n",
    "    print(\"Hello world\")"
   ]
  },
  {
   "cell_type": "code",
   "execution_count": 5,
   "id": "2c3f9eaa-78ad-4ca4-8a33-a185ca73df7b",
   "metadata": {},
   "outputs": [
    {
     "name": "stdin",
     "output_type": "stream",
     "text": [
      "인사 몇 번 해드릴까요? 5\n"
     ]
    },
    {
     "name": "stdout",
     "output_type": "stream",
     "text": [
      "Hello world 1\n",
      "Hello world 2\n",
      "Hello world 3\n",
      "Hello world 4\n",
      "Hello world 5\n"
     ]
    }
   ],
   "source": [
    "# 풀이\n",
    "\n",
    "count = int(input(\"인사 몇 번 해드릴까요?\"))\n",
    "\n",
    "for _ in range(1, count + 1):\n",
    "    print(\"Hello world\", _)"
   ]
  },
  {
   "cell_type": "code",
   "execution_count": 10,
   "id": "82d1f05a-b870-4ff3-9408-eae5e579e31f",
   "metadata": {},
   "outputs": [
    {
     "name": "stdout",
     "output_type": "stream",
     "text": [
      "[5, 6, 7, 8, 9]\n",
      "[0, 3, 6, 9]\n",
      "[-10, -40, -70]\n"
     ]
    }
   ],
   "source": [
    "# 연습 문제\n",
    "\n",
    "print(list(range(5,10)))\n",
    "print(list(range(0,10,3)))\n",
    "print(list(range(-10,-71,-30)))"
   ]
  },
  {
   "cell_type": "code",
   "execution_count": 18,
   "id": "49864c28-d9d2-4a69-b63c-b96c978b25f6",
   "metadata": {},
   "outputs": [
    {
     "name": "stdin",
     "output_type": "stream",
     "text": [
      "자연수 하나 입력해주세요.: 5\n"
     ]
    },
    {
     "name": "stdout",
     "output_type": "stream",
     "text": [
      "5\t5\t5\t5\t5\t\n",
      "4\t4\t4\t4\t\n",
      "3\t3\t3\t\n",
      "2\t2\t\n"
     ]
    }
   ],
   "source": [
    "# 연습 문제\n",
    "\n",
    "num = int(input(\"자연수 하나 입력해주세요.:\"))\n",
    "\n",
    "for i in range(num,0,-1):\n",
    "    print(f\"{i}\\t\" * i)"
   ]
  },
  {
   "cell_type": "code",
   "execution_count": 20,
   "id": "2b9f03bd-9f8a-4632-9bdf-962f3b66623b",
   "metadata": {},
   "outputs": [
    {
     "name": "stdin",
     "output_type": "stream",
     "text": [
      "자연수 하나 입력해주세요.: 3\n"
     ]
    },
    {
     "name": "stdout",
     "output_type": "stream",
     "text": [
      "3\t3\t3\t\n",
      "2\t2\t\n",
      "1\t\n"
     ]
    }
   ],
   "source": [
    "# 연습 문제\n",
    "\n",
    "num = int(input(\"자연수 하나 입력해주세요.:\"))\n",
    "\n",
    "for i in range(num,0,-1):\n",
    "    for j in range(i):\n",
    "        print(i, end=\"\\t\")\n",
    "    print()"
   ]
  },
  {
   "cell_type": "code",
   "execution_count": 43,
   "id": "8effd7b2-c540-44e4-b48c-70bc6b2a82cb",
   "metadata": {},
   "outputs": [
    {
     "name": "stdout",
     "output_type": "stream",
     "text": [
      "* * * * * * * * * * \n",
      "*                 *\n",
      "*                 *\n",
      "*                 *\n",
      "*                 *\n",
      "*                 *\n",
      "*                 *\n",
      "*                 *\n",
      "*                 *\n",
      "* * * * * * * * * * \n"
     ]
    }
   ],
   "source": [
    "# 연습 문제\n",
    "\n",
    "for i in range(10):\n",
    "    if i in (0,9):\n",
    "        print('* ' * 10, end = '')\n",
    "    else:\n",
    "        print('*',' ' * 15,'*', end = '')\n",
    "    print()"
   ]
  },
  {
   "cell_type": "code",
   "execution_count": 76,
   "id": "06716cf5-631b-4740-a85b-2cffbff6f700",
   "metadata": {},
   "outputs": [
    {
     "name": "stdin",
     "output_type": "stream",
     "text": [
      "1부터 입력한 자연수까지의 모든 홀수의 합을 구합니다. 101\n"
     ]
    },
    {
     "name": "stdout",
     "output_type": "stream",
     "text": [
      "1 + 3 + 5 + 7 + 9 + 11 + 13 + 15 + 17 + 19 + 21 + 23 + 25 + 27 + 29 + 31 + 33 + 35 + 37 + 39 + 41 + 43 + 45 + 47 + 49 + 51 + 53 + 55 + 57 + 59 + 61 + 63 + 65 + 67 + 69 + 71 + 73 + 75 + 77 + 79 + 81 + 83 + 85 + 87 + 89 + 91 + 93 + 95 + 97 + 99 + 101 = 2601\n"
     ]
    }
   ],
   "source": [
    "# 연습 문제\n",
    "num = int(input(\"1부터 입력한 자연수까지의 모든 홀수의 합을 구합니다.\"))\n",
    "total_list = []\n",
    "\n",
    "for i in list(range(1,num+1,2)):\n",
    "    if i == (num - 1) or i == num:\n",
    "        print(f'{i}', end = ' ')\n",
    "        total_list.append(i)\n",
    "    else:\n",
    "        print(f'{i}','+', end = ' ')\n",
    "        total_list.append(i)\n",
    "print('=',sum(total_list))"
   ]
  },
  {
   "cell_type": "code",
   "execution_count": 72,
   "id": "04bcca22-2469-4b5b-b101-0fd78febe06f",
   "metadata": {},
   "outputs": [
    {
     "name": "stdin",
     "output_type": "stream",
     "text": [
      "1부터 입력한 자연수까지의 모든 홀수의 합을 구합니다. 100\n"
     ]
    },
    {
     "name": "stdout",
     "output_type": "stream",
     "text": [
      "1 + 3 + 5 + 7 + 9 + 11 + 13 + 15 + 17 + 19 + 21 + 23 + 25 + 27 + 29 + 31 + 33 + 35 + 37 + 39 + 41 + 43 + 45 + 47 + 49 + 51 + 53 + 55 + 57 + 59 + 61 + 63 + 65 + 67 + 69 + 71 + 73 + 75 + 77 + 79 + 81 + 83 + 85 + 87 + 89 + 91 + 93 + 95 + 97 + 99 = 2500\n"
     ]
    }
   ],
   "source": [
    "# 풀이\n",
    "\n",
    "num2 = int(input(\"1부터 입력한 자연수까지의 모든 홀수의 합을 구합니다.\"))\n",
    "result = 0\n",
    "\n",
    "for i in range(1,num2 + 1):\n",
    "    if i % 2 == 1:\n",
    "        if (num2 - 1) == i or num2 == i:\n",
    "            print(i, end =' = ')\n",
    "        else:\n",
    "            print(i, end =' + ')\n",
    "        result += i\n",
    "print(result)"
   ]
  },
  {
   "cell_type": "code",
   "execution_count": 77,
   "id": "fc842ffa-8efe-4b90-abcf-b7988f661544",
   "metadata": {},
   "outputs": [
    {
     "name": "stdin",
     "output_type": "stream",
     "text": [
      "자연수 하나 입력하세요: 50\n"
     ]
    },
    {
     "name": "stdout",
     "output_type": "stream",
     "text": [
      "1 + 3 + 5 + 7 + 9 + 11 + 13 + 15 + 17 + 19 + 21 + 23 + 25 + 27 + 29 + 31 + 33 + 35 + 37 + 39 + 41 + 43 + 45 + 47 + 49 = 625\n"
     ]
    }
   ],
   "source": [
    "#풀이 2\n",
    "\n",
    "input_value = int(input(\"자연수 하나 입력하세요:\"))\n",
    "print(\"1\", end=\"\")\n",
    "result = 1\n",
    "for i in range(3, input_value + 1, 2):\n",
    "    print(f\" + {i}\", end=\"\")\n",
    "    result += i\n",
    "print(f\" = {result}\")"
   ]
  },
  {
   "cell_type": "code",
   "execution_count": 84,
   "id": "64ab1b12-f5eb-4d70-95ad-41f86032d8c6",
   "metadata": {},
   "outputs": [
    {
     "name": "stdin",
     "output_type": "stream",
     "text": [
      "계승을 구할 숫자를 입력하세요. 7\n"
     ]
    },
    {
     "name": "stdout",
     "output_type": "stream",
     "text": [
      "5040\n"
     ]
    }
   ],
   "source": [
    "# 연습 문제\n",
    "\n",
    "num = int(input(\"계승을 구할 숫자를 입력하세요.\"))\n",
    "result = 1\n",
    "\n",
    "for i in range(1, num+1):\n",
    "    result = result * i\n",
    "print(result)"
   ]
  },
  {
   "cell_type": "markdown",
   "id": "8d5ad981-ded8-4fb2-be07-96a4e544b08b",
   "metadata": {},
   "source": [
    "## 1) 시퀀스 객체로 반복하기\n",
    "-> for 문에 range() 대신 시퀀스 객체를 넣어서 사용할 수 있습니다. 시퀀스 자료형을 사용하여 for 문을 looping하면 요소마다 순서에 맞게 꺼내와서 반복문을 실행합니다."
   ]
  },
  {
   "cell_type": "code",
   "execution_count": 85,
   "id": "9366ee79-7221-4878-ad8d-9d9df953c3b9",
   "metadata": {},
   "outputs": [
    {
     "name": "stdout",
     "output_type": "stream",
     "text": [
      "시\n",
      "미\n",
      "라\n",
      "레\n",
      "솔\n",
      "도\n",
      "파\n"
     ]
    }
   ],
   "source": [
    "for _ in ['시', '미', '라', '레', '솔', '도', '파']:\n",
    "    print(_)"
   ]
  },
  {
   "cell_type": "code",
   "execution_count": 88,
   "id": "3ee4a722-726b-4fc5-b9ad-32e1993dd69c",
   "metadata": {},
   "outputs": [
    {
     "name": "stdout",
     "output_type": "stream",
     "text": [
      "시 미 라 레 솔 도 파 "
     ]
    }
   ],
   "source": [
    "for _ in ('시', '미', '라', '레', '솔', '도', '파'):\n",
    "    print(_, end = \" \")"
   ]
  },
  {
   "cell_type": "code",
   "execution_count": 87,
   "id": "c00a4303-1513-4c60-a61b-52fe21506f71",
   "metadata": {},
   "outputs": [
    {
     "name": "stdout",
     "output_type": "stream",
     "text": [
      "일 이 삼 사 오 육 칠 팔 구 십 "
     ]
    }
   ],
   "source": [
    "for _ in '일이삼사오육칠팔구십':\n",
    "    print(_, end=\" \")"
   ]
  },
  {
   "cell_type": "markdown",
   "id": "8d08d8f9-8452-4e2b-bbcc-6740598bbff8",
   "metadata": {},
   "source": [
    "## 2) 시퀀스 객체로 뒤집어서 반복하기\n",
    "-> reversed() 함수를 통해서 역순으로 변경 가능합니다. 리스트 메서드에 있는 reverse()와 다른 함수입니다."
   ]
  },
  {
   "cell_type": "code",
   "execution_count": 90,
   "id": "93464892-fbeb-4c1a-a016-9bcd400b21cd",
   "metadata": {},
   "outputs": [
    {
     "name": "stdout",
     "output_type": "stream",
     "text": [
      "십 구 팔 칠 육 오 사 삼 이 일 "
     ]
    }
   ],
   "source": [
    "for _ in reversed('일이삼사오육칠팔구십'):\n",
    "    print(_, end = \" \")"
   ]
  },
  {
   "cell_type": "code",
   "execution_count": 93,
   "id": "85d60a18-fe86-4da4-9b5f-174fd8c2edb3",
   "metadata": {},
   "outputs": [
    {
     "name": "stdout",
     "output_type": "stream",
     "text": [
      "100 -420 250 1030 210 770 240 "
     ]
    }
   ],
   "source": [
    "# 연습 문제\n",
    "\n",
    "x = [10, -42, 25, 103, 21, 77, 24]\n",
    "\n",
    "for i in x:\n",
    "    print(int(i) * 10, end = \" \")"
   ]
  },
  {
   "cell_type": "code",
   "execution_count": 105,
   "id": "32a80cb1-7195-46d1-b6c4-da9feb319312",
   "metadata": {},
   "outputs": [
    {
     "name": "stdin",
     "output_type": "stream",
     "text": [
      "구구단을 알려드립니다. 숫자를 입력하세요. 19\n"
     ]
    },
    {
     "name": "stdout",
     "output_type": "stream",
     "text": [
      "19 * 1 =  19\n",
      "19 * 2 =  38\n",
      "19 * 3 =  57\n",
      "19 * 4 =  76\n",
      "19 * 5 =  95\n",
      "19 * 6 =  114\n",
      "19 * 7 =  133\n",
      "19 * 8 =  152\n",
      "19 * 9 =  171\n"
     ]
    }
   ],
   "source": [
    "# 연습 문제\n",
    "gugudan = int(input(\"구구단을 알려드립니다. 숫자를 입력하세요.\"))\n",
    "\n",
    "for i in range(1,10):\n",
    "    print(f'{gugudan} * {i} = ',gugudan * i) "
   ]
  },
  {
   "cell_type": "code",
   "execution_count": 104,
   "id": "803491ff-3c48-47bd-bba8-4197ef09ed36",
   "metadata": {},
   "outputs": [
    {
     "name": "stdin",
     "output_type": "stream",
     "text": [
      "구구단을 알려드립니다. 숫자를 입력하세요. 5\n"
     ]
    },
    {
     "name": "stdout",
     "output_type": "stream",
     "text": [
      "5 * 1 =  5\n",
      "5 * 2 =  10\n",
      "5 * 3 =  15\n",
      "5 * 4 =  20\n",
      "5 * 5 =  25\n"
     ]
    }
   ],
   "source": [
    "# 연습 문제(곱셈표)\n",
    "gugudan = int(input(\"구구단을 알려드립니다. 숫자를 입력하세요.\"))\n",
    "\n",
    "for i in range(1,gugudan+1):\n",
    "    print(f'{gugudan} * {i} = ',gugudan * i) "
   ]
  },
  {
   "cell_type": "code",
   "execution_count": 109,
   "id": "ad7c0465-aef9-40f8-a970-53bfbdd18645",
   "metadata": {},
   "outputs": [
    {
     "name": "stdin",
     "output_type": "stream",
     "text": [
      "자연수를 입력해주세요.: 50\n"
     ]
    },
    {
     "name": "stdout",
     "output_type": "stream",
     "text": [
      "1275\n"
     ]
    }
   ],
   "source": [
    "# 연습 문제\n",
    "num = int(input(\"자연수를 입력해주세요.:\"))\n",
    "result = 0\n",
    "\n",
    "for i in range(1,num+1):\n",
    "    result = result + i\n",
    "\n",
    "print(result)"
   ]
  },
  {
   "cell_type": "code",
   "execution_count": 124,
   "id": "b2d42126-dda0-4824-a7e1-282affed1879",
   "metadata": {},
   "outputs": [
    {
     "name": "stdout",
     "output_type": "stream",
     "text": [
      "*****\n",
      "*****\n",
      "*****\n",
      "*****\n",
      "*****\n"
     ]
    }
   ],
   "source": [
    "# 연습 문제\n",
    "for i in range(5):\n",
    "    print('*'*i, '*'*(5-i), sep =\"\")"
   ]
  },
  {
   "cell_type": "markdown",
   "id": "95b448e4-7f2f-4cc3-9f57-7e668d0d9627",
   "metadata": {},
   "source": [
    "# 4. while문\n",
    "-> 조건식으로만 동작\n",
    "\n",
    "* 실행 순서\n",
    "1. 조건식을 판별\n",
    "2. 조건식이 True인 동안 내내 while문의 바디를 실행\n",
    "3. 조건식이 False가 되면 while문을 빠져나갑니다."
   ]
  },
  {
   "cell_type": "code",
   "execution_count": null,
   "id": "78ed621a-885e-44bf-b6e6-7b67c5eaa1e1",
   "metadata": {
    "tags": []
   },
   "outputs": [],
   "source": [
    "# ![image.png](attachment:abc6b139-e038-4379-bdc0-526be769c43d.png)"
   ]
  },
  {
   "cell_type": "code",
   "execution_count": 129,
   "id": "8b03308c-de83-4f44-a1a3-f0f1818ea8f0",
   "metadata": {
    "scrolled": true,
    "tags": []
   },
   "outputs": [
    {
     "name": "stdout",
     "output_type": "stream",
     "text": [
      "Hello world!\n",
      "Hello world!\n",
      "Hello world!\n",
      "Hello world!\n",
      "Hello world!\n",
      "Hello world!\n",
      "Hello world!\n",
      "Hello world!\n",
      "Hello world!\n",
      "Hello world!\n",
      "Hello world!\n",
      "Hello world!\n",
      "Hello world!\n",
      "Hello world!\n",
      "Hello world!\n",
      "Hello world!\n",
      "Hello world!\n",
      "Hello world!\n",
      "Hello world!\n",
      "Hello world!\n",
      "Hello world!\n",
      "Hello world!\n",
      "Hello world!\n",
      "Hello world!\n",
      "Hello world!\n",
      "Hello world!\n",
      "Hello world!\n",
      "Hello world!\n",
      "Hello world!\n",
      "Hello world!\n",
      "Hello world!\n",
      "Hello world!\n",
      "Hello world!\n",
      "Hello world!\n",
      "Hello world!\n",
      "Hello world!\n",
      "Hello world!\n",
      "Hello world!\n",
      "Hello world!\n",
      "Hello world!\n",
      "Hello world!\n",
      "Hello world!\n",
      "Hello world!\n",
      "Hello world!\n",
      "Hello world!\n",
      "Hello world!\n",
      "Hello world!\n",
      "Hello world!\n",
      "Hello world!\n",
      "Hello world!\n",
      "Hello world!\n",
      "Hello world!\n",
      "Hello world!\n",
      "Hello world!\n",
      "Hello world!\n",
      "Hello world!\n",
      "Hello world!\n",
      "Hello world!\n",
      "Hello world!\n",
      "Hello world!\n",
      "Hello world!\n",
      "Hello world!\n",
      "Hello world!\n",
      "Hello world!\n",
      "Hello world!\n",
      "Hello world!\n",
      "Hello world!\n",
      "Hello world!\n",
      "Hello world!\n",
      "Hello world!\n",
      "Hello world!\n",
      "Hello world!\n",
      "Hello world!\n",
      "Hello world!\n",
      "Hello world!\n",
      "Hello world!\n",
      "Hello world!\n",
      "Hello world!\n",
      "Hello world!\n",
      "Hello world!\n",
      "Hello world!\n",
      "Hello world!\n",
      "Hello world!\n",
      "Hello world!\n",
      "Hello world!\n",
      "Hello world!\n",
      "Hello world!\n",
      "Hello world!\n",
      "Hello world!\n",
      "Hello world!\n",
      "Hello world!\n",
      "Hello world!\n",
      "Hello world!\n",
      "Hello world!\n",
      "Hello world!\n",
      "Hello world!\n",
      "Hello world!\n",
      "Hello world!\n",
      "Hello world!\n",
      "Hello world!\n"
     ]
    }
   ],
   "source": [
    "i = 0                     # 초기식\n",
    "while i < 100:            # while 조건식  \n",
    "    print(\"Hello world!\") # 반복할 코드\n",
    "    i += 1                # 변화식   "
   ]
  },
  {
   "cell_type": "code",
   "execution_count": 130,
   "id": "e0e061bf-25c8-4155-a5cc-65b3aabf2739",
   "metadata": {
    "tags": []
   },
   "outputs": [
    {
     "name": "stdin",
     "output_type": "stream",
     "text": [
      "반복할 횟수를 입력하세요:  5\n"
     ]
    },
    {
     "name": "stdout",
     "output_type": "stream",
     "text": [
      "Hello world 5\n",
      "Hello world 4\n",
      "Hello world 3\n",
      "Hello world 2\n",
      "Hello world 1\n"
     ]
    }
   ],
   "source": [
    "# 입력한 횟수대로 반복\n",
    "\n",
    "count = int(input(\"반복할 횟수를 입력하세요: \"))\n",
    "\n",
    "while count > 0:\n",
    "    print(\"Hello world\", count)\n",
    "    count -= 1"
   ]
  },
  {
   "cell_type": "code",
   "execution_count": 12,
   "id": "058b0ecc-7aab-4a99-ab51-13d1e2309502",
   "metadata": {},
   "outputs": [
    {
     "name": "stdout",
     "output_type": "stream",
     "text": [
      "2\t4\t6\t8\t10\t12\t14\t16\t18\t20\t22\t24\t26\t28\t30\t32\t34\t36\t38\t40\t42\t44\t46\t48\t50\t52\t54\t56\t58\t60\t62\t64\t66\t68\t70\t72\t74\t76\t78\t80\t82\t84\t86\t88\t90\t92\t94\t96\t98\t100\t"
     ]
    }
   ],
   "source": [
    "# 연습 문제\n",
    "i = 1\n",
    "\n",
    "while i <= 100:\n",
    "    if i % 2 == 0:\n",
    "        print(i, end = '\\t')\n",
    "#    else:\n",
    "#        pass\n",
    "    i += 1"
   ]
  },
  {
   "cell_type": "code",
   "execution_count": 9,
   "id": "caf19f4d-8fe7-41fe-bd33-65ddae0fefd9",
   "metadata": {},
   "outputs": [
    {
     "data": {
      "text/plain": [
       "3"
      ]
     },
     "execution_count": 9,
     "metadata": {},
     "output_type": "execute_result"
    }
   ],
   "source": [
    "6 // 2"
   ]
  },
  {
   "cell_type": "code",
   "execution_count": 14,
   "id": "0741c60d-9b30-4aaf-a1e4-c5e21ee6a5b8",
   "metadata": {},
   "outputs": [
    {
     "name": "stdin",
     "output_type": "stream",
     "text": [
      "구구단을 알려드립니다. 숫자를 입력하세요. 5\n"
     ]
    },
    {
     "name": "stdout",
     "output_type": "stream",
     "text": [
      "5 * 1 = 5\n",
      "5 * 2 = 10\n",
      "5 * 3 = 15\n",
      "5 * 4 = 20\n",
      "5 * 5 = 25\n",
      "5 * 6 = 30\n",
      "5 * 7 = 35\n",
      "5 * 8 = 40\n",
      "5 * 9 = 45\n"
     ]
    }
   ],
   "source": [
    "# 연습 문제\n",
    "num = int(input(\"구구단을 알려드립니다. 숫자를 입력하세요.\"))\n",
    "\n",
    "i = 1\n",
    "while i < 10:\n",
    "    print(num, '*', i, '=', num * i)\n",
    "    i += 1"
   ]
  },
  {
   "cell_type": "markdown",
   "id": "9b7d09b9-77cb-4d76-89a2-71cd5f91c95d",
   "metadata": {},
   "source": [
    "## 1) for 문으로 시퀀스 객체의 인덱스 루프(loop) 테크닉\n",
    "-> while문과 len() 함수를 함께 사용해서 시퀀스 객체의 요소를 인덱스들로 이터레이트하려면 아래처럼 작성하여 처리할 수 있습니다."
   ]
  },
  {
   "cell_type": "code",
   "execution_count": 15,
   "id": "4f569889-3176-4f4f-a743-3a8ddae016f4",
   "metadata": {},
   "outputs": [
    {
     "name": "stdout",
     "output_type": "stream",
     "text": [
      "97\n",
      "100\n",
      "77\n"
     ]
    }
   ],
   "source": [
    "scores = (97, 100, 77)\n",
    "for _ in range(len(scores)):\n",
    "    print(scores[_])"
   ]
  },
  {
   "cell_type": "markdown",
   "id": "76c903b0-4b86-448b-8757-86c95af490f1",
   "metadata": {},
   "source": [
    "## 2) While문으로 시퀀스 객체의 인덱스 루프(loop) 테크닉"
   ]
  },
  {
   "cell_type": "code",
   "execution_count": 16,
   "id": "155468c1-b873-4643-b617-b464a7e186be",
   "metadata": {},
   "outputs": [
    {
     "name": "stdout",
     "output_type": "stream",
     "text": [
      "97\n",
      "100\n",
      "77\n"
     ]
    }
   ],
   "source": [
    "i = 0\n",
    "while i < len(scores):\n",
    "    print(scores[i])\n",
    "    i += 1"
   ]
  },
  {
   "cell_type": "code",
   "execution_count": 6,
   "id": "55f87697-ef05-402e-97d6-17255357f9af",
   "metadata": {},
   "outputs": [],
   "source": [
    "# 연습 문제(1)\n",
    "\n",
    "for i in range(1,11):\n",
    "    print(i, end =\" \")"
   ]
  },
  {
   "cell_type": "code",
   "execution_count": 6,
   "id": "b3653db2-b150-44b8-bb5d-0f19370f23f1",
   "metadata": {},
   "outputs": [],
   "source": [
    "# 연습 문제(2)\n",
    "i = 1\n",
    "\n",
    "while i <= 10:\n",
    "    print(i, end =\" \")\n",
    "    i += 1"
   ]
  },
  {
   "cell_type": "code",
   "execution_count": 16,
   "id": "d98a5cd5-a558-4737-bce1-0b78f1bc0584",
   "metadata": {
    "tags": []
   },
   "outputs": [
    {
     "name": "stdout",
     "output_type": "stream",
     "text": [
      "79.0\n"
     ]
    }
   ],
   "source": [
    "# 연습 문제\n",
    "\n",
    "class_a = (70, 60, 55, 75, 95, 90, 80, 80, 85, 100)\n",
    "\n",
    "i = 0\n",
    "result = 0\n",
    "\n",
    "while i < len(class_a):\n",
    "    result += class_a[i]\n",
    "    i += 1\n",
    "\n",
    "print(result/len(class_a))"
   ]
  },
  {
   "cell_type": "markdown",
   "id": "ecaffaeb-d5ef-4246-a9f1-2aed6551c20c",
   "metadata": {
    "tags": []
   },
   "source": [
    "# break문\n",
    "\n",
    "for,while문 에서 break는 해당 반복문을 완전히 빠져나갑니다. 보통 반복문 안에서 특정 조건에 부합할 때 해당 반복문을 빠져나가기 위해 씁니다. 그래서 break는 if문과 함께 쓰이는게 보통입니다."
   ]
  },
  {
   "cell_type": "code",
   "execution_count": 1,
   "id": "29f7f68f-e535-49d1-bc55-ae3346780074",
   "metadata": {},
   "outputs": [
    {
     "name": "stdout",
     "output_type": "stream",
     "text": [
      "0\n",
      "1\n",
      "2\n",
      "3\n",
      "4\n",
      "5\n",
      "6\n",
      "7\n",
      "8\n",
      "9\n",
      "10\n",
      "11\n",
      "12\n",
      "13\n",
      "14\n",
      "15\n",
      "16\n",
      "17\n",
      "18\n",
      "19\n",
      "20\n",
      "21\n",
      "22\n",
      "23\n",
      "24\n",
      "25\n",
      "26\n",
      "27\n",
      "28\n",
      "29\n",
      "30\n",
      "31\n",
      "32\n",
      "33\n",
      "34\n",
      "35\n",
      "36\n",
      "37\n",
      "38\n",
      "39\n",
      "40\n",
      "41\n",
      "42\n",
      "43\n",
      "44\n",
      "45\n",
      "46\n",
      "47\n",
      "48\n",
      "49\n",
      "50\n",
      "51\n",
      "52\n",
      "53\n",
      "54\n",
      "55\n",
      "56\n",
      "57\n",
      "58\n",
      "59\n",
      "60\n",
      "61\n",
      "62\n",
      "63\n",
      "64\n",
      "65\n",
      "66\n",
      "67\n",
      "68\n",
      "69\n",
      "70\n",
      "71\n",
      "72\n",
      "73\n",
      "74\n",
      "75\n",
      "76\n",
      "77\n",
      "78\n",
      "79\n",
      "80\n",
      "81\n",
      "82\n",
      "83\n",
      "84\n",
      "85\n",
      "86\n",
      "87\n",
      "88\n",
      "89\n",
      "90\n",
      "91\n",
      "92\n",
      "93\n",
      "94\n",
      "95\n",
      "96\n",
      "97\n",
      "98\n",
      "99\n",
      "100\n"
     ]
    }
   ],
   "source": [
    "# 10000회 반복\n",
    "\n",
    "for _ in range(10000):\n",
    "    print(_)\n",
    "    if _ == 100:\n",
    "        break"
   ]
  },
  {
   "cell_type": "markdown",
   "id": "feaff42a-ac8e-402a-abea-52a71b4e41da",
   "metadata": {},
   "source": [
    "## while문 - 무한 루프의 활용"
   ]
  },
  {
   "cell_type": "code",
   "execution_count": 7,
   "id": "749e1b4f-8fda-42e0-a23c-e5027592dece",
   "metadata": {},
   "outputs": [
    {
     "name": "stdout",
     "output_type": "stream",
     "text": [
      "Hello world\n",
      "Hello world\n",
      "Hello world\n",
      "Hello world\n",
      "Hello world\n",
      "Hello world\n",
      "Hello world\n",
      "Hello world\n",
      "Hello world\n",
      "Hello world\n",
      "Hello world\n"
     ]
    }
   ],
   "source": [
    "i = 0\n",
    "\n",
    "while True:\n",
    "    print(\"Hello world\")\n",
    "    i += 1\n",
    "    if i > 10:\n",
    "        break"
   ]
  },
  {
   "cell_type": "code",
   "execution_count": 6,
   "id": "64bb484e-a946-427d-9c84-b75d9178f524",
   "metadata": {},
   "outputs": [
    {
     "name": "stdout",
     "output_type": "stream",
     "text": [
      "5050\n"
     ]
    }
   ],
   "source": [
    "# 연습 문제\n",
    "\n",
    "i = 1\n",
    "total = 0\n",
    "while True:\n",
    "    total += i\n",
    "    i += 1\n",
    "    if i > 100:\n",
    "        break\n",
    "print(total)"
   ]
  },
  {
   "cell_type": "code",
   "execution_count": 8,
   "id": "85a277f0-c11a-480d-905d-685479e8dccb",
   "metadata": {},
   "outputs": [
    {
     "name": "stdin",
     "output_type": "stream",
     "text": [
      "q를 입력하면 종료됩니다. ㄴ\n",
      "q를 입력하면 종료됩니다. ㅇ\n",
      "q를 입력하면 종료됩니다. ㅇ\n",
      "q를 입력하면 종료됩니다. ㄹ\n",
      "q를 입력하면 종료됩니다. ㅎ\n",
      "q를 입력하면 종료됩니다. ㅗ'\n",
      "q를 입력하면 종료됩니다. ㅇ\n",
      "q를 입력하면 종료됩니다. ㅇ\n",
      "q를 입력하면 종료됩니다. ㄴ\n",
      "q를 입력하면 종료됩니다. ㅈㄷ\n",
      "q를 입력하면 종료됩니다. q\n"
     ]
    },
    {
     "name": "stdout",
     "output_type": "stream",
     "text": [
      "프로그램을 종료합니다.\n"
     ]
    }
   ],
   "source": [
    "while True:\n",
    "    input_value = input(\"q를 입력하면 종료됩니다.\")\n",
    "    if input_value == \"q\": break\n",
    "print(\"프로그램을 종료합니다.\")"
   ]
  },
  {
   "cell_type": "code",
   "execution_count": null,
   "id": "322ae4e1-8218-4cbd-aef5-21c3223ce758",
   "metadata": {},
   "outputs": [],
   "source": [
    "# continue\n",
    "-> continue는 제어흐름을 유지하고, continue가 실행된 반복 횟수의 코드 실행만 건너뜁니다."
   ]
  },
  {
   "cell_type": "code",
   "execution_count": null,
   "id": "5e285d82-c7a0-43a0-8cd9-352010604684",
   "metadata": {},
   "outputs": [],
   "source": [
    "# ![image.png](attachment:51f6c933-c9f5-495a-80c1-d354c3f4bbe7.png)"
   ]
  },
  {
   "cell_type": "code",
   "execution_count": 12,
   "id": "09be3954-4158-4e1b-9f24-5b15a4876471",
   "metadata": {
    "tags": []
   },
   "outputs": [
    {
     "name": "stdout",
     "output_type": "stream",
     "text": [
      "1\t3\t5\t7\t9\t11\t13\t15\t17\t19\t21\t23\t25\t27\t29\t31\t33\t35\t37\t39\t41\t43\t45\t47\t49\t51\t53\t55\t57\t59\t61\t63\t65\t67\t69\t71\t73\t75\t77\t79\t81\t83\t85\t87\t89\t91\t93\t95\t97\t99\t"
     ]
    }
   ],
   "source": [
    "for i in range(100):     #0부터 99까지 증가하면서 100번 반복\n",
    "    if i % 2 == 0:       #i를 2로 나누었을 때 나머지가 0면 짝수 \n",
    "        continue\n",
    "    print(i, end =\"\\t\")"
   ]
  },
  {
   "cell_type": "code",
   "execution_count": null,
   "id": "5b104e35-0bcb-4be1-8a6f-aa2d6d1ea2b3",
   "metadata": {},
   "outputs": [],
   "source": [
    "# ![image.png](attachment:414ee381-5649-479a-8552-d1ae66eba090.png)"
   ]
  },
  {
   "cell_type": "code",
   "execution_count": 21,
   "id": "4fe35e6d-27e7-4e5d-b3da-7113c5600584",
   "metadata": {},
   "outputs": [
    {
     "name": "stdout",
     "output_type": "stream",
     "text": [
      "1 3 5 7 9 11 13 15 17 19 21 23 25 27 29 31 33 35 37 39 41 43 45 47 49 51 53 55 57 59 61 63 65 67 69 71 73 75 77 79 81 83 85 87 89 91 93 95 97 99 101 "
     ]
    }
   ],
   "source": [
    "i = 0\n",
    "while i <= 100:\n",
    "    i += 1\n",
    "    if i % 2 == 0:\n",
    "        continue\n",
    "    else:\n",
    "        print(i, end = \" \")"
   ]
  },
  {
   "cell_type": "code",
   "execution_count": 14,
   "id": "8a4f5828-0985-4327-b211-ad07f658c2ec",
   "metadata": {},
   "outputs": [
    {
     "name": "stdin",
     "output_type": "stream",
     "text": [
      "시작하는 정수 입력: 1\n",
      "끝나는 정수 입력: 10\n"
     ]
    },
    {
     "name": "stdout",
     "output_type": "stream",
     "text": [
      "1부터 10까지의 합은 55 입니다.\n"
     ]
    }
   ],
   "source": [
    "# 연습 문제(1)\n",
    "n = int(input(\"시작하는 정수 입력:\"))\n",
    "m = int(input(\"끝나는 정수 입력:\"))\n",
    "\n",
    "total = 0\n",
    "for i in range(n, m+1):\n",
    "    total += i\n",
    "print(f'{n}부터 {m}까지의 합은 {total} 입니다.') "
   ]
  },
  {
   "cell_type": "code",
   "execution_count": 19,
   "id": "d7dce02e-4741-43cb-bdff-cd99ae528530",
   "metadata": {},
   "outputs": [
    {
     "name": "stdin",
     "output_type": "stream",
     "text": [
      "시작하는 정수 입력: 1\n",
      "끝나는 정수 입력: 10\n"
     ]
    },
    {
     "name": "stdout",
     "output_type": "stream",
     "text": [
      "1부터 10까지의 합은 55 입니다.\n"
     ]
    }
   ],
   "source": [
    "# 연습 문제(2)\n",
    "n = int(input(\"시작하는 정수 입력:\"))\n",
    "m = int(input(\"끝나는 정수 입력:\"))\n",
    "\n",
    "i = n\n",
    "total = 0\n",
    "\n",
    "while i <= m:\n",
    "    total += i\n",
    "    i += 1\n",
    "\n",
    "print(f'{n}부터 {m}까지의 합은 {total} 입니다.') "
   ]
  },
  {
   "cell_type": "code",
   "execution_count": null,
   "id": "4150015c-f6e4-4770-ac86-dd1b127e6288",
   "metadata": {},
   "outputs": [],
   "source": []
  }
 ],
 "metadata": {
  "kernelspec": {
   "display_name": "Python 3 (ipykernel)",
   "language": "python",
   "name": "python3"
  },
  "language_info": {
   "codemirror_mode": {
    "name": "ipython",
    "version": 3
   },
   "file_extension": ".py",
   "mimetype": "text/x-python",
   "name": "python",
   "nbconvert_exporter": "python",
   "pygments_lexer": "ipython3",
   "version": "3.9.13"
  }
 },
 "nbformat": 4,
 "nbformat_minor": 5
}
