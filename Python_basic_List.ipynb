{
 "cells": [
  {
   "cell_type": "markdown",
   "id": "4631872b-5c4b-443e-a618-2cde73696107",
   "metadata": {},
   "source": [
    "# 1. 파이썬 기본"
   ]
  },
  {
   "cell_type": "markdown",
   "id": "0154e5c3-ddd3-4545-b71d-18130e2fb99a",
   "metadata": {},
   "source": [
    "## - 주석 사용하기"
   ]
  },
  {
   "cell_type": "code",
   "execution_count": 1,
   "id": "fb993c77-e8cc-4bb1-b3e5-f837d42196d5",
   "metadata": {},
   "outputs": [],
   "source": [
    "x = 1 # 여기서 =(등호) 기호는 수학의 같다는 의미와는 다르다.\n",
    "      # ... 우측 변의 리터럴을 좌측 변의 변수에 대입한다는 의미다.\n",
    "\n",
    "text = \"# 이것은 주석이 아닙니다. 따옴표 안은 문자열 리터럴입니다.\""
   ]
  },
  {
   "cell_type": "code",
   "execution_count": 2,
   "id": "9eec18bb-8d53-4b5c-a018-45800f2e7540",
   "metadata": {},
   "outputs": [
    {
     "name": "stdout",
     "output_type": "stream",
     "text": [
      "1\n"
     ]
    }
   ],
   "source": [
    "print(x)"
   ]
  },
  {
   "cell_type": "code",
   "execution_count": 3,
   "id": "53ed56e4-461b-4eef-b5c0-9da188d0d8cc",
   "metadata": {},
   "outputs": [
    {
     "name": "stdout",
     "output_type": "stream",
     "text": [
      "# 이것은 주석이 압니다. 따옴표 안은 문자열 리터럴입니다.\n"
     ]
    }
   ],
   "source": [
    "print(text)"
   ]
  },
  {
   "cell_type": "code",
   "execution_count": 4,
   "id": "efb3a58b-2ddc-4254-a0b2-41ee4003eff3",
   "metadata": {},
   "outputs": [
    {
     "name": "stdout",
     "output_type": "stream",
     "text": [
      "Hello, world!\n",
      "Hello, world!\n",
      "Python Programming\n"
     ]
    }
   ],
   "source": [
    "print(\"Hello, world!\")\n",
    "print(\"Hello, world!\")\n",
    "print(\"Python Programming\")"
   ]
  },
  {
   "cell_type": "code",
   "execution_count": 6,
   "id": "b0f07736-863e-4554-835e-b03ec027385b",
   "metadata": {},
   "outputs": [
    {
     "name": "stdout",
     "output_type": "stream",
     "text": [
      "Hello, world!\n",
      "Hello, world!\n",
      "Python Programming\n"
     ]
    }
   ],
   "source": [
    "print(\"Hello, world!\\nHello, world!\\nPython Programming\")"
   ]
  },
  {
   "cell_type": "markdown",
   "id": "03e07bbe-b8e6-4e36-b5ff-1647bff9a804",
   "metadata": {},
   "source": [
    "## 1) 사칙연산"
   ]
  },
  {
   "cell_type": "code",
   "execution_count": null,
   "id": "a25cc180-dc9f-475c-8f28-d4faba9852cc",
   "metadata": {},
   "outputs": [],
   "source": [
    "# 사칙연산\n",
    "2+3 #덧셈\n",
    "2-3 #뺄셈\n",
    "2*3 #곱셈\n",
    "2/3 #나눗셈"
   ]
  },
  {
   "cell_type": "code",
   "execution_count": 9,
   "id": "7b4faf5c-c4e1-4183-a857-e83321664a65",
   "metadata": {},
   "outputs": [
    {
     "name": "stdout",
     "output_type": "stream",
     "text": [
      "89\n"
     ]
    }
   ],
   "source": [
    "#문제1\n",
    "print(13+(22-3)*4)"
   ]
  },
  {
   "cell_type": "code",
   "execution_count": 10,
   "id": "10ce7d0a-d85a-4165-8647-a0363f0ec6dc",
   "metadata": {},
   "outputs": [
    {
     "name": "stdout",
     "output_type": "stream",
     "text": [
      "28.2\n"
     ]
    }
   ],
   "source": [
    "#문제2\n",
    "print(13+((22-3)*4)/5)"
   ]
  },
  {
   "cell_type": "code",
   "execution_count": 11,
   "id": "a8ce0c32-6a92-4ef8-8513-48a21537e63c",
   "metadata": {},
   "outputs": [
    {
     "data": {
      "text/plain": [
       "89"
      ]
     },
     "execution_count": 11,
     "metadata": {},
     "output_type": "execute_result"
    }
   ],
   "source": [
    "13+(22-3)*4"
   ]
  },
  {
   "cell_type": "code",
   "execution_count": 12,
   "id": "c75559fa-a6f7-439e-896a-7386c829971b",
   "metadata": {},
   "outputs": [
    {
     "data": {
      "text/plain": [
       "28.2"
      ]
     },
     "execution_count": 12,
     "metadata": {},
     "output_type": "execute_result"
    }
   ],
   "source": [
    "13+((22-3)*4)/5"
   ]
  },
  {
   "cell_type": "markdown",
   "id": "cd6bdc82-e267-4293-bfd7-616bec4b7145",
   "metadata": {},
   "source": [
    "## 2) 연산자"
   ]
  },
  {
   "cell_type": "code",
   "execution_count": null,
   "id": "e8714a45-50e9-4d9f-b170-8bb499a49040",
   "metadata": {},
   "outputs": [],
   "source": [
    "#몫,나머지\n",
    "3//3 # 몫\n",
    "3%2 # 나머지"
   ]
  },
  {
   "cell_type": "code",
   "execution_count": null,
   "id": "aaca3fd4-86b0-46e9-8e3d-c96cc39a1973",
   "metadata": {},
   "outputs": [],
   "source": [
    "#거듭제곱,제곱근\n",
    "2**7 ## 거듭제곱\n",
    "3**(1/2) ## 제곱근"
   ]
  },
  {
   "cell_type": "code",
   "execution_count": 13,
   "id": "00f3dbc2-5ba6-49ad-8ac9-69d2d885bc6c",
   "metadata": {},
   "outputs": [],
   "source": [
    "# 숫자 자료형\n",
    "a = 2+3j\n",
    "b = complex(3,-4)"
   ]
  },
  {
   "cell_type": "code",
   "execution_count": 14,
   "id": "f132c340-b1b8-45a7-8145-927d0e0ab470",
   "metadata": {},
   "outputs": [
    {
     "data": {
      "text/plain": [
       "2.0"
      ]
     },
     "execution_count": 14,
     "metadata": {},
     "output_type": "execute_result"
    }
   ],
   "source": [
    "a.real"
   ]
  },
  {
   "cell_type": "code",
   "execution_count": 15,
   "id": "05cba3cb-c62b-4d99-97d2-0d7be7036cbf",
   "metadata": {},
   "outputs": [
    {
     "data": {
      "text/plain": [
       "3.0"
      ]
     },
     "execution_count": 15,
     "metadata": {},
     "output_type": "execute_result"
    }
   ],
   "source": [
    "a.imag"
   ]
  },
  {
   "cell_type": "code",
   "execution_count": 16,
   "id": "5b8719df-b6c0-4559-b68c-327dbe21642d",
   "metadata": {},
   "outputs": [
    {
     "data": {
      "text/plain": [
       "3.0"
      ]
     },
     "execution_count": 16,
     "metadata": {},
     "output_type": "execute_result"
    }
   ],
   "source": [
    "b.real"
   ]
  },
  {
   "cell_type": "code",
   "execution_count": 17,
   "id": "90650f00-da5d-47e5-abb5-4fc3ff9bf795",
   "metadata": {},
   "outputs": [
    {
     "data": {
      "text/plain": [
       "-4.0"
      ]
     },
     "execution_count": 17,
     "metadata": {},
     "output_type": "execute_result"
    }
   ],
   "source": [
    "b.imag"
   ]
  },
  {
   "cell_type": "code",
   "execution_count": 21,
   "id": "04e4bfd1-925e-4ec1-8164-794d8627d5d5",
   "metadata": {},
   "outputs": [
    {
     "data": {
      "text/plain": [
       "104"
      ]
     },
     "execution_count": 21,
     "metadata": {},
     "output_type": "execute_result"
    }
   ],
   "source": [
    "# 정수 타입으로 변환 - int\n",
    "int(3.3)\n",
    "int(5/2)\n",
    "int('104')"
   ]
  },
  {
   "cell_type": "code",
   "execution_count": 24,
   "id": "7e48bf48-921a-4f94-8ec8-6717b35869c4",
   "metadata": {},
   "outputs": [
    {
     "data": {
      "text/plain": [
       "3.14"
      ]
     },
     "execution_count": 24,
     "metadata": {},
     "output_type": "execute_result"
    }
   ],
   "source": [
    "# 실수 타입으로 변환 - float\n",
    "float(3)\n",
    "float(4*4)\n",
    "float('3.14')"
   ]
  },
  {
   "cell_type": "code",
   "execution_count": 30,
   "id": "5b7ef32e-96d5-4cc1-b9eb-fef66f3d8b2f",
   "metadata": {},
   "outputs": [
    {
     "data": {
      "text/plain": [
       "7"
      ]
     },
     "execution_count": 30,
     "metadata": {},
     "output_type": "execute_result"
    }
   ],
   "source": [
    "#연습문제\n",
    "int(0.2467 * 12 + 4.159)"
   ]
  },
  {
   "cell_type": "code",
   "execution_count": 35,
   "id": "dbf0e136-10bf-48d6-a876-85f2a29bd590",
   "metadata": {},
   "outputs": [
    {
     "name": "stdout",
     "output_type": "stream",
     "text": [
      "가장 시끄러운 층은 = 7 층\n"
     ]
    }
   ],
   "source": [
    "# 연습문제1 심화\n",
    "print(\"가장 시끄러운 층은 =\",int(0.2467*12+4.159),\"층\")"
   ]
  },
  {
   "cell_type": "code",
   "execution_count": 37,
   "id": "2b8b5b28-47b8-4883-9030-981ed41edcde",
   "metadata": {},
   "outputs": [
    {
     "name": "stdout",
     "output_type": "stream",
     "text": [
      "냉장고 가격은 1272000 원 입니다.\n"
     ]
    }
   ],
   "source": [
    "# 연습문제2\n",
    "price = int(53000*24)\n",
    "print(\"냉장고 가격은\",price,\"원 입니다.\")"
   ]
  },
  {
   "cell_type": "code",
   "execution_count": 40,
   "id": "b0b046a5-d89f-4823-9188-85ed7dca2632",
   "metadata": {},
   "outputs": [
    {
     "name": "stdout",
     "output_type": "stream",
     "text": [
      "총 지불 해야 할 금액은 16500000 원 입니다.\n"
     ]
    }
   ],
   "source": [
    "# 연습문제3\n",
    "people = 250\n",
    "tax = 0.1\n",
    "total_price = int(((20000 * (1+tax)) * 3)) * people \n",
    "print(\"총 지불 해야 할 금액은\",total_price,\"원 입니다.\")"
   ]
  },
  {
   "cell_type": "code",
   "execution_count": 41,
   "id": "3ddb4a5d-57a8-41b4-9c76-6cceb91354ec",
   "metadata": {},
   "outputs": [
    {
     "name": "stdout",
     "output_type": "stream",
     "text": [
      "12345000000.0\n",
      "0.0012345\n"
     ]
    }
   ],
   "source": [
    "#지수 표기\n",
    "print(1.2345e10)\n",
    "print(1.2345e-3)"
   ]
  },
  {
   "cell_type": "code",
   "execution_count": 42,
   "id": "b678fb89-0f02-4e43-bf09-7c2990f6cba5",
   "metadata": {},
   "outputs": [
    {
     "name": "stdout",
     "output_type": "stream",
     "text": [
      "17\n",
      "22\n",
      "0b10001\n",
      "0b10110\n"
     ]
    }
   ],
   "source": [
    "#2진법 표기 -> 숫자 0과 알파벳 b\n",
    "print(0b10001)\n",
    "print(0b10110)\n",
    "print(bin(17))\n",
    "print(bin(22))"
   ]
  },
  {
   "cell_type": "code",
   "execution_count": 43,
   "id": "ed409e3f-99fa-4e06-a74a-a05a2ad550fb",
   "metadata": {},
   "outputs": [
    {
     "name": "stdout",
     "output_type": "stream",
     "text": [
      "17\n",
      "22\n",
      "0o21\n",
      "0o26\n"
     ]
    }
   ],
   "source": [
    "#8진수 표기 -> 숫자 0과 알파벳 o(오)\n",
    "print(0o21)\n",
    "print(0o26)\n",
    "print(oct(17))\n",
    "print(oct(22))"
   ]
  },
  {
   "cell_type": "code",
   "execution_count": null,
   "id": "3afb6464-7a57-4b76-8305-ac32fe830dbe",
   "metadata": {},
   "outputs": [],
   "source": [
    "# ![image.png](attachment:2c3f000a-c84c-42ee-a62f-367291831693.png)"
   ]
  },
  {
   "cell_type": "code",
   "execution_count": 44,
   "id": "7b5dbc72-b430-4935-a766-a981714d2935",
   "metadata": {},
   "outputs": [
    {
     "name": "stdout",
     "output_type": "stream",
     "text": [
      "31\n",
      "22\n",
      "0x1f\n",
      "0x16\n"
     ]
    }
   ],
   "source": [
    "#16진수 표기 -> 숫자 0과 알파벳 x(엑스)\n",
    "print(0x1f)\n",
    "print(0x16)\n",
    "print(hex(31))\n",
    "print(hex(22))"
   ]
  },
  {
   "cell_type": "code",
   "execution_count": null,
   "id": "68b421c9-97d6-46e5-a0f7-ba8aa1113a50",
   "metadata": {},
   "outputs": [],
   "source": [
    "# ![image.png](attachment:2ccb3a74-4da0-4e06-ac11-9cc215ee8984.png)"
   ]
  },
  {
   "cell_type": "code",
   "execution_count": null,
   "id": "203ce21d-6119-4335-afdd-b5d927a3ae92",
   "metadata": {},
   "outputs": [],
   "source": [
    "# ![image.png](attachment:e0a53989-cd33-4b7e-b4b4-e3db0803b930.png)"
   ]
  },
  {
   "cell_type": "code",
   "execution_count": null,
   "id": "949eafad-f24f-4bb8-a2ec-3d1392c8e62a",
   "metadata": {},
   "outputs": [],
   "source": [
    "# ![image.png](attachment:2649d65a-6c79-4b9b-9508-1b75b9310e7b.png)"
   ]
  },
  {
   "cell_type": "code",
   "execution_count": 46,
   "id": "41d77696-971e-4c3c-934e-ff62f9082eb1",
   "metadata": {},
   "outputs": [
    {
     "name": "stdout",
     "output_type": "stream",
     "text": [
      "453.0\n"
     ]
    }
   ],
   "source": [
    "# 연습 문제 1\n",
    "AP = 380\n",
    "왜곡 = AP * 0.6 + 225\n",
    "print(왜곡)"
   ]
  },
  {
   "cell_type": "code",
   "execution_count": null,
   "id": "84e55b1e-c3b3-4953-b8bf-f2bfd8b83663",
   "metadata": {},
   "outputs": [],
   "source": [
    "# ![image.png](attachment:89d57711-6143-43fa-b404-8d9f1020c07b.png)"
   ]
  },
  {
   "cell_type": "code",
   "execution_count": null,
   "id": "c4c5ae94-baf3-4eda-bacd-981fc4dc5df9",
   "metadata": {},
   "outputs": [],
   "source": [
    "# ![image.png](attachment:bed25823-8eeb-424d-aa80-163a2ebcf41c.png)"
   ]
  },
  {
   "cell_type": "code",
   "execution_count": null,
   "id": "c1a5dd8b-faef-4a27-8f85-d2191c4b4f86",
   "metadata": {},
   "outputs": [],
   "source": [
    "# ![image.png](attachment:3d8edb09-fdd8-4e38-8264-be3b47977d71.png)"
   ]
  },
  {
   "cell_type": "markdown",
   "id": "c9da1d51-e701-4b17-a178-8b0fda567f22",
   "metadata": {},
   "source": [
    "## 3) 변수 다뤄보기"
   ]
  },
  {
   "cell_type": "code",
   "execution_count": 47,
   "id": "4057fd70-e870-4c02-acc9-98e005e7b44d",
   "metadata": {},
   "outputs": [
    {
     "name": "stdout",
     "output_type": "stream",
     "text": [
      "30\n"
     ]
    }
   ],
   "source": [
    "# -> a 변수 선언 후 숫자 리터럴 10 값을 할당\n",
    "a = 10\n",
    "\n",
    "# -> a 변수 값에 20을 더한 결과를 다시 a에 할당\n",
    "a = a + 20\n",
    "\n",
    "print(a)"
   ]
  },
  {
   "cell_type": "code",
   "execution_count": 48,
   "id": "3b91d5d6-c8bb-4700-ac2f-308f7fb8186e",
   "metadata": {},
   "outputs": [
    {
     "ename": "NameError",
     "evalue": "name 'a' is not defined",
     "output_type": "error",
     "traceback": [
      "\u001b[1;31m---------------------------------------------------------------------------\u001b[0m",
      "\u001b[1;31mNameError\u001b[0m                                 Traceback (most recent call last)",
      "\u001b[1;32m~\\AppData\\Local\\Temp\\ipykernel_14364\\2210216928.py\u001b[0m in \u001b[0;36m<module>\u001b[1;34m\u001b[0m\n\u001b[0;32m      1\u001b[0m \u001b[1;31m# a 변수 삭제 후 a 변수를 출력해보기\u001b[0m\u001b[1;33m\u001b[0m\u001b[1;33m\u001b[0m\u001b[0m\n\u001b[0;32m      2\u001b[0m \u001b[1;32mdel\u001b[0m \u001b[0ma\u001b[0m\u001b[1;33m\u001b[0m\u001b[1;33m\u001b[0m\u001b[0m\n\u001b[1;32m----> 3\u001b[1;33m \u001b[0mprint\u001b[0m\u001b[1;33m(\u001b[0m\u001b[0ma\u001b[0m\u001b[1;33m)\u001b[0m\u001b[1;33m\u001b[0m\u001b[1;33m\u001b[0m\u001b[0m\n\u001b[0m",
      "\u001b[1;31mNameError\u001b[0m: name 'a' is not defined"
     ]
    }
   ],
   "source": [
    "# a 변수 삭제 후 a 변수를 출력해보기\n",
    "del a\n",
    "print(a)"
   ]
  },
  {
   "cell_type": "code",
   "execution_count": 50,
   "id": "32c1aac0-9fbf-4bcd-a425-ee23ff74cbee",
   "metadata": {},
   "outputs": [
    {
     "name": "stdout",
     "output_type": "stream",
     "text": [
      "10\n",
      "20\n"
     ]
    }
   ],
   "source": [
    "a = 10\n",
    "\n",
    "# 변수 a에 20 값을 더하고 할당하지 않았을 때\n",
    "a + 20\n",
    "print(a) # 10\n",
    "\n",
    "a += 10 # a = a+10과 같다\n",
    "print(a)"
   ]
  },
  {
   "cell_type": "code",
   "execution_count": 51,
   "id": "6cd01258-b23e-491e-a0af-db770be81484",
   "metadata": {},
   "outputs": [
    {
     "name": "stdout",
     "output_type": "stream",
     "text": [
      "None\n"
     ]
    }
   ],
   "source": [
    "# 변수에 빈 값 할당하기\n",
    "\n",
    "a = None\n",
    "print(a)"
   ]
  },
  {
   "cell_type": "code",
   "execution_count": null,
   "id": "f8a2ec55-c353-4ff7-aba9-214d135940e5",
   "metadata": {},
   "outputs": [],
   "source": [
    "# ![image.png](attachment:8623d273-1e00-4ecc-bf13-b8b1804d64ab.png)"
   ]
  },
  {
   "cell_type": "markdown",
   "id": "e4161c7b-c4b8-4905-a41b-cc47a80cd495",
   "metadata": {},
   "source": [
    "## 4) 논리 연산자"
   ]
  },
  {
   "cell_type": "code",
   "execution_count": 52,
   "id": "be5f5b0e-463d-43f7-8536-7c2ac4c7dac8",
   "metadata": {},
   "outputs": [
    {
     "data": {
      "text/plain": [
       "bool"
      ]
     },
     "execution_count": 52,
     "metadata": {},
     "output_type": "execute_result"
    }
   ],
   "source": [
    "type(True)"
   ]
  },
  {
   "cell_type": "code",
   "execution_count": 53,
   "id": "6250bd45-0a17-4706-81fd-dbf6bfefa20b",
   "metadata": {},
   "outputs": [
    {
     "data": {
      "text/plain": [
       "bool"
      ]
     },
     "execution_count": 53,
     "metadata": {},
     "output_type": "execute_result"
    }
   ],
   "source": [
    "type(False)"
   ]
  },
  {
   "cell_type": "code",
   "execution_count": 55,
   "id": "74971194-32e7-4780-93a0-2f6276df9c5b",
   "metadata": {},
   "outputs": [
    {
     "ename": "NameError",
     "evalue": "name 'true' is not defined",
     "output_type": "error",
     "traceback": [
      "\u001b[1;31m---------------------------------------------------------------------------\u001b[0m",
      "\u001b[1;31mNameError\u001b[0m                                 Traceback (most recent call last)",
      "\u001b[1;32m~\\AppData\\Local\\Temp\\ipykernel_14364\\1822790664.py\u001b[0m in \u001b[0;36m<module>\u001b[1;34m\u001b[0m\n\u001b[1;32m----> 1\u001b[1;33m \u001b[0mtype\u001b[0m\u001b[1;33m(\u001b[0m\u001b[0mtrue\u001b[0m\u001b[1;33m)\u001b[0m\u001b[1;33m\u001b[0m\u001b[1;33m\u001b[0m\u001b[0m\n\u001b[0m",
      "\u001b[1;31mNameError\u001b[0m: name 'true' is not defined"
     ]
    }
   ],
   "source": [
    "type(true)"
   ]
  },
  {
   "cell_type": "code",
   "execution_count": null,
   "id": "606e194d-5083-4e25-a69e-643198fc907e",
   "metadata": {},
   "outputs": [],
   "source": [
    "# ![image.png](attachment:dfba2dd3-9251-4129-b697-7e47a83e5902.png)"
   ]
  },
  {
   "cell_type": "code",
   "execution_count": null,
   "id": "b2cba8f3-8823-4ecc-b367-581499619a87",
   "metadata": {},
   "outputs": [],
   "source": [
    "# ![image.png](attachment:6319fff8-6464-4f35-b548-d0fc68315553.png)"
   ]
  },
  {
   "cell_type": "code",
   "execution_count": null,
   "id": "c7e76e13-6923-4440-b8e8-b7c9369a85d1",
   "metadata": {},
   "outputs": [],
   "source": [
    "# ![image.png](attachment:ba592f48-4382-4bb8-9745-e07f516fd36d.png)"
   ]
  },
  {
   "cell_type": "markdown",
   "id": "da14e9b6-7472-479f-8395-d57239879dd0",
   "metadata": {},
   "source": [
    "## 5) 문자열 리터럴"
   ]
  },
  {
   "cell_type": "code",
   "execution_count": 57,
   "id": "ea42b951-d25b-429a-8b0e-7c3e5a9e7dbe",
   "metadata": {},
   "outputs": [
    {
     "name": "stdout",
     "output_type": "stream",
     "text": [
      "이것은 문자열입니다.\n",
      "이것은 문자열입니다.\n",
      "<class 'str'>\n",
      "<class 'str'>\n"
     ]
    }
   ],
   "source": [
    "# 문자열 리터럴\n",
    "text = '이것은 문자열입니다.'\n",
    "text2 = '이것은 문자열입니다.'\n",
    "\n",
    "print(text)\n",
    "print(text2)\n",
    "\n",
    "print(type(text))\n",
    "print(type(text2))"
   ]
  },
  {
   "cell_type": "code",
   "execution_count": null,
   "id": "e01f8593-7197-46d5-bd22-42be1fb413c9",
   "metadata": {},
   "outputs": [],
   "source": [
    "# ![image.png](attachment:241e9307-cffa-4f03-ad56-bcabe7827b94.png)"
   ]
  },
  {
   "cell_type": "code",
   "execution_count": 58,
   "id": "6f6e683a-981b-4701-949e-31066a75e62b",
   "metadata": {},
   "outputs": [
    {
     "name": "stdout",
     "output_type": "stream",
     "text": [
      "don't do that\n",
      "don't do that\n"
     ]
    }
   ],
   "source": [
    "text3 = 'don\\'t do that'\n",
    "text4 = \"don't do that\"\n",
    "print(text3)\n",
    "print(text4)"
   ]
  },
  {
   "cell_type": "code",
   "execution_count": 60,
   "id": "2886069d-87c6-4cd8-afbd-d9716fd40079",
   "metadata": {},
   "outputs": [
    {
     "name": "stdout",
     "output_type": "stream",
     "text": [
      "\"안녕?\"이라는 그 인사를 듣고 나는 '누구지?'라고 생각했다.\n"
     ]
    }
   ],
   "source": [
    "#연습 문제 2\n",
    "text5 = '\\\"안녕?\\\"이라는 그 인사를 듣고 나는 \\'누구지?\\'라고 생각했다.'\n",
    "print(text5)"
   ]
  },
  {
   "cell_type": "code",
   "execution_count": 1,
   "id": "d3c9d0c8-65c6-43ec-a70d-f10e5acab7cc",
   "metadata": {},
   "outputs": [
    {
     "name": "stdout",
     "output_type": "stream",
     "text": [
      "First line.\n",
      "Second line.\n"
     ]
    }
   ],
   "source": [
    "# -> \\n는 줄바꿈을 의미\n",
    "s = 'First line.\\nSecond line.'\n",
    "print(s)"
   ]
  },
  {
   "cell_type": "code",
   "execution_count": 2,
   "id": "00c8c208-c4cd-43f8-be10-dba3cb50a929",
   "metadata": {},
   "outputs": [
    {
     "name": "stdout",
     "output_type": "stream",
     "text": [
      "c:\\name\n",
      "c:\\name\n"
     ]
    }
   ],
   "source": [
    "s1 = r'c:\\name'\n",
    "s2 = 'c:\\\\name'\n",
    "\n",
    "print(s1)\n",
    "print(s2)"
   ]
  },
  {
   "cell_type": "code",
   "execution_count": 3,
   "id": "e1ab59e2-5e40-4222-9039-f5e8816c8a67",
   "metadata": {},
   "outputs": [
    {
     "name": "stdout",
     "output_type": "stream",
     "text": [
      "\n",
      "안녕하세요.\n",
      "나는 파이썬을 공부하고 있습니다.\n",
      "반갑습니다.\n",
      "\n"
     ]
    }
   ],
   "source": [
    "s3=\"\"\"\n",
    "안녕하세요.\n",
    "나는 파이썬을 공부하고 있습니다.\n",
    "반갑습니다.\n",
    "\"\"\"\n",
    "\n",
    "print(s3)"
   ]
  },
  {
   "cell_type": "code",
   "execution_count": 4,
   "id": "a987e16f-f9e6-4fc9-83da-e54783af4eb5",
   "metadata": {},
   "outputs": [
    {
     "name": "stdout",
     "output_type": "stream",
     "text": [
      "안녕하세요.\n",
      "나는 파이썬을 공부하고 있습니다.\n",
      "반갑습니다.\n",
      "\n"
     ]
    }
   ],
   "source": [
    "s4=\"\"\"\\\n",
    "안녕하세요.\n",
    "나는 파이썬을 공부하고 있습니다.\n",
    "반갑습니다.\n",
    "\"\"\"\n",
    "\n",
    "print(s4)"
   ]
  },
  {
   "cell_type": "code",
   "execution_count": 6,
   "id": "7c9b93fa-bb4f-42c3-a0f4-87001c7b7c47",
   "metadata": {},
   "outputs": [
    {
     "name": "stdout",
     "output_type": "stream",
     "text": [
      "\n",
      "안녕하세요.\n",
      "나는 파이썬을 공부하고 있습니다.\n",
      "반갑습니다.\n"
     ]
    }
   ],
   "source": [
    "s5=\"\"\"\n",
    "안녕하세요.\n",
    "나는 파이썬을 공부하고 있습니다.\n",
    "반갑습니다.\\\n",
    "\"\"\"\n",
    "\n",
    "print(s5)"
   ]
  },
  {
   "cell_type": "code",
   "execution_count": 8,
   "id": "c26f0499-afce-46ed-9593-708a68f2d556",
   "metadata": {},
   "outputs": [
    {
     "name": "stdout",
     "output_type": "stream",
     "text": [
      "\"안녕하세요.\"\n",
      "나는 파이썬을 공부하고 있습니다.\n",
      "반갑습니다.\n"
     ]
    }
   ],
   "source": [
    "s6=\"\"\"\\\n",
    "\\\"안녕하세요.\\\"\n",
    "나는 파이썬을 공부하고 있습니다.\n",
    "반갑습니다.\\\n",
    "\"\"\"\n",
    "\n",
    "print(s6)"
   ]
  },
  {
   "cell_type": "code",
   "execution_count": 9,
   "id": "54519f3b-5a53-48ae-ae3d-b96c62ece07f",
   "metadata": {},
   "outputs": [
    {
     "name": "stdout",
     "output_type": "stream",
     "text": [
      "\"안녕하세요.\"\n",
      "나는 파이썬을 공부하고 있습니다.\n",
      "반갑습니다.\n"
     ]
    }
   ],
   "source": [
    "s6=\"\"\"\\\n",
    "\"안녕하세요.\"\n",
    "나는 파이썬을 공부하고 있습니다.\n",
    "반갑습니다.\\\n",
    "\"\"\"\n",
    "\n",
    "print(s6)"
   ]
  },
  {
   "cell_type": "code",
   "execution_count": 12,
   "id": "c2709d71-7a4f-444c-b5e0-0bd29a7efca3",
   "metadata": {},
   "outputs": [
    {
     "name": "stdout",
     "output_type": "stream",
     "text": [
      "\n",
      "너무 너무 너무 너무 너무 너무 너무 파이썬 공부가 즐겁습니다.\n"
     ]
    }
   ],
   "source": [
    "s7=\"\"\"\n",
    "너무 너무 너무 너무 너무 너무 너무 파이썬 공부가 즐겁습니다.\\\n",
    "\"\"\"\n",
    "print(s7)"
   ]
  },
  {
   "cell_type": "markdown",
   "id": "107e5b82-252b-44a3-9220-24c24021c87a",
   "metadata": {},
   "source": [
    "### - 문자열 리터럴 반복"
   ]
  },
  {
   "cell_type": "code",
   "execution_count": 13,
   "id": "acbe36b6-cbce-4e6d-b707-d96386821bbb",
   "metadata": {},
   "outputs": [
    {
     "name": "stdout",
     "output_type": "stream",
     "text": [
      "너무 너무 너무 너무 너무 너무 너무 너무 너무 너무 너무 너무 너무 너무 너무 너무 너무 너무 너무 너무 너무 너무 너무 너무 너무 너무 너무 너무 너무 너무 너무 너무 너무 너무 너무 너무 너무 너무 너무 너무 너무 너무 너무 너무 너무 너무 너무 너무 너무 너무 너무 너무 너무 너무 너무 너무 너무 너무 너무 너무 너무 너무 너무 너무 너무 너무 너무 너무 너무 너무 너무 너무 너무 너무 너무 너무 너무 너무 너무 너무 너무 너무 너무 너무 너무 너무 너무 너무 너무 너무 너무 너무 너무 너무 너무 너무 너무 너무 너무 너무 파이썬 공부가 즐겁습니다.\n"
     ]
    }
   ],
   "source": [
    "s8 = \"너무 \" * 100 + \"파이썬 공부가 즐겁습니다.\"\n",
    "print(s8)"
   ]
  },
  {
   "cell_type": "markdown",
   "id": "5b2bb9e2-a2f6-4cae-afe6-fd2d6c5c9756",
   "metadata": {},
   "source": [
    "## 6) 문자열 인덱스"
   ]
  },
  {
   "cell_type": "code",
   "execution_count": 14,
   "id": "d488ab1f-75b5-4b8d-815f-ff9a74b80e8e",
   "metadata": {},
   "outputs": [
    {
     "name": "stdout",
     "output_type": "stream",
     "text": [
      "P\n",
      "n\n",
      "n\n",
      "P\n"
     ]
    }
   ],
   "source": [
    "word = 'Python'\n",
    "# 인덱스는 0부터 시작된다.\n",
    "print(word[0])\n",
    "print(word[5])\n",
    "# 음수는 뒤에서부터 셉니다.\n",
    "print(word[-1])\n",
    "print(word[-6])"
   ]
  },
  {
   "cell_type": "markdown",
   "id": "e837546c-f678-4087-a6eb-5caba66fad1e",
   "metadata": {
    "tags": []
   },
   "source": [
    "### - 시퀀스 자료형(순방향) -> 0, 양수로"
   ]
  },
  {
   "cell_type": "code",
   "execution_count": 16,
   "id": "89e32fe6-97e1-4f1a-b405-4a19bf91bf6e",
   "metadata": {},
   "outputs": [
    {
     "name": "stdout",
     "output_type": "stream",
     "text": [
      "t\n",
      "6\n",
      "54\n",
      "10\n"
     ]
    }
   ],
   "source": [
    "word = 'Python'\n",
    "print(word[2]) # str\n",
    "num_list = [80,23,6,75,9,6,4]\n",
    "print(num_list[5])    # list\n",
    "num_tuple = (32,6,8,2,44,589,54)\n",
    "print(num_tuple[6])    # tuple\n",
    "num_range = range(1,15,3)    \n",
    "print(num_range[3])# range"
   ]
  },
  {
   "cell_type": "markdown",
   "id": "35a54d28-4d8e-4653-978b-3e54abb7b256",
   "metadata": {},
   "source": [
    "### - 시퀀스 자료형(역방향) -> 음수로"
   ]
  },
  {
   "cell_type": "code",
   "execution_count": 17,
   "id": "9a9437da-3acf-4b51-ac57-939788b9b2be",
   "metadata": {},
   "outputs": [
    {
     "name": "stdout",
     "output_type": "stream",
     "text": [
      "o\n",
      "6\n",
      "6\n",
      "-6\n"
     ]
    }
   ],
   "source": [
    "word = 'Python'\n",
    "print(word[-2]) # str\n",
    "num_list = [80,23,6,75,9,6,4]\n",
    "print(num_list[-5])    # list\n",
    "num_tuple = (32,6,8,2,44,589,54)\n",
    "print(num_tuple[-6])    # tuple\n",
    "num_range = range(-15,-1,3)    \n",
    "print(num_range[3])# range"
   ]
  },
  {
   "cell_type": "code",
   "execution_count": 21,
   "id": "b0cb82e6-bd94-4776-8578-7e89b426b16e",
   "metadata": {},
   "outputs": [
    {
     "name": "stdout",
     "output_type": "stream",
     "text": [
      "꺾\n",
      "꺾\n"
     ]
    }
   ],
   "source": [
    "# 연습문제\n",
    "sentence = '중요한 것은 꺾이지 않는 마음'\n",
    "print(sentence[7])\n",
    "\n",
    "sentence = '중요한 것은 꺾이지 않는 마음'\n",
    "print(sentence[-9])"
   ]
  },
  {
   "cell_type": "markdown",
   "id": "73fe6dc2-6fb0-48a9-ba97-fe5dff6e8cb4",
   "metadata": {},
   "source": [
    "## 7) 문자열 슬라이싱"
   ]
  },
  {
   "cell_type": "code",
   "execution_count": 24,
   "id": "2981dc47-6100-4a51-a129-ddc6ae2b9bbf",
   "metadata": {},
   "outputs": [
    {
     "name": "stdout",
     "output_type": "stream",
     "text": [
      "Py\n",
      "Py\n",
      "Py\n",
      "on\n",
      "on\n",
      "on\n",
      "yt\n",
      "yt\n"
     ]
    }
   ],
   "source": [
    "word = 'Python'\n",
    "print(word[0:2])\n",
    "print(word[:2])\n",
    "print(word[:-4])\n",
    "print(word[4:6])\n",
    "print(word[4:])\n",
    "print(word[-2:])\n",
    "print(word[1:3])\n",
    "print(word[-5:-3])"
   ]
  },
  {
   "cell_type": "code",
   "execution_count": 23,
   "id": "d85df95f-7cc5-4cdd-a804-36386c327495",
   "metadata": {},
   "outputs": [
    {
     "name": "stdout",
     "output_type": "stream",
     "text": [
      "Pto\n"
     ]
    }
   ],
   "source": [
    "print(word[::2])"
   ]
  },
  {
   "cell_type": "markdown",
   "id": "1c6e4bb4-8ef4-4e91-8691-f9aa2c9bfba0",
   "metadata": {},
   "source": [
    "## 8) 문자열 슬라이싱 표현 범위"
   ]
  },
  {
   "cell_type": "code",
   "execution_count": 25,
   "id": "9b980d42-3a2b-43bc-8a55-09e55c199b1b",
   "metadata": {},
   "outputs": [
    {
     "name": "stdout",
     "output_type": "stream",
     "text": [
      "\n"
     ]
    }
   ],
   "source": [
    "sentence = '중요한 것은 꺾이지 않는 마음'\n",
    "print(sentence[42:])"
   ]
  },
  {
   "cell_type": "code",
   "execution_count": 26,
   "id": "0477aacf-cc0e-4b65-8719-5393fdee5d33",
   "metadata": {},
   "outputs": [
    {
     "name": "stdout",
     "output_type": "stream",
     "text": [
      "한 것은 꺾이지 않는 마음\n"
     ]
    }
   ],
   "source": [
    "print(sentence[2:42])"
   ]
  },
  {
   "cell_type": "code",
   "execution_count": 29,
   "id": "b9a78909-78d5-406f-a943-1f06ccf27009",
   "metadata": {},
   "outputs": [
    {
     "name": "stdout",
     "output_type": "stream",
     "text": [
      "꺾이지 않는 마음\n",
      "꺾이지 않는 마음\n"
     ]
    }
   ],
   "source": [
    "# 연습문제\n",
    "sentence = '중요한 것은 꺾이지 않는 마음'\n",
    "print(sentence[7:])\n",
    "\n",
    "sentence = '중요한 것은 꺾이지 않는 마음'\n",
    "print(sentence[-9:])"
   ]
  },
  {
   "cell_type": "code",
   "execution_count": 44,
   "id": "d4575049-4e98-4787-9dee-6f1e534acc6e",
   "metadata": {},
   "outputs": [
    {
     "name": "stdout",
     "output_type": "stream",
     "text": [
      "한요중\n",
      "한요중\n"
     ]
    }
   ],
   "source": [
    "# 연습문제\n",
    "sentence = '중요한 것은 꺾이지 않는 마음'\n",
    "print(sentence[0:3][::-1])\n",
    "\n",
    "# 풀이\n",
    "sentence = '중요한 것은 꺾이지 않는 마음'\n",
    "print(sentence[2::-1])"
   ]
  },
  {
   "cell_type": "markdown",
   "id": "4b5865a2-0617-48ac-9bbb-64deecb48990",
   "metadata": {
    "tags": []
   },
   "source": [
    "### * 문자열 변경 불가 예제(인덱스)"
   ]
  },
  {
   "cell_type": "code",
   "execution_count": 45,
   "id": "63efa618-0657-4057-8546-599ec27d4ec2",
   "metadata": {},
   "outputs": [
    {
     "ename": "TypeError",
     "evalue": "'str' object does not support item assignment",
     "output_type": "error",
     "traceback": [
      "\u001b[1;31m---------------------------------------------------------------------------\u001b[0m",
      "\u001b[1;31mTypeError\u001b[0m                                 Traceback (most recent call last)",
      "\u001b[1;32m~\\AppData\\Local\\Temp\\ipykernel_4288\\2179910864.py\u001b[0m in \u001b[0;36m<module>\u001b[1;34m\u001b[0m\n\u001b[1;32m----> 1\u001b[1;33m \u001b[0msentence\u001b[0m\u001b[1;33m[\u001b[0m\u001b[1;36m0\u001b[0m\u001b[1;33m]\u001b[0m \u001b[1;33m=\u001b[0m \u001b[1;34m\"한\"\u001b[0m\u001b[1;33m\u001b[0m\u001b[1;33m\u001b[0m\u001b[0m\n\u001b[0m",
      "\u001b[1;31mTypeError\u001b[0m: 'str' object does not support item assignment"
     ]
    }
   ],
   "source": [
    "sentence[0] = \"한\""
   ]
  },
  {
   "cell_type": "markdown",
   "id": "f85c190d-2148-4f9e-b3ae-dde29bd19180",
   "metadata": {},
   "source": [
    "## 9) 문자열 변경"
   ]
  },
  {
   "cell_type": "code",
   "execution_count": 48,
   "id": "842de635-3a43-4626-92b5-c11c33292d85",
   "metadata": {},
   "outputs": [
    {
     "name": "stdout",
     "output_type": "stream",
     "text": [
      "대단한 것은 꺾이지 않는 마음\n"
     ]
    }
   ],
   "source": [
    "sentence = \"대단한\" + sentence[3:]\n",
    "print(sentence)"
   ]
  },
  {
   "cell_type": "markdown",
   "id": "b5d7ed50-42e8-4469-9e2d-8e3c979cda37",
   "metadata": {},
   "source": [
    "### - 시퀀스의 크기"
   ]
  },
  {
   "cell_type": "code",
   "execution_count": 49,
   "id": "1d441ba2-e264-4b14-96bf-dc0d0c75ee98",
   "metadata": {},
   "outputs": [
    {
     "name": "stdout",
     "output_type": "stream",
     "text": [
      "재밌어요재밌어요재밌어요재밌어요재밌어요재밌어요재밌어요재밌어요재밌어요재밌어요\n",
      "40\n"
     ]
    }
   ],
   "source": [
    "s9 = '재밌어요' * 10\n",
    "print(s9)\n",
    "print(len(s9))"
   ]
  },
  {
   "cell_type": "markdown",
   "id": "63c35e37-314c-483f-9f23-3d8fc16e87e5",
   "metadata": {},
   "source": [
    "# 2. 리스트\n",
    "-> 가변의 특성을 갖기에 수정도 용이\n",
    "\n",
    "-> 시퀀스형 자료이기에 인덱싱과 슬라이싱이 가능하다.\n",
    "* 파이썬의 리스트는 다른 언어의 배열과 차이가 있다."
   ]
  },
  {
   "cell_type": "markdown",
   "id": "53515b17-a9ff-4f2d-8b8d-a30ae65b959d",
   "metadata": {},
   "source": [
    "## 1) 리스트 생성"
   ]
  },
  {
   "cell_type": "code",
   "execution_count": 50,
   "id": "0bd04d47-7ec0-43c4-b492-43103e159c4d",
   "metadata": {},
   "outputs": [
    {
     "name": "stdout",
     "output_type": "stream",
     "text": [
      "[1, 4, 9, 16, 25]\n"
     ]
    }
   ],
   "source": [
    "squares = [1**2,2**2,3**2,4**2,5**2]\n",
    "print(squares)"
   ]
  },
  {
   "cell_type": "code",
   "execution_count": 52,
   "id": "9e1a0889-4b55-49d9-84de-9a838ae81936",
   "metadata": {},
   "outputs": [
    {
     "name": "stdout",
     "output_type": "stream",
     "text": [
      "<class 'list'>\n"
     ]
    }
   ],
   "source": [
    "print(type(squares))"
   ]
  },
  {
   "cell_type": "markdown",
   "id": "1f8260fb-b9c3-420f-bbaa-0cad08890364",
   "metadata": {},
   "source": [
    "## 2) 리스트의 인덱싱과 슬라이싱"
   ]
  },
  {
   "cell_type": "code",
   "execution_count": 54,
   "id": "3c6fb71e-9053-4816-bfed-b861ec2bb435",
   "metadata": {},
   "outputs": [
    {
     "name": "stdout",
     "output_type": "stream",
     "text": [
      "1\n",
      "25\n"
     ]
    }
   ],
   "source": [
    "# 인덱싱을 통해 해당하는 항목(item)을 반환(return) 받습니다.\n",
    "print(squares[0])\n",
    "print(squares[-1])"
   ]
  },
  {
   "cell_type": "code",
   "execution_count": 57,
   "id": "355aa9f5-47c4-4469-ac73-014e93ef99b4",
   "metadata": {},
   "outputs": [
    {
     "name": "stdout",
     "output_type": "stream",
     "text": [
      "[9, 16, 25]\n",
      "[9, 16, 25]\n"
     ]
    }
   ],
   "source": [
    "# 슬라이싱을 통해 해당하는 항목(item)을 반환(return) 받습니다.\n",
    "print(squares[-3:])\n",
    "print(squares[-3::])"
   ]
  },
  {
   "cell_type": "markdown",
   "id": "0e62bb0f-76ea-4990-99cd-a56ebe6735bb",
   "metadata": {},
   "source": [
    "## 3) 리스트의 더하기와 곱하기 "
   ]
  },
  {
   "cell_type": "code",
   "execution_count": 58,
   "id": "65292a48-fdb3-4a5f-b976-8282b49b5142",
   "metadata": {},
   "outputs": [
    {
     "name": "stdout",
     "output_type": "stream",
     "text": [
      "[1, 4, 9, 16, 25, 36, 49, 64, 81, 100]\n"
     ]
    }
   ],
   "source": [
    "# +를 통해 이어붙일 수 있습니다.\n",
    "print(squares + [36,49,64,81,100])"
   ]
  },
  {
   "cell_type": "code",
   "execution_count": 59,
   "id": "7b2ed0ed-59cc-47a6-8a7c-c4a629967386",
   "metadata": {},
   "outputs": [
    {
     "name": "stdout",
     "output_type": "stream",
     "text": [
      "['a', 'b', 'c', 'd', 'e', 'a', 'b', 'c', 'd', 'e', 'a', 'b', 'c', 'd', 'e']\n"
     ]
    }
   ],
   "source": [
    "# 리스트는 곱하기를 통해 요소를 반복할 수 있습니다.\n",
    "letters = ['a', 'b', 'c', 'd', 'e']\n",
    "print(letters * 3)"
   ]
  },
  {
   "cell_type": "markdown",
   "id": "17560a90-9ab3-4d57-9847-fad19d298d0f",
   "metadata": {},
   "source": [
    "## 4) 리스트의 값 변경하기"
   ]
  },
  {
   "cell_type": "code",
   "execution_count": 60,
   "id": "4fdf8749-c982-4588-ac63-8edef8f98a54",
   "metadata": {},
   "outputs": [
    {
     "name": "stdout",
     "output_type": "stream",
     "text": [
      "[1, 8, 27, 64, 125]\n"
     ]
    }
   ],
   "source": [
    "# 리스트는 가변(mutable)입니다. 즉 내용을 변경할 수 있습니다.\n",
    "cubes = [1,8,27,65,125]\n",
    "cubes[3] = 4**3\n",
    "print(cubes)"
   ]
  },
  {
   "cell_type": "code",
   "execution_count": 61,
   "id": "dd1abd9d-15ba-41d0-bc3a-afc442a1a1e0",
   "metadata": {},
   "outputs": [
    {
     "name": "stdout",
     "output_type": "stream",
     "text": [
      "['a', 'b', 'C', 'D', 'E']\n"
     ]
    }
   ],
   "source": [
    "letters[2:5] = [\"C\",\"D\",\"E\"]\n",
    "print(letters)"
   ]
  },
  {
   "cell_type": "markdown",
   "id": "e8831971-ded4-4caa-b1eb-90670eca9854",
   "metadata": {},
   "source": [
    "## 5) 리스트의 크기 계산하기"
   ]
  },
  {
   "cell_type": "code",
   "execution_count": 62,
   "id": "6f475470-c875-4fd0-82a7-0cfe88697745",
   "metadata": {},
   "outputs": [
    {
     "name": "stdout",
     "output_type": "stream",
     "text": [
      "5\n"
     ]
    }
   ],
   "source": [
    "letters = ['a','b','c','d','e']\n",
    "print(len(letters))"
   ]
  },
  {
   "cell_type": "markdown",
   "id": "eedfc2f5-1e53-4c5b-ba1a-6bbf5c2c3966",
   "metadata": {},
   "source": [
    "## 6) 리스트 안에 리스트"
   ]
  },
  {
   "cell_type": "code",
   "execution_count": 63,
   "id": "05ae2e03-15b9-4279-ba61-92f5462d2f80",
   "metadata": {},
   "outputs": [],
   "source": [
    "a = ['a','b','c']\n",
    "b = [1,2,3]\n",
    "x = [a,b]"
   ]
  },
  {
   "cell_type": "code",
   "execution_count": 64,
   "id": "87759c77-e17f-4070-9075-b5d7a9896b40",
   "metadata": {},
   "outputs": [
    {
     "name": "stdout",
     "output_type": "stream",
     "text": [
      "[['a', 'b', 'c'], [1, 2, 3]]\n"
     ]
    }
   ],
   "source": [
    "print(x)"
   ]
  },
  {
   "cell_type": "code",
   "execution_count": 65,
   "id": "3c7184e3-8974-4d1f-b796-7a7315425c57",
   "metadata": {},
   "outputs": [
    {
     "name": "stdout",
     "output_type": "stream",
     "text": [
      "['a', 'b', 'c']\n"
     ]
    }
   ],
   "source": [
    "print(x[0])"
   ]
  },
  {
   "cell_type": "code",
   "execution_count": 66,
   "id": "c0068c21-f893-474d-828e-db369ab24a12",
   "metadata": {},
   "outputs": [
    {
     "name": "stdout",
     "output_type": "stream",
     "text": [
      "b\n"
     ]
    }
   ],
   "source": [
    "print(x[0][1])"
   ]
  },
  {
   "cell_type": "markdown",
   "id": "e95947b1-9ce4-40e6-baf4-0aa960e00439",
   "metadata": {},
   "source": [
    "## 7) 리스트 내 특정 요소 조회\n",
    "-> in"
   ]
  },
  {
   "cell_type": "code",
   "execution_count": 67,
   "id": "b0a9463e-db31-4997-855c-db424798c901",
   "metadata": {},
   "outputs": [
    {
     "name": "stdout",
     "output_type": "stream",
     "text": [
      "True\n",
      "False\n"
     ]
    }
   ],
   "source": [
    "numbers = [1,2,3,4,5,6,7]\n",
    "print(5 in numbers)\n",
    "print(10 in numbers)"
   ]
  },
  {
   "cell_type": "code",
   "execution_count": 73,
   "id": "8f0add20-22ca-4dbd-9f59-f8b49aa9b52c",
   "metadata": {},
   "outputs": [
    {
     "name": "stdout",
     "output_type": "stream",
     "text": [
      "False\n",
      "False\n"
     ]
    }
   ],
   "source": [
    "# 연습문제\n",
    "scores = [88,73,89,59,77]\n",
    "print(scores[0] < 60 | scores[1] < 60 | scores[2] < 60 | scores[3] < 60 | scores[4] < 60)\n",
    "\n",
    "# 풀이\n",
    "scores = [88,73,89,59,77]\n",
    "print(scores[0] >= 60 & scores[1] >= 60 & scores[2] >= 60 & scores[3] >= 60 & scores[4] >= 60)"
   ]
  },
  {
   "cell_type": "code",
   "execution_count": null,
   "id": "ee052eb1-9fdc-4b83-b40a-58de8ea37f8c",
   "metadata": {},
   "outputs": [],
   "source": [
    "# ![image.png](attachment:8bc7d3b6-7fe2-4e7e-ad58-9fd55bbf61aa.png)"
   ]
  },
  {
   "cell_type": "markdown",
   "id": "fefd3ddd-d480-4026-a1c8-90a6414091c2",
   "metadata": {},
   "source": [
    "## 8) 리스트 맨 뒤에 요소 추가하기\n",
    "-> append"
   ]
  },
  {
   "cell_type": "code",
   "execution_count": 76,
   "id": "78cd64eb-0cab-4b1f-b544-e2d88f0fb5f1",
   "metadata": {},
   "outputs": [
    {
     "name": "stdout",
     "output_type": "stream",
     "text": [
      "[1, 2, 3, 4, 5, 6, 7, 8]\n"
     ]
    }
   ],
   "source": [
    "numbers=[1,2,3,4,5,6,7]\n",
    "numbers.append(8)\n",
    "print(numbers)"
   ]
  },
  {
   "cell_type": "markdown",
   "id": "247cf5e4-4f89-4868-b986-1e13d37bd115",
   "metadata": {},
   "source": [
    "## 9) 리스트에 원하는 인덱스의 요소 삽입\n",
    "-> insert(인덱스,요소)"
   ]
  },
  {
   "cell_type": "code",
   "execution_count": 77,
   "id": "d06fba61-6989-4c63-a560-76c0b5c46a0b",
   "metadata": {},
   "outputs": [
    {
     "name": "stdout",
     "output_type": "stream",
     "text": [
      "[0, 1, 2, 3, 0, 4, 0, 5, 6, 7, 8, 0]\n"
     ]
    }
   ],
   "source": [
    "numbers.insert(0,0)\n",
    "numbers.insert(4,0)\n",
    "numbers.insert(6,0)\n",
    "numbers.insert(len(numbers), 0)\n",
    "print(numbers)"
   ]
  },
  {
   "cell_type": "markdown",
   "id": "c50018f4-5604-4f3d-ad55-7def617323c1",
   "metadata": {},
   "source": [
    "## 10) 리스트에 원하는 인덱스의 요소 추가\n",
    "-> extend"
   ]
  },
  {
   "cell_type": "code",
   "execution_count": 79,
   "id": "d932bdfe-4d16-4878-877d-9cb4e40fa169",
   "metadata": {},
   "outputs": [
    {
     "name": "stdout",
     "output_type": "stream",
     "text": [
      "[0, 1, 2, 3, 0, 4, 0, 5, 6, 7, 8, 0, 9, 10, 11, 9, 10, 11]\n"
     ]
    }
   ],
   "source": [
    "numbers.extend([9,10,11])\n",
    "print(numbers)"
   ]
  },
  {
   "cell_type": "markdown",
   "id": "fcb26009-b5b3-4d67-8504-08e6b04671e0",
   "metadata": {},
   "source": [
    "## 11) 리스트에 원하는 인덱스의 요소 삭제\n",
    "-> remove\n",
    "* 값이 여럿일 경우 제일 먼저 발견된 요소 삭제"
   ]
  },
  {
   "cell_type": "code",
   "execution_count": 80,
   "id": "7a507048-81d6-4a38-89a3-715fad8c2520",
   "metadata": {},
   "outputs": [
    {
     "name": "stdout",
     "output_type": "stream",
     "text": [
      "[1, 2, 3, 0, 4, 0, 5, 6, 7, 8, 0, 9, 10, 11, 9, 10, 11]\n"
     ]
    }
   ],
   "source": [
    "numbers.remove(0)\n",
    "print(numbers)"
   ]
  },
  {
   "cell_type": "markdown",
   "id": "dee8a208-8bcc-4314-81fb-6ef346f9202b",
   "metadata": {},
   "source": [
    "## 12) 리스트의 맨 마지막 요소를 반환 및 제거\n",
    "-> pop"
   ]
  },
  {
   "cell_type": "code",
   "execution_count": 81,
   "id": "bc52506a-979b-4547-897c-4ae6589cca7a",
   "metadata": {},
   "outputs": [
    {
     "name": "stdout",
     "output_type": "stream",
     "text": [
      "11\n"
     ]
    }
   ],
   "source": [
    "print(numbers.pop())"
   ]
  },
  {
   "cell_type": "code",
   "execution_count": 82,
   "id": "0a77451e-c48e-4d94-b38f-50f03804840c",
   "metadata": {},
   "outputs": [
    {
     "name": "stdout",
     "output_type": "stream",
     "text": [
      "[1, 2, 3, 0, 4, 0, 5, 6, 7, 8, 0, 9, 10, 11, 9, 10]\n"
     ]
    }
   ],
   "source": [
    "print(numbers)"
   ]
  },
  {
   "cell_type": "markdown",
   "id": "3c4a3b7a-b3de-4d86-9c0d-eb225eb3713c",
   "metadata": {},
   "source": [
    "## 13) 리스트에서 인덱스 조회\n",
    "-> index\n",
    "* 해당 리스트 내에서 첫번째 발견한 요소 반환"
   ]
  },
  {
   "cell_type": "code",
   "execution_count": 83,
   "id": "fde93913-65f6-461f-a3d6-9f7467cd4148",
   "metadata": {},
   "outputs": [
    {
     "name": "stdout",
     "output_type": "stream",
     "text": [
      "3\n"
     ]
    }
   ],
   "source": [
    "print(numbers.index(0))"
   ]
  },
  {
   "cell_type": "markdown",
   "id": "94b2f30e-4ff7-49a8-9c25-bf510f494b16",
   "metadata": {},
   "source": [
    "## 14) 리스트에서 해당 값의 총 개수 조회\n",
    "-> count"
   ]
  },
  {
   "cell_type": "code",
   "execution_count": 84,
   "id": "ae7a4d95-5a2d-4a4e-862f-e9cf74d8b5b9",
   "metadata": {},
   "outputs": [
    {
     "name": "stdout",
     "output_type": "stream",
     "text": [
      "3\n"
     ]
    }
   ],
   "source": [
    "print(numbers.count(0))"
   ]
  },
  {
   "cell_type": "markdown",
   "id": "be5a41a4-fc44-4976-8383-c7b0133a8ac1",
   "metadata": {},
   "source": [
    "## 15) 리스트 요소 정렬\n",
    "-> sort\n",
    "* 기본: 오름차순"
   ]
  },
  {
   "cell_type": "code",
   "execution_count": 86,
   "id": "6f42ba2d-6953-42bb-87a2-616db5e0236d",
   "metadata": {},
   "outputs": [
    {
     "name": "stdout",
     "output_type": "stream",
     "text": [
      "[0, 0, 0, 1, 2, 3, 4, 5, 6, 7, 8, 9, 9, 10, 10, 11]\n"
     ]
    }
   ],
   "source": [
    "numbers.sort()\n",
    "print(numbers)"
   ]
  },
  {
   "cell_type": "markdown",
   "id": "cfc54b02-8114-4d09-8b2c-85a1ea8629cc",
   "metadata": {},
   "source": [
    "## 16) 리스트 요소 재정렬\n",
    "-> reverse"
   ]
  },
  {
   "cell_type": "code",
   "execution_count": 90,
   "id": "aad91a48-8931-4eb7-920b-dc073d365c65",
   "metadata": {},
   "outputs": [
    {
     "name": "stdout",
     "output_type": "stream",
     "text": [
      "[8, 4, 2, 1, 2, 7]\n"
     ]
    }
   ],
   "source": [
    "reverse_test = [7,2,1,2,4,8]\n",
    "reverse_test.reverse()\n",
    "print(reverse_test)"
   ]
  },
  {
   "cell_type": "markdown",
   "id": "c49c4352-be02-4d68-b1f3-95fba001c4e4",
   "metadata": {},
   "source": [
    "## 17) 리스트를 stack처럼 활용하기"
   ]
  },
  {
   "cell_type": "code",
   "execution_count": 91,
   "id": "898c4d06-1b86-44c3-9dd7-fe17600808be",
   "metadata": {},
   "outputs": [
    {
     "name": "stdout",
     "output_type": "stream",
     "text": [
      "[3, 4, 5, 6, 7]\n",
      "7\n",
      "[3, 4, 5, 6]\n",
      "6\n",
      "5\n",
      "[3, 4]\n"
     ]
    }
   ],
   "source": [
    "stack = [3,4,5]\n",
    "stack.append(6)\n",
    "stack.append(7)\n",
    "print(stack)\n",
    "\n",
    "print(stack.pop())\n",
    "\n",
    "print(stack)\n",
    "\n",
    "print(stack.pop())\n",
    "\n",
    "print(stack.pop())\n",
    "\n",
    "print(stack)"
   ]
  },
  {
   "cell_type": "code",
   "execution_count": null,
   "id": "a5f22c99-5be9-4fcd-8f9e-b5ecbb0bac64",
   "metadata": {},
   "outputs": [],
   "source": [
    "# ![image.png](attachment:911f4a8e-577d-4624-bbec-04a569b5849b.png)"
   ]
  },
  {
   "cell_type": "code",
   "execution_count": null,
   "id": "2d5e9e14-2610-4180-bb06-0eb5d09de4bb",
   "metadata": {},
   "outputs": [],
   "source": [
    "# ![image.png](attachment:6212af00-8e5a-4866-958c-21f2f236987c.png)"
   ]
  },
  {
   "cell_type": "markdown",
   "id": "ac573dd0-0151-490e-ba3f-b2689392bdc8",
   "metadata": {},
   "source": [
    "## 18) 리스트의 모든 요소 제거\n",
    "-> clear"
   ]
  },
  {
   "cell_type": "code",
   "execution_count": 92,
   "id": "76afd370-d97b-4128-80e5-9b0c01275a82",
   "metadata": {},
   "outputs": [
    {
     "name": "stdout",
     "output_type": "stream",
     "text": [
      "[]\n"
     ]
    }
   ],
   "source": [
    "numbers.clear()\n",
    "print(numbers)"
   ]
  },
  {
   "cell_type": "code",
   "execution_count": null,
   "id": "a8f8faa0-ff80-43d9-85ae-62ad595e1557",
   "metadata": {},
   "outputs": [],
   "source": []
  }
 ],
 "metadata": {
  "kernelspec": {
   "display_name": "Python 3 (ipykernel)",
   "language": "python",
   "name": "python3"
  },
  "language_info": {
   "codemirror_mode": {
    "name": "ipython",
    "version": 3
   },
   "file_extension": ".py",
   "mimetype": "text/x-python",
   "name": "python",
   "nbconvert_exporter": "python",
   "pygments_lexer": "ipython3",
   "version": "3.9.13"
  }
 },
 "nbformat": 4,
 "nbformat_minor": 5
}
