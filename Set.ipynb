{
 "cells": [
  {
   "cell_type": "markdown",
   "id": "fee95bec-cde6-41ef-a421-5604d125cfbe",
   "metadata": {},
   "source": [
    "# 1. 세트 자료형(Set)\n",
    "    => 중복을 제거하는게 효율적이라는 생각\n",
    "\n",
    "-> 수학에 나오는 집합을 영어로 set. 합집합,교집합,차집합과 같은 처리 가능.<br>\n",
    "-> 딕셔너리(dictionary)처럼 중괄호를 사용<br>\n",
    "-> 인덱스를 갖지 않는다.<br>"
   ]
  },
  {
   "cell_type": "code",
   "execution_count": 1,
   "id": "13266aa4-bd2e-43f2-ae19-3cb33ed1fef7",
   "metadata": {},
   "outputs": [
    {
     "name": "stdout",
     "output_type": "stream",
     "text": [
      "<class 'dict'>\n"
     ]
    }
   ],
   "source": [
    "print(type({}))"
   ]
  },
  {
   "cell_type": "markdown",
   "id": "5ed1b77e-9aca-43eb-a48b-10c33d0d2770",
   "metadata": {},
   "source": [
    "## 1) 세트 자료형 컴프리헨션\n",
    "set_variable = <u>{</u>expression for 변수 in iterable if 조건식<u>}</u>"
   ]
  },
  {
   "cell_type": "markdown",
   "id": "4f4af8f6-2fc3-42da-a0c6-5e853aa3d34a",
   "metadata": {},
   "source": [
    "## 2) 세트 자료형 - 세트에 값 넣는 방법\n",
    "\n",
    "- add(): 세트 자료형에 값을 추가\n",
    "\n",
    "세트 자료형.add(요소)"
   ]
  },
  {
   "cell_type": "code",
   "execution_count": 2,
   "id": "f8b31fae-f2f1-4338-9d23-926eb7af7c95",
   "metadata": {},
   "outputs": [
    {
     "name": "stdout",
     "output_type": "stream",
     "text": [
      "set() <class 'set'>\n"
     ]
    }
   ],
   "source": [
    "set_variable = set()\n",
    "print(set_variable, type(set_variable))"
   ]
  },
  {
   "cell_type": "code",
   "execution_count": 3,
   "id": "d169a59f-58bb-4150-827d-e67330932671",
   "metadata": {},
   "outputs": [
    {
     "name": "stdout",
     "output_type": "stream",
     "text": [
      "{1}\n"
     ]
    }
   ],
   "source": [
    "# 정수 1 값을 set_variable에 5차례 넣는다\n",
    "[set_variable.add(1) for _ in range(5)]\n",
    "\n",
    "# 출력하면 중복된 값 없이 요소를 갖음\n",
    "print(set_variable)"
   ]
  },
  {
   "cell_type": "markdown",
   "id": "d09d0301-528c-476d-b634-e2c69927b48e",
   "metadata": {},
   "source": [
    "## 3) 세트 자료형 - 요소 삭제하기 \n",
    "\n",
    "* remove()\n",
    "\n",
    "세트 자료형.remove(요소)"
   ]
  },
  {
   "cell_type": "code",
   "execution_count": null,
   "id": "f071804e-bb9c-4206-aa87-cbffdbdedefc",
   "metadata": {},
   "outputs": [],
   "source": [
    "print(set_variable)\n",
    "set_variable.remove(9)\n",
    "print(set_variable)"
   ]
  },
  {
   "cell_type": "markdown",
   "id": "a38f0ec2-5818-4264-8883-dc3e784a1c72",
   "metadata": {},
   "source": [
    "* discard()\n",
    "세트 자료형.discard(요소)"
   ]
  },
  {
   "cell_type": "code",
   "execution_count": null,
   "id": "703b6d6d-ab7a-4408-b66e-29a4b9b3f070",
   "metadata": {},
   "outputs": [],
   "source": [
    "print(set_variable)\n",
    "set_variable.discard(8)\n",
    "print(set_variable)\n",
    "set_variable.discard('없는 값')"
   ]
  },
  {
   "cell_type": "markdown",
   "id": "c4eb1fbe-f71b-43b2-84be-90d4adb87b3b",
   "metadata": {},
   "source": [
    "## 4) 세트 자료형 - 요소 임의 삭제하기\n",
    "\n",
    "* pop(): 삭제하려는 요소를 임의로 선택하고 반환한 뒤 삭제\n",
    "(단, 세트 자료형 내에서 더 이상 삭제할 요소가 없다면 KeyError 발생)"
   ]
  },
  {
   "cell_type": "code",
   "execution_count": null,
   "id": "c15981d7-4b19-4713-841e-49dcb089c64b",
   "metadata": {},
   "outputs": [],
   "source": [
    "set_variable = {_ for _ in range(20) if _ % 3 == 0}\n",
    "print(set_variable)"
   ]
  },
  {
   "cell_type": "markdown",
   "id": "0d59f9c4-98fa-4ec5-8159-98e5609b1b9e",
   "metadata": {},
   "source": [
    "## 5) 세트 자료형 - 요소 전체 삭제하기\n",
    "\n",
    "* clear()"
   ]
  },
  {
   "cell_type": "code",
   "execution_count": 1,
   "id": "21b391a4-e9dd-4cbb-8080-97fd65309df7",
   "metadata": {},
   "outputs": [
    {
     "name": "stdout",
     "output_type": "stream",
     "text": [
      "{0, 3, 6, 9, 12, 15, 18}\n",
      "set()\n"
     ]
    }
   ],
   "source": [
    "set_variable = {_ for _ in range(20) if _ % 3 == 0}\n",
    "print(set_variable)\n",
    "set_variable.clear()\n",
    "print(set_variable)"
   ]
  },
  {
   "cell_type": "markdown",
   "id": "c32f059f-573f-4fab-8ada-b9af06eb8f14",
   "metadata": {},
   "source": [
    "## 6) 세트 자료형 - 요소 개수(크기) 구하기\n",
    "\n",
    "* len()"
   ]
  },
  {
   "cell_type": "code",
   "execution_count": 2,
   "id": "5a71bb3c-69ff-487a-8886-b5b1e188150a",
   "metadata": {},
   "outputs": [
    {
     "name": "stdout",
     "output_type": "stream",
     "text": [
      "{0, 3, 6, 9, 12, 15, 18} 개수는 7 입니다.\n"
     ]
    }
   ],
   "source": [
    "set_variable = {_ for _ in range(20) if _ % 3 == 0}\n",
    "print(set_variable, '개수는', len(set_variable), '입니다.')"
   ]
  },
  {
   "cell_type": "markdown",
   "id": "46a6e400-eb4b-48fb-b8f7-08eb48e45432",
   "metadata": {},
   "source": [
    "## 7) 세트 자료형 - 합집합: union() 혹은 Vertical bar(|)"
   ]
  },
  {
   "cell_type": "code",
   "execution_count": 6,
   "id": "d0ba0ccd-22be-4a79-ae28-d9e04da8a810",
   "metadata": {},
   "outputs": [
    {
     "name": "stdout",
     "output_type": "stream",
     "text": [
      "A: {1, 2, 3, 4} \n",
      "B: {2, 4, 5}\n",
      "set.union(A,B): {1, 2, 3, 4, 5}\n",
      "A | B: {1, 2, 3, 4, 5}\n"
     ]
    }
   ],
   "source": [
    "A = {_ for _ in range(1,5)}\n",
    "B = {_ for _ in range(2,6) if _ != 3}\n",
    "print(\"A:\", A, \"\\nB:\", B)\n",
    "print(\"set.union(A,B):\", set.union(A, B))\n",
    "print(\"A | B:\", A | B)"
   ]
  },
  {
   "cell_type": "markdown",
   "id": "84fa8f0a-9cce-4ee3-800a-e774d81903ea",
   "metadata": {},
   "source": [
    "## 8) 세트 자료형 -교집합: intersection() 혹은 &"
   ]
  },
  {
   "cell_type": "code",
   "execution_count": 7,
   "id": "aa642497-4fa9-47bd-bb00-c1a031956bcd",
   "metadata": {},
   "outputs": [
    {
     "name": "stdout",
     "output_type": "stream",
     "text": [
      "A: {1, 2, 3, 4} \n",
      "B: {2, 4, 5}\n",
      "set.intersection(A,B): {2, 4}\n",
      "A & B: {2, 4}\n"
     ]
    }
   ],
   "source": [
    "A = {_ for _ in range(1,5)}\n",
    "B = {_ for _ in range(2,6) if _ != 3}\n",
    "print(\"A:\", A, \"\\nB:\", B)\n",
    "print(\"set.intersection(A,B):\", set.intersection(A, B))\n",
    "print(\"A & B:\", A & B)"
   ]
  },
  {
   "cell_type": "markdown",
   "id": "c098b707-2305-4e95-a6a7-e19dcb7e2302",
   "metadata": {},
   "source": [
    "## 9) 세트 자료형 -차집합: difference() 혹은 -"
   ]
  },
  {
   "cell_type": "code",
   "execution_count": 8,
   "id": "083a10eb-6645-4892-9fe7-9db898049299",
   "metadata": {},
   "outputs": [
    {
     "name": "stdout",
     "output_type": "stream",
     "text": [
      "A: {1, 2, 3, 4} \n",
      "B: {2, 4, 5}\n",
      "set.difference(A,B): {1, 3}\n",
      "A - B: {1, 3}\n"
     ]
    }
   ],
   "source": [
    "A = {_ for _ in range(1,5)}\n",
    "B = {_ for _ in range(2,6) if _ != 3}\n",
    "print(\"A:\", A, \"\\nB:\", B)\n",
    "print(\"set.difference(A,B):\", set.difference(A, B))\n",
    "print(\"A - B:\", A - B)"
   ]
  },
  {
   "cell_type": "markdown",
   "id": "7b030f78-1ea1-4de3-a76b-0c0de189367a",
   "metadata": {
    "tags": []
   },
   "source": [
    "## 10) 세트 자료형 -대칭차집합: symmetric_difference() 혹은 ^"
   ]
  },
  {
   "cell_type": "code",
   "execution_count": 9,
   "id": "5de598c0-2edd-409b-9b51-b5279688d85a",
   "metadata": {},
   "outputs": [
    {
     "name": "stdout",
     "output_type": "stream",
     "text": [
      "A: {1, 2, 3, 4} \n",
      "B: {2, 4, 5}\n",
      "set.symmetric_difference(A,B): {1, 3, 5}\n",
      "A ^ B: {1, 3, 5}\n"
     ]
    }
   ],
   "source": [
    "A = {_ for _ in range(1,5)}\n",
    "B = {_ for _ in range(2,6) if _ != 3}\n",
    "print(\"A:\", A, \"\\nB:\", B)\n",
    "print(\"set.symmetric_difference(A,B):\", set.symmetric_difference(A, B))\n",
    "print(\"A ^ B:\", A ^ B)"
   ]
  },
  {
   "cell_type": "markdown",
   "id": "b0290079-94c6-499b-b426-3672a0eb796f",
   "metadata": {
    "tags": []
   },
   "source": [
    "## 11) 세트 자료형 - update() 혹은 |="
   ]
  },
  {
   "cell_type": "code",
   "execution_count": 10,
   "id": "2b5cdb77-5dbc-4f8b-9a67-54b12a7c6fa2",
   "metadata": {},
   "outputs": [
    {
     "name": "stdout",
     "output_type": "stream",
     "text": [
      "A: {1, 2, 3, 4} \n",
      "B: {2, 4, 5}\n",
      "A.update(B): {1, 2, 3, 4, 5}\n"
     ]
    }
   ],
   "source": [
    "A = {_ for _ in range(1,5)}\n",
    "B = {_ for _ in range(2,6) if _ != 3}\n",
    "print(\"A:\", A, \"\\nB:\", B)\n",
    "A.update(B) # A |= B 와 같습니다.\n",
    "print(\"A.update(B):\", A)"
   ]
  },
  {
   "cell_type": "markdown",
   "id": "564ccb32-918c-4294-a060-4e3294cff8de",
   "metadata": {
    "tags": []
   },
   "source": [
    "## 12) 세트 자료형 - intersection_update() 혹은 &="
   ]
  },
  {
   "cell_type": "code",
   "execution_count": 12,
   "id": "a04c7019-b068-412f-adc1-0b39d5fd930d",
   "metadata": {},
   "outputs": [
    {
     "name": "stdout",
     "output_type": "stream",
     "text": [
      "A: {1, 2, 3, 4} \n",
      "B: {2, 4, 5}\n",
      "A.intersection_update(B): {2, 4}\n"
     ]
    }
   ],
   "source": [
    "A = {_ for _ in range(1,5)}\n",
    "B = {_ for _ in range(2,6) if _ != 3}\n",
    "print(\"A:\", A, \"\\nB:\", B)\n",
    "A.intersection_update(B) # A &= B 와 같습니다.\n",
    "print(\"A.intersection_update(B):\", A)"
   ]
  },
  {
   "cell_type": "markdown",
   "id": "8b888ee2-8793-4498-a30d-611f67a3d40a",
   "metadata": {
    "tags": []
   },
   "source": [
    "## 13) 세트 자료형 - difference_update() 혹은 -="
   ]
  },
  {
   "cell_type": "code",
   "execution_count": 13,
   "id": "8a19dd8c-8a88-4c29-9efc-abf63112f3e6",
   "metadata": {},
   "outputs": [
    {
     "name": "stdout",
     "output_type": "stream",
     "text": [
      "A: {1, 2, 3, 4} \n",
      "B: {2, 4, 5}\n",
      "A.difference_update(B): {1, 3}\n"
     ]
    }
   ],
   "source": [
    "A = {_ for _ in range(1,5)}\n",
    "B = {_ for _ in range(2,6) if _ != 3}\n",
    "print(\"A:\", A, \"\\nB:\", B)\n",
    "A.difference_update(B) # A -= B 와 같습니다.\n",
    "print(\"A.difference_update(B):\", A)"
   ]
  },
  {
   "cell_type": "markdown",
   "id": "7e997dca-a470-4acf-a6d8-82c1dd95e8d1",
   "metadata": {
    "tags": []
   },
   "source": [
    "## 14) 세트 자료형 - symmetric_difference_update() 혹은 ^="
   ]
  },
  {
   "cell_type": "code",
   "execution_count": 15,
   "id": "df3aad2b-9812-43e1-b003-92ed7ac120fa",
   "metadata": {},
   "outputs": [
    {
     "name": "stdout",
     "output_type": "stream",
     "text": [
      "A: {1, 2, 3, 4} \n",
      "B: {2, 4, 5}\n",
      "A.symmetric_difference_update(B): {1, 3, 5}\n"
     ]
    }
   ],
   "source": [
    "A = {_ for _ in range(1,5)}\n",
    "B = {_ for _ in range(2,6) if _ != 3}\n",
    "print(\"A:\", A, \"\\nB:\", B)\n",
    "A.symmetric_difference_update(B) # A ^= B 와 같습니다.\n",
    "print(\"A.symmetric_difference_update(B):\", A)"
   ]
  },
  {
   "cell_type": "markdown",
   "id": "898456c9-1e97-4355-b6ba-c911af1cd6b5",
   "metadata": {
    "tags": []
   },
   "source": [
    "## 15) 세트 자료형 - 부분집합 issubset()"
   ]
  },
  {
   "cell_type": "code",
   "execution_count": 17,
   "id": "e4c46671-1c61-4100-8bd2-c9d375966fed",
   "metadata": {},
   "outputs": [
    {
     "name": "stdout",
     "output_type": "stream",
     "text": [
      "A: {0, 1, 2} \n",
      "B: {0, 1, 2}\n",
      "A.issubset(B): True\n"
     ]
    }
   ],
   "source": [
    "A = {_ for _ in range(0,3)}\n",
    "B = {_ for _ in range(0,3)}\n",
    "print(\"A:\", A, \"\\nB:\", B)\n",
    "print(\"A.issubset(B):\", A.issubset(B))"
   ]
  },
  {
   "cell_type": "code",
   "execution_count": 18,
   "id": "547820ea-eb11-46d3-89af-8b26fcdbaeee",
   "metadata": {},
   "outputs": [
    {
     "name": "stdout",
     "output_type": "stream",
     "text": [
      "A: {0, 1, 2} \n",
      "B: {0, 1}\n",
      "B.issubset(B): True\n"
     ]
    }
   ],
   "source": [
    "A = {_ for _ in range(0,3)}\n",
    "B = {_ for _ in range(0,2)}\n",
    "print(\"A:\", A, \"\\nB:\", B)\n",
    "print(\"B.issubset(B):\", B.issubset(A))"
   ]
  },
  {
   "cell_type": "markdown",
   "id": "350fb594-c7f1-44df-a311-9451ed233b11",
   "metadata": {
    "tags": []
   },
   "source": [
    "## 16) 세트 자료형 - 상위집합 issuperset()"
   ]
  },
  {
   "cell_type": "code",
   "execution_count": 19,
   "id": "077c519b-39d2-45d2-95b1-63d3f5e7bc7d",
   "metadata": {},
   "outputs": [
    {
     "name": "stdout",
     "output_type": "stream",
     "text": [
      "A: {0, 1, 2} \n",
      "B: {0, 1, 2}\n",
      "A.issuperset(B): True\n"
     ]
    }
   ],
   "source": [
    "A = {_ for _ in range(0,3)}\n",
    "B = {_ for _ in range(0,3)}\n",
    "print(\"A:\", A, \"\\nB:\", B)\n",
    "print(\"A.issuperset(B):\", A.issuperset(B))"
   ]
  },
  {
   "cell_type": "code",
   "execution_count": 20,
   "id": "e82f1ef0-0f7f-4118-a092-ad704c6d9740",
   "metadata": {},
   "outputs": [
    {
     "name": "stdout",
     "output_type": "stream",
     "text": [
      "A: {0, 1, 2} \n",
      "B: {0, 1}\n",
      "A.issuperset(B): True\n"
     ]
    }
   ],
   "source": [
    "A = {_ for _ in range(0,3)}\n",
    "B = {_ for _ in range(0,2)}\n",
    "print(\"A:\", A, \"\\nB:\", B)\n",
    "print(\"A.issuperset(B):\", A.issuperset(B))"
   ]
  },
  {
   "cell_type": "markdown",
   "id": "4838cf8c-c15b-4c17-a5a3-9cd2707db822",
   "metadata": {
    "tags": []
   },
   "source": [
    "## 17) 세트 자료형 - 진부분집합과 진상위집합 >, < \n",
    "   => 포함관계 확인 목적"
   ]
  },
  {
   "cell_type": "code",
   "execution_count": 21,
   "id": "330be4bb-889a-4580-8beb-69e5b1d323a4",
   "metadata": {},
   "outputs": [
    {
     "name": "stdout",
     "output_type": "stream",
     "text": [
      "A: {0, 1, 2} \n",
      "B: {0, 1, 2}\n",
      "A > B: False\n",
      "A < B: False\n"
     ]
    }
   ],
   "source": [
    "A = {_ for _ in range(0,3)}\n",
    "B = {_ for _ in range(0,3)}\n",
    "print(\"A:\", A, \"\\nB:\", B)\n",
    "print(\"A > B:\", A > B)\n",
    "print(\"A < B:\", A < B)"
   ]
  },
  {
   "cell_type": "code",
   "execution_count": 22,
   "id": "56a78001-58c5-4a8a-9112-ea6f17cf11d8",
   "metadata": {},
   "outputs": [
    {
     "name": "stdout",
     "output_type": "stream",
     "text": [
      "A: {0, 1, 2} \n",
      "B: {0, 1}\n",
      "A > B: True\n",
      "A < B: False\n"
     ]
    }
   ],
   "source": [
    "A = {_ for _ in range(0,3)}\n",
    "B = {_ for _ in range(0,2)}\n",
    "print(\"A:\", A, \"\\nB:\", B)\n",
    "print(\"A > B:\", A > B)\n",
    "print(\"A < B:\", A < B)"
   ]
  },
  {
   "cell_type": "markdown",
   "id": "5ad29594-e29b-422c-8d33-72d2bd309d3e",
   "metadata": {
    "tags": []
   },
   "source": [
    "## 18) 세트 자료형 - 같다 =="
   ]
  },
  {
   "cell_type": "code",
   "execution_count": 23,
   "id": "e88b1e28-f375-4006-aa2b-fef3780e9596",
   "metadata": {},
   "outputs": [
    {
     "name": "stdout",
     "output_type": "stream",
     "text": [
      "A: {0, 1, 2} \n",
      "B: {0, 1, 2}\n",
      "A == B: True\n"
     ]
    }
   ],
   "source": [
    "A = {_ for _ in range(0,3)}\n",
    "B = {_ for _ in range(0,3)}\n",
    "print(\"A:\", A, \"\\nB:\", B)\n",
    "print(\"A == B:\", A == B)"
   ]
  },
  {
   "cell_type": "markdown",
   "id": "f133afb5-25b6-4a33-ba90-1d36143c226e",
   "metadata": {
    "tags": []
   },
   "source": [
    "## 19) 세트 자료형 - 세트가 겹치치 않는지 확인 isdisjoint()"
   ]
  },
  {
   "cell_type": "code",
   "execution_count": 25,
   "id": "e2b1116d-7efc-49fa-8a4b-3dfe47e301ac",
   "metadata": {},
   "outputs": [
    {
     "name": "stdout",
     "output_type": "stream",
     "text": [
      "A: {0, 1, 2} \n",
      "B: {3, 4, 5}\n",
      "A isdisjoint B: True\n"
     ]
    }
   ],
   "source": [
    "A = {_ for _ in range(0,3)}\n",
    "B = {_ for _ in range(3,6)}\n",
    "print(\"A:\", A, \"\\nB:\", B)\n",
    "print(\"A isdisjoint B:\", A.isdisjoint(B))"
   ]
  },
  {
   "cell_type": "code",
   "execution_count": 26,
   "id": "71919e9a-e046-4bf2-ba7c-845618feca07",
   "metadata": {},
   "outputs": [
    {
     "data": {
      "text/plain": [
       "{1, 2, 3, 4}"
      ]
     },
     "execution_count": 26,
     "metadata": {},
     "output_type": "execute_result"
    }
   ],
   "source": [
    "# 연습 문제\n",
    "list_sample = [1,2,2,3,3,3,4,4,4,4]\n",
    "set(list_sample)"
   ]
  },
  {
   "cell_type": "code",
   "execution_count": 7,
   "id": "1311cd1c-f42d-4042-9ffa-b60d8e32a29c",
   "metadata": {},
   "outputs": [
    {
     "name": "stdout",
     "output_type": "stream",
     "text": [
      "{75, 45, 15, 90, 60, 30}\n"
     ]
    }
   ],
   "source": [
    "# 연습 문제\n",
    "set_3 = {i for i in range(1,101) if i % 3 == 0}\n",
    "set_5 = {i for i in range(1,101) if i % 5 == 0}\n",
    "\n",
    "result_set = set_3 & set_5\n",
    "print(result_set)\n",
    "\n",
    "#풀이\n",
    "result_set = set.intersection(set_3,set_5)\n",
    "print(result_set)"
   ]
  },
  {
   "cell_type": "code",
   "execution_count": 26,
   "id": "7c5e97fd-6645-4b7b-9334-ceb52f402e03",
   "metadata": {},
   "outputs": [
    {
     "name": "stdout",
     "output_type": "stream",
     "text": [
      "구매 관리, 근태 관리, 회계 관리, 개인정보 조회, 인사 관리, 시스템 관리\n",
      "구매 관리 근태 관리 회계 관리 개인정보 조회 인사 관리 시스템 관리 "
     ]
    }
   ],
   "source": [
    "# 연습문제\n",
    "role_admin = (\"회계 관리\", \"인사 관리\", \"구매 관리\", \"시스템 관리\")\n",
    "role_hr = (\"인사 관리\", \"개인정보 조회\", \"회계 관리\", \"근태 관리\")\n",
    "role_user = (\"개인정보 조회\", \"근태 관리\")\n",
    "\n",
    "role_result = role_admin + role_hr + role_user\n",
    "set_role_result = set(role_result)\n",
    "list_set_role_result = list(set_role_result)\n",
    "\n",
    "print(*list_set_role_result, sep = \", \")\n",
    "    \n",
    "# 풀이\n",
    "menus = list(set(role_admin + role_hr + role_user))\n",
    "menus.sort()\n",
    "end_char = \", \"\n",
    "for menu in menus:\n",
    "    if menus[-1] == menu:\n",
    "        end_char = \" \"\n",
    "    print(menu, end = end_char)"
   ]
  },
  {
   "cell_type": "code",
   "execution_count": null,
   "id": "13b2ada0-24ac-47bf-ae05-3c92f7eec2bd",
   "metadata": {},
   "outputs": [],
   "source": []
  }
 ],
 "metadata": {
  "kernelspec": {
   "display_name": "Python 3 (ipykernel)",
   "language": "python",
   "name": "python3"
  },
  "language_info": {
   "codemirror_mode": {
    "name": "ipython",
    "version": 3
   },
   "file_extension": ".py",
   "mimetype": "text/x-python",
   "name": "python",
   "nbconvert_exporter": "python",
   "pygments_lexer": "ipython3",
   "version": "3.9.13"
  }
 },
 "nbformat": 4,
 "nbformat_minor": 5
}
